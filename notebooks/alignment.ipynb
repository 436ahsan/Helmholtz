{
 "cells": [
  {
   "cell_type": "markdown",
   "id": "failing-perfume",
   "metadata": {},
   "source": [
    "# Coarse Variable Alignment"
   ]
  },
  {
   "cell_type": "code",
   "execution_count": null,
   "id": "fatal-bride",
   "metadata": {},
   "outputs": [],
   "source": [
    "import collections\n",
    "import logging\n",
    "import numpy as np\n",
    "import matplotlib.pyplot as plt\n",
    "import helmholtz as hm\n",
    "import helmholtz.analysis\n",
    "import pandas as pd\n",
    "import scipy.sparse\n",
    "import sklearn.metrics.pairwise\n",
    "import sys\n",
    "from numpy.ma.testutils import assert_array_almost_equal\n",
    "from scipy.linalg import eig, norm, svd\n",
    "from scipy.sparse.linalg import eigs\n",
    "from scipy import optimize\n",
    "import sklearn.metrics.pairwise\n",
    "\n",
    "%load_ext autoreload\n",
    "%autoreload 2\n",
    "\n",
    "np.set_printoptions(linewidth=500, precision=3, suppress=True, threshold=100000)\n",
    "for handler in logging.root.handlers[:]: logging.root.removeHandler(handler)\n",
    "logging.basicConfig(stream=sys.stdout, level=logging.INFO, format=\"%(levelname)-8s %(message)s\",\n",
    "                    datefmt=\"%a, %d %b %Y %H:%M:%S\")\n",
    "\n",
    "pd.set_option('display.max_rows', 500)\n",
    "pd.set_option('display.max_columns', 500)\n",
    "pd.set_option('display.width', 1000)\n",
    "pd.options.display.float_format = \"{:,.2f}\".format\n",
    "\n",
    "logger = logging.getLogger(\"main\")\n",
    "_LOGGER = logger"
   ]
  },
  {
   "cell_type": "code",
   "execution_count": null,
   "id": "0f9b2189-884f-422b-97e9-2b2216f795e9",
   "metadata": {},
   "outputs": [],
   "source": [
    "def get_test_matrix(a, n, num_sweeps, num_examples: int = None):\n",
    "    level = hm.repetitive.hierarchy.create_finest_level(a)\n",
    "    x = hm.solve.run.random_test_matrix((n,), num_examples=num_examples)\n",
    "    b = np.zeros_like(x)\n",
    "    x, _ = hm.solve.run.run_iterative_method(level.operator, lambda x: level.relax(x, b), x, num_sweeps=num_sweeps)\n",
    "    return x\n",
    "\n",
    "def rotation(t):\n",
    "    c, s = np.cos(t), np.sin(t)\n",
    "    return np.array([[c, s], [-s, c]])\n",
    "\n",
    "def get_local_rotation_min_function(X, Y, t, scale=False, p=2):\n",
    "    if scale:\n",
    "        scale_x = (0.5 * (norm(X[:, 0]) + norm(X[:, 1]))) ** 0.5\n",
    "        scale0 = norm(Y[:, 0]) ** 2 * scale_x\n",
    "        scale1 = norm(Y[:, 1]) ** 2 * scale_x\n",
    "    else:\n",
    "        scale0 = scale1 = 1\n",
    "    return \\\n",
    "        norm( np.cos(t) * X[0] + np.sin(t) * X[1] - Y[0]) ** p / scale0 + \\\n",
    "        norm(-np.sin(t) * X[0] + np.cos(t) * X[1] - Y[1]) ** p / scale1\n",
    "\n",
    "def get_local_rotation_angle(X, Y):\n",
    "    return optimize.minimize_scalar(lambda t: get_local_rotation_min_function(X, Y, t),\n",
    "                                    bounds=(-np.pi, np.pi), method='brent').x\n",
    "\n",
    "def get_local_rotation_angles(xc, n, aggregate_size, nc):\n",
    "    num_coarse = nc * (n // aggregate_size)\n",
    "    return np.array([get_local_rotation_angle(xc[i:i + nc], xc[np.arange(i + nc, i + 2 * nc) % num_coarse])\n",
    "                     for i in range(0, num_coarse, nc)])"
   ]
  },
  {
   "cell_type": "markdown",
   "id": "59a3ef68-abf7-4b08-bbd2-3f8d99b720c2",
   "metadata": {},
   "source": [
    "## Problem Parameters"
   ]
  },
  {
   "cell_type": "code",
   "execution_count": null,
   "id": "7ff77288-8490-4453-b037-7975513e99e1",
   "metadata": {},
   "outputs": [],
   "source": [
    "n = 64\n",
    "kh = 0.5\n",
    "num_examples = 20\n",
    "num_sweeps = 80\n",
    "\n",
    "np.random.seed(0)\n",
    "a = hm.linalg.helmholtz_1d_operator(kh, n).tocsr()\n",
    "level = hm.repetitive.hierarchy.create_finest_level(a)"
   ]
  },
  {
   "cell_type": "markdown",
   "id": "1a2fbd3e-e669-46f4-a24b-58e905107735",
   "metadata": {},
   "source": [
    "## Ideal Test Functions\n",
    "Use $\\cos(k' x), sin(k' x)$ where $k'$ is periodic over the domain with the smallest residual (i.e., the smallest-eigenvalue-magnitude eigenvector)."
   ]
  },
  {
   "cell_type": "code",
   "execution_count": null,
   "id": "f108488d-3e7b-4c18-9d8b-8150dae72375",
   "metadata": {},
   "outputs": [],
   "source": [
    "def fourier_component(n, l, shift=0, kind=0):\n",
    "    L = n\n",
    "    h = 1\n",
    "    x = np.linspace(0, L - h, n)\n",
    "    theta = 2 * np.pi * l / n\n",
    "    func = np.cos if kind == 0 else np.sin\n",
    "    return func(theta * (x + shift) / h)\n",
    "\n",
    "print(\"Continuous kh\", kh, \"wavelength\", (2 * np.pi) / kh)\n",
    "\n",
    "# Smallest eigenvectors by eigendecomposition of A^h.\n",
    "X, lam = helmholtz.analysis.ideal.ideal_tv(a, 2)\n",
    "print(\"Discrete Eigen lam\", lam[:8])\n",
    "\n",
    "# Smallest eigenvector by Fourier analysis.\n",
    "t = (2 * np.pi / n) * np.arange(-n // 2, n // 2)\n",
    "L0 = (kh)**2 - t ** 2\n",
    "# 2nd order FD discretization.\n",
    "Lh = (kh)**2 + (-2 + 2*np.cos(t))\n",
    "# 4th order FD discretization.\n",
    "# Lh = (kh)**2 + (-30 + 32*np.cos(t) - 2*np.cos(2*t)) / 12\n",
    "\n",
    "ind = np.argmin(np.abs(Lh))\n",
    "\n",
    "l = ind - n // 2\n",
    "v0 = fourier_component(n, l, kind=0)\n",
    "v1 = fourier_component(n, l, kind=1)\n",
    "print(\"Discrete LFA\", \"l\", l, \"ind\", ind, \"theta\", t[ind], \"wavelenth\", \n",
    "      (2 * np.pi) / np.abs(t[ind]), n / np.abs(l), \"Lh\", Lh[ind], \n",
    "      \"RQ\", v0.dot(a.dot(v0)) / (v0.dot(v0)), \"RQ\", v1.dot(a.dot(v1)) / (v1.dot(v1)))\n",
    "\n",
    "# Generate TVs by translating the 2 smallest eigenvectors by random shifts.\n",
    "wavelength = n / np.abs(l)\n",
    "x = []\n",
    "shifts = [0] + wavelength * np.random.random(size=num_examples // 2)\n",
    "print(wavelength, shifts)\n",
    "for shift in shifts:\n",
    "    x.append(fourier_component(n, l, shift, kind=0))\n",
    "    x.append(fourier_component(n, l, shift, kind=1))\n",
    "x = np.array(x).transpose()\n",
    "\n",
    "fig, axs = plt.subplots(1, 3, figsize=(14, 4))\n",
    "ax = axs[0]\n",
    "ax.plot(t, L0, label=\"$\\hat{L}$\")\n",
    "ax.plot(t, Lh, label=\"$\\hat{L}^h$\")\n",
    "ax.legend();\n",
    "ax.set_title(\"Symbol\")\n",
    "ax.grid(True);\n",
    "\n",
    "ax = axs[1]\n",
    "L = n\n",
    "h = 1\n",
    "x_coord = np.linspace(0, L - h, n)\n",
    "ax.plot(x_coord, v0);\n",
    "ax.plot(x_coord, v1);\n",
    "ax.set_title(\"Fourier Components\")\n",
    "ax.grid(True);\n",
    "\n",
    "ax = axs[2]\n",
    "ax.set_title(\"Smallest Eigenvectors\")\n",
    "ax.plot(X[:, 0])\n",
    "ax.plot(X[:, 1])\n",
    "ax.grid(True);"
   ]
  },
  {
   "cell_type": "code",
   "execution_count": null,
   "id": "2c22dcfe-09fe-436f-a46a-b56b127210ce",
   "metadata": {},
   "outputs": [],
   "source": [
    "# Generate relaxed test matrix.\n",
    "x = get_test_matrix(a, n, num_sweeps, num_examples=20)"
   ]
  },
  {
   "cell_type": "markdown",
   "id": "ab5f9bec-6728-4e20-b314-7c701980d15f",
   "metadata": {},
   "source": [
    "## Create a Coarsening Matrix $R$"
   ]
  },
  {
   "cell_type": "code",
   "execution_count": null,
   "id": "ca363760-f09e-4ea3-9c3e-81aadf98c2ab",
   "metadata": {},
   "outputs": [],
   "source": [
    "# Use only the first 4 vectors to extract windows. Should suffice for this large n.\n",
    "x_windows = x[:, :4]\n",
    "# Calculate mock cycle predicted efficiency.\n",
    "aggregate_size_values = np.array([2, 4, 6])\n",
    "max_conv_factor = 0.3\n",
    "coarsener = hm.setup.coarsening_uniform.UniformCoarsener(level, x_windows, aggregate_size_values, 4, repetitive=True)\n",
    "r, aggregate_size, nc = coarsener.get_optimal_coarsening(max_conv_factor, aggregate_size=4)[:3]\n",
    "print(\"Coarsening\", \"a\", aggregate_size, \"nc\", nc)\n",
    "xc = r.dot(x)"
   ]
  },
  {
   "cell_type": "code",
   "execution_count": null,
   "id": "11a55a81-a33e-4c19-9460-6642fea1ffbd",
   "metadata": {},
   "outputs": [],
   "source": [
    "fig, axs = plt.subplots(1, 2, figsize=(14, 4))\n",
    "\n",
    "ax = axs[0]\n",
    "for i in range(2):\n",
    "    ax.plot(x[:, i])\n",
    "ax.grid(True);\n",
    "ax.set_title(\"x\")\n",
    "\n",
    "ax = axs[1]\n",
    "for i in range(2):\n",
    "    ax.plot(xc[:, i])\n",
    "ax.set_title(\"x^c\")\n",
    "ax.grid(True);"
   ]
  },
  {
   "cell_type": "code",
   "execution_count": null,
   "id": "f105f81a-a16e-44d9-abc3-e5d7ca16855b",
   "metadata": {},
   "outputs": [],
   "source": [
    "pd.DataFrame(r[:5,:10].todense())"
   ]
  },
  {
   "cell_type": "markdown",
   "id": "a77430a1-a90b-4439-bffd-087b39705fa6",
   "metadata": {},
   "source": [
    "## Find Neighbor Rotations $\\phi_i := \\theta_{i,i+1}$\n",
    "For each aggregate pair $(i,j)$, with test matrices $X$ and $Y$ of size $2 \\times s$, respectively, where $s$ is the number of test vectors, we can define an optimal neighbor rotation angle $\\theta_{i,j}$ that minimizes\n",
    "\n",
    "$$ \\theta_{i,j} = argmin_{\\theta} f(\\theta), f(\\theta) := \\frac12 \\left\\{ \\|\\cos(\\theta) X_0 + \\sin(\\theta) X_1 - Y_0 \\|_2^2 + \\|-\\sin(\\theta) X_0 + \\cos(\\theta) X_1 - Y_1\\|_2^2 \\right\\}. $$\n",
    "\n",
    "Here $Z_j$ is the $j$th row of $Z$, $Z=X,Y, j=0,1$.\n",
    "\n",
    "The minimization function $f$ seems to have a unique minimum in $[0, 2 \\pi)$."
   ]
  },
  {
   "cell_type": "code",
   "execution_count": null,
   "id": "dea7ef09-e19f-4c81-8b62-5a58d7d35727",
   "metadata": {},
   "outputs": [],
   "source": [
    "# Number of aggregates.\n",
    "N = n // aggregate_size\n",
    "# Number of coarse variables.\n",
    "num_coarse = nc * N\n",
    "p = 2\n",
    "\n",
    "phi = []\n",
    "for j, i in enumerate(range(0, num_coarse, nc)):\n",
    "    X, Y = xc[i:i + nc], xc[np.arange(i + nc, i + 2*nc) % num_coarse]\n",
    "    \n",
    "    f = lambda t: get_local_rotation_min_function(X, Y, t, scale=False, p=p)\n",
    "    tmin = optimize.minimize_scalar(f, bounds=(-np.pi, np.pi), method='brent').x % (2 * np.pi)\n",
    "    #tmin = optimize.shgo(f, [(-np.pi, np.pi)], sampling_method='sobol').x[0]\n",
    "    f0 = f(0)\n",
    "    fmin = f(tmin)\n",
    "\n",
    "    norm_before = norm(xc[i:i + nc] - xc[np.arange(i + nc, i + 2*nc) % num_coarse], axis=1) #** 2\n",
    "    print(\"{:<2d} {:<+3f} {:2e} {:2e} ({:2f}) {}\".format(i, tmin, f0, fmin, f0 / fmin,\n",
    "                                                        norm_before))\n",
    "    phi.append(tmin)\n",
    "phi = np.array(phi)"
   ]
  },
  {
   "cell_type": "markdown",
   "id": "e521a6fc-902f-4eb3-8a78-b26e50455509",
   "metadata": {},
   "source": [
    "We see a large reduction in the function value.\n",
    "Note that $\\sum_i \\phi_i mod (2 \\pi)$ is close to $0$, but not very close."
   ]
  },
  {
   "cell_type": "code",
   "execution_count": null,
   "id": "965a4ac0-eb9b-410c-917d-36979b53e08e",
   "metadata": {},
   "outputs": [],
   "source": [
    "phi[0] -= (2*np.pi) * np.round(phi.sum() / (2*np.pi))\n",
    "print(phi)\n",
    "print(phi.sum() / (2*np.pi))"
   ]
  },
  {
   "cell_type": "code",
   "execution_count": null,
   "id": "3101a3b4-3a9b-489f-a55a-77ed41585dc9",
   "metadata": {},
   "outputs": [],
   "source": [
    "t = np.linspace(0, 2 * np.pi, 100)\n",
    "for j, i in enumerate(range(0, num_coarse, nc)):\n",
    "    f = lambda t: get_local_rotation_min_function(\n",
    "        xc[i:i + nc], xc[np.arange(i + nc, i + 2*nc) % num_coarse], t, scale=False, p=p)\n",
    "    if j < 3:\n",
    "        plt.plot(t, np.array([f(theta) for theta in t]), label=\"Agg {}\".format(j))\n",
    "plt.grid(True);\n",
    "plt.legend();\n",
    "#phi = get_local_rotation_angles(xc, n, aggregate_size, nc)"
   ]
  },
  {
   "cell_type": "markdown",
   "id": "1e18fe94-a1f7-45a7-9f2a-405db9bbae37",
   "metadata": {},
   "source": [
    "## Find Aggregate Rotations $\\theta_{i}$\n",
    "Solve\n",
    "\n",
    "$$ \\min_{\\theta} \\frac12 \\sum_{i=0}^{N-1} \\left(\\theta_{i} - \\theta_{i+1} - \\phi_{i} \\right)^2\\, $$\n",
    "which is equivalent to the Poisson linear system\n",
    "$$ -\\theta_{i-1} + 2 \\theta_i - \\theta_{i+1} = \\phi_{i} - \\phi_{i-1}, \\qquad i = 0,\\dots, N-1\\,, $$\n",
    "\n",
    "where $N$ = number of aggregates. $i$ is the (cyclic/periodic) aggregate index.\n",
    "\n",
    "In this case, since $\\sum_i \\phi_i \\approx 0$, this can be solved almost exactly (i.e., the minimum is $0$) with $\\theta_{i+1} = \\theta_{i} - \\phi_i$. Only the last equation (for $i=n-1$) is not satisfied in this case."
   ]
  },
  {
   "cell_type": "code",
   "execution_count": 379,
   "id": "b427718f-f555-4f24-8e15-f37d9a72e126",
   "metadata": {},
   "outputs": [],
   "source": [
    "# print(\"N\", N)\n",
    "# print(\"phi\", phi)\n",
    "# a = hm.linalg.sparse_circulant(np.array([-1, 2, -1]), np.array([-1, 0, 1]), N).tocsr()\n",
    "# b = phi - np.roll(phi, 1)\n",
    "# t = scipy.sparse.linalg.spsolve(a, b)\n",
    "# print(\"t\", t)\n",
    "# print(\"LS residual\", t - np.roll(t, -1) - phi)\n",
    "# print(\"Poisson residual\", -np.roll(t, 1) + 2 * t - np.roll(t, -1) - (phi - np.roll(phi, 1)))\n",
    "# # print(t.sum() / (2*np.pi))"
   ]
  },
  {
   "cell_type": "code",
   "execution_count": 380,
   "id": "ce196077-aa69-45f0-989d-7c76dbc18c42",
   "metadata": {},
   "outputs": [
    {
     "name": "stdout",
     "output_type": "stream",
     "text": [
      "phi [-65.087   4.37    4.172   4.019   4.379   4.172   4.507   4.156   4.669   4.147   4.253   4.058   4.541   3.938   4.214   4.312]\n",
      "t [ 0.    65.087 60.717 56.545 52.526 48.148 43.975 39.468 35.313 30.644 26.497 22.244 18.186 13.645  9.707  5.492]\n",
      "LS residual [ 0.     0.    -0.     0.     0.    -0.    -0.     0.    -0.    -0.    -0.     0.     0.     0.     0.     1.181]\n",
      "Poisson residual [-1.181  0.    -0.     0.     0.    -0.     0.     0.    -0.     0.    -0.     0.     0.     0.    -0.     1.181]\n",
      "Apply linear correction\n",
      "t [ 0.    65.013 60.569 56.323 52.231 47.779 43.532 38.952 34.722 29.98  25.759 21.432 17.3   12.686  8.674  4.386]\n",
      "LS residual [0.074 0.074 0.074 0.074 0.074 0.074 0.074 0.074 0.074 0.074 0.074 0.074 0.074 0.074 0.074 0.074]\n",
      "Poisson residual [ 0.  0. -0.  0.  0. -0.  0.  0. -0.  0. -0.  0.  0.  0. -0.  0.]\n"
     ]
    }
   ],
   "source": [
    "# A simple way to solve the equations is to set theta to the cumulative sum of phi's, which solves\n",
    "# all equations except the last, then apply a linear correction that \"fixes\" that equation.\n",
    "print(\"phi\", phi)\n",
    "t = np.concatenate(([0], -np.cumsum(phi)[:-1]))\n",
    "print(\"t\", t) # % (2 * np.pi))\n",
    "\n",
    "print(\"LS residual\", t - np.roll(t, -1) - phi)\n",
    "print(\"Poisson residual\", -np.roll(t, 1) + 2 * t - np.roll(t, -1) - (phi - np.roll(phi, 1)))\n",
    "\n",
    "print(\"Apply linear correction\")\n",
    "c = (phi[-1] - phi[-2] - (-t[-2] + 2 * t[-1] - t[0])) / N\n",
    "t += c * np.arange(N)\n",
    "print(\"t\", t) # % (2 * np.pi))\n",
    "print(\"LS residual\", t - np.roll(t, -1) - phi)\n",
    "print(\"Poisson residual\", -np.roll(t, 1) + 2 * t - np.roll(t, -1) - (phi - np.roll(phi, 1)))"
   ]
  },
  {
   "cell_type": "markdown",
   "id": "98c4df5a-6c0b-444c-ade9-f89a83696abd",
   "metadata": {},
   "source": [
    "## Effect on Neighbor Distances\n",
    "We measure the $L_2$ differences between corresponding coarse variables in neighboring aggregates before and before and after alighment."
   ]
  },
  {
   "cell_type": "code",
   "execution_count": 381,
   "id": "feda96a4-4bcd-49b8-97e0-378e43f6e324",
   "metadata": {},
   "outputs": [
    {
     "data": {
      "text/html": [
       "<div>\n",
       "<style scoped>\n",
       "    .dataframe tbody tr th:only-of-type {\n",
       "        vertical-align: middle;\n",
       "    }\n",
       "\n",
       "    .dataframe tbody tr th {\n",
       "        vertical-align: top;\n",
       "    }\n",
       "\n",
       "    .dataframe thead th {\n",
       "        text-align: right;\n",
       "    }\n",
       "</style>\n",
       "<table border=\"1\" class=\"dataframe\">\n",
       "  <thead>\n",
       "    <tr style=\"text-align: right;\">\n",
       "      <th></th>\n",
       "      <th>0</th>\n",
       "      <th>1</th>\n",
       "      <th>2</th>\n",
       "      <th>3</th>\n",
       "      <th>4</th>\n",
       "      <th>5</th>\n",
       "      <th>6</th>\n",
       "      <th>7</th>\n",
       "      <th>8</th>\n",
       "      <th>9</th>\n",
       "    </tr>\n",
       "  </thead>\n",
       "  <tbody>\n",
       "    <tr>\n",
       "      <th>0</th>\n",
       "      <td>1.00</td>\n",
       "      <td>0.00</td>\n",
       "      <td>0.00</td>\n",
       "      <td>0.00</td>\n",
       "      <td>0.00</td>\n",
       "      <td>0.00</td>\n",
       "      <td>0.00</td>\n",
       "      <td>0.00</td>\n",
       "      <td>0.00</td>\n",
       "      <td>0.00</td>\n",
       "    </tr>\n",
       "    <tr>\n",
       "      <th>1</th>\n",
       "      <td>0.00</td>\n",
       "      <td>1.00</td>\n",
       "      <td>0.00</td>\n",
       "      <td>0.00</td>\n",
       "      <td>0.00</td>\n",
       "      <td>0.00</td>\n",
       "      <td>0.00</td>\n",
       "      <td>0.00</td>\n",
       "      <td>0.00</td>\n",
       "      <td>0.00</td>\n",
       "    </tr>\n",
       "    <tr>\n",
       "      <th>2</th>\n",
       "      <td>0.00</td>\n",
       "      <td>0.00</td>\n",
       "      <td>-0.57</td>\n",
       "      <td>0.82</td>\n",
       "      <td>0.00</td>\n",
       "      <td>0.00</td>\n",
       "      <td>0.00</td>\n",
       "      <td>0.00</td>\n",
       "      <td>0.00</td>\n",
       "      <td>0.00</td>\n",
       "    </tr>\n",
       "    <tr>\n",
       "      <th>3</th>\n",
       "      <td>0.00</td>\n",
       "      <td>0.00</td>\n",
       "      <td>-0.82</td>\n",
       "      <td>-0.57</td>\n",
       "      <td>0.00</td>\n",
       "      <td>0.00</td>\n",
       "      <td>0.00</td>\n",
       "      <td>0.00</td>\n",
       "      <td>0.00</td>\n",
       "      <td>0.00</td>\n",
       "    </tr>\n",
       "    <tr>\n",
       "      <th>4</th>\n",
       "      <td>0.00</td>\n",
       "      <td>0.00</td>\n",
       "      <td>0.00</td>\n",
       "      <td>0.00</td>\n",
       "      <td>-0.64</td>\n",
       "      <td>-0.77</td>\n",
       "      <td>0.00</td>\n",
       "      <td>0.00</td>\n",
       "      <td>0.00</td>\n",
       "      <td>0.00</td>\n",
       "    </tr>\n",
       "    <tr>\n",
       "      <th>5</th>\n",
       "      <td>0.00</td>\n",
       "      <td>0.00</td>\n",
       "      <td>0.00</td>\n",
       "      <td>0.00</td>\n",
       "      <td>0.77</td>\n",
       "      <td>-0.64</td>\n",
       "      <td>0.00</td>\n",
       "      <td>0.00</td>\n",
       "      <td>0.00</td>\n",
       "      <td>0.00</td>\n",
       "    </tr>\n",
       "    <tr>\n",
       "      <th>6</th>\n",
       "      <td>0.00</td>\n",
       "      <td>0.00</td>\n",
       "      <td>0.00</td>\n",
       "      <td>0.00</td>\n",
       "      <td>0.00</td>\n",
       "      <td>0.00</td>\n",
       "      <td>0.97</td>\n",
       "      <td>-0.22</td>\n",
       "      <td>0.00</td>\n",
       "      <td>0.00</td>\n",
       "    </tr>\n",
       "    <tr>\n",
       "      <th>7</th>\n",
       "      <td>0.00</td>\n",
       "      <td>0.00</td>\n",
       "      <td>0.00</td>\n",
       "      <td>0.00</td>\n",
       "      <td>0.00</td>\n",
       "      <td>0.00</td>\n",
       "      <td>0.22</td>\n",
       "      <td>0.97</td>\n",
       "      <td>0.00</td>\n",
       "      <td>0.00</td>\n",
       "    </tr>\n",
       "    <tr>\n",
       "      <th>8</th>\n",
       "      <td>0.00</td>\n",
       "      <td>0.00</td>\n",
       "      <td>0.00</td>\n",
       "      <td>0.00</td>\n",
       "      <td>0.00</td>\n",
       "      <td>0.00</td>\n",
       "      <td>0.00</td>\n",
       "      <td>0.00</td>\n",
       "      <td>-0.38</td>\n",
       "      <td>0.92</td>\n",
       "    </tr>\n",
       "    <tr>\n",
       "      <th>9</th>\n",
       "      <td>0.00</td>\n",
       "      <td>0.00</td>\n",
       "      <td>0.00</td>\n",
       "      <td>0.00</td>\n",
       "      <td>0.00</td>\n",
       "      <td>0.00</td>\n",
       "      <td>0.00</td>\n",
       "      <td>0.00</td>\n",
       "      <td>-0.92</td>\n",
       "      <td>-0.38</td>\n",
       "    </tr>\n",
       "  </tbody>\n",
       "</table>\n",
       "</div>"
      ],
      "text/plain": [
       "     0    1     2     3     4     5    6     7     8     9\n",
       "0 1.00 0.00  0.00  0.00  0.00  0.00 0.00  0.00  0.00  0.00\n",
       "1 0.00 1.00  0.00  0.00  0.00  0.00 0.00  0.00  0.00  0.00\n",
       "2 0.00 0.00 -0.57  0.82  0.00  0.00 0.00  0.00  0.00  0.00\n",
       "3 0.00 0.00 -0.82 -0.57  0.00  0.00 0.00  0.00  0.00  0.00\n",
       "4 0.00 0.00  0.00  0.00 -0.64 -0.77 0.00  0.00  0.00  0.00\n",
       "5 0.00 0.00  0.00  0.00  0.77 -0.64 0.00  0.00  0.00  0.00\n",
       "6 0.00 0.00  0.00  0.00  0.00  0.00 0.97 -0.22  0.00  0.00\n",
       "7 0.00 0.00  0.00  0.00  0.00  0.00 0.22  0.97  0.00  0.00\n",
       "8 0.00 0.00  0.00  0.00  0.00  0.00 0.00  0.00 -0.38  0.92\n",
       "9 0.00 0.00  0.00  0.00  0.00  0.00 0.00  0.00 -0.92 -0.38"
      ]
     },
     "execution_count": 381,
     "metadata": {},
     "output_type": "execute_result"
    }
   ],
   "source": [
    "# Global rotation matrix.\n",
    "u = scipy.sparse.block_diag(tuple(rotation(ti) for ti in t)).tocsr()\n",
    "yc = u.dot(xc)\n",
    "# Print top-left 10x10 block of U.\n",
    "pd.DataFrame(u.todense()[:10, :10])"
   ]
  },
  {
   "cell_type": "code",
   "execution_count": 382,
   "id": "4ff1b409-d8de-41d1-b2c4-31d2eb89ae4a",
   "metadata": {},
   "outputs": [
    {
     "name": "stdout",
     "output_type": "stream",
     "text": [
      "Aggregate 0 before [0.119 0.078] after [0.041 0.019] factor [2.878 4.163]\n",
      "Aggregate 1 before [0.065 0.091] after [0.032 0.024] factor [2.022 3.753]\n",
      "Aggregate 2 before [0.112 0.044] after [0.035 0.026] factor [3.181 1.707]\n",
      "Aggregate 3 before [0.116 0.078] after [0.044 0.025] factor [2.654 3.07 ]\n",
      "Aggregate 4 before [0.094 0.088] after [0.034 0.036] factor [2.749 2.465]\n",
      "Aggregate 5 before [0.112 0.082] after [0.03  0.028] factor [3.783 2.926]\n",
      "Aggregate 6 before [0.092 0.067] after [0.043 0.027] factor [2.137 2.478]\n",
      "Aggregate 7 before [0.104 0.053] after [0.025 0.04 ] factor [4.091 1.315]\n",
      "Aggregate 8 before [0.062 0.064] after [0.038 0.031] factor [1.644 2.072]\n",
      "Aggregate 9 before [0.085 0.049] after [0.017 0.031] factor [4.932 1.602]\n",
      "Aggregate 10 before [0.08  0.058] after [0.037 0.028] factor [2.186 2.095]\n",
      "Aggregate 11 before [0.07  0.073] after [0.028 0.019] factor [2.517 3.798]\n",
      "Aggregate 12 before [0.068 0.059] after [0.028 0.036] factor [2.452 1.632]\n",
      "Aggregate 13 before [0.115 0.054] after [0.044 0.014] factor [2.595 3.97 ]\n",
      "Aggregate 14 before [0.082 0.09 ] after [0.032 0.027] factor [2.592 3.284]\n",
      "Aggregate 15 before [0.101 0.069] after [0.035 0.024] factor [2.893 2.845]\n"
     ]
    }
   ],
   "source": [
    "def nbhr_distance(X):\n",
    "    return np.array([norm(X[i:i + nc] - X[np.arange(i + nc, i + 2*nc) % num_coarse], axis=1)\n",
    "                     for i in range(0, num_coarse, nc)])\n",
    "\n",
    "# Cosine distances.\n",
    "dx = nbhr_distance(xc)\n",
    "dy = nbhr_distance(yc)\n",
    "for j in range(N):\n",
    "    print(\"Aggregate\", j, \"before\", dx[j], \"after\", dy[j], \"factor\", dx[j] / dy[j])"
   ]
  },
  {
   "cell_type": "markdown",
   "id": "c21f59e3-ca1d-4a68-9e8c-3e4e88ec2a27",
   "metadata": {},
   "source": [
    "The distances become much smaller, but are not zero, even when the TVs are very smooth.\n",
    "\n",
    "Note that the function $f$ we are minimizing is not exactly the cosine distance, since we arer not normalizing by the magnitude of $X$ and $Y$."
   ]
  },
  {
   "cell_type": "code",
   "execution_count": 383,
   "id": "adac6a8f-ae6e-4950-8c8e-38dea2400972",
   "metadata": {},
   "outputs": [],
   "source": [
    "# i = 2\n",
    "# X, Y = xc[i:i + nc], xc[np.arange(i + nc, i + 2*nc) % num_coarse]\n",
    "# f = lambda t: get_local_rotation_min_function(X, Y, t)\n",
    "# print(sum(norm(xc[l] -  xc[(l + nc) % num_coarse]) ** 2 for l in range(i, i + nc)))\n",
    "# print(sum(norm(yc[l] -  yc[(l + nc) % num_coarse]) ** 2 for l in range(i, i + nc)))\n",
    "# print(hm.linalg.pairwise_cos_similarity(xc[i, None].transpose(), xc[(i + nc) % num_coarse, None].transpose())[0, 0])\n",
    "# print(hm.linalg.pairwise_cos_similarity(yc[i, None].transpose(), yc[(i + nc) % num_coarse, None].transpose())[0, 0])"
   ]
  },
  {
   "cell_type": "code",
   "execution_count": 384,
   "id": "772e2019-9207-48d6-9c4b-09bdb9733978",
   "metadata": {},
   "outputs": [
    {
     "data": {
      "image/png": "[encoded data removed]",
      "text/plain": [
       "<Figure size 1008x288 with 2 Axes>"
      ]
     },
     "metadata": {
      "needs_background": "light"
     },
     "output_type": "display_data"
    }
   ],
   "source": [
    "fig, axs = plt.subplots(1, 2, figsize=(14, 4))\n",
    "\n",
    "k = 0\n",
    "ax = axs[0]\n",
    "ax.plot(xc[::2, k], label=\"Species 0\")\n",
    "ax.plot(xc[1::2, k], label=\"Species 1\")\n",
    "ax.legend();\n",
    "ax.set_title(\"Before Alignment\")\n",
    "ax.grid(True);\n",
    "\n",
    "ax = axs[1]\n",
    "ax.plot(yc[::2, k], label=\"Species 0\")\n",
    "ax.plot(yc[1::2, k], label=\"Species 1\")\n",
    "ax.legend();\n",
    "ax.set_title(\"After Alignment\")\n",
    "ax.grid(True);\n"
   ]
  },
  {
   "cell_type": "markdown",
   "id": "3edd1174-cc36-4858-9930-4a74dd987c42",
   "metadata": {},
   "source": [
    "The differences are reduced by a factor of $1.3-3$. Not as dramatic as for ideal test vectors, but already significant."
   ]
  }
 ],
 "metadata": {
  "hide_input": false,
  "kernelspec": {
   "display_name": "Python 3 (ipykernel)",
   "language": "python",
   "name": "python3"
  },
  "language_info": {
   "codemirror_mode": {
    "name": "ipython",
    "version": 3
   },
   "file_extension": ".py",
   "mimetype": "text/x-python",
   "name": "python",
   "nbconvert_exporter": "python",
   "pygments_lexer": "ipython3",
   "version": "3.8.0"
  }
 },
 "nbformat": 4,
 "nbformat_minor": 5
}
