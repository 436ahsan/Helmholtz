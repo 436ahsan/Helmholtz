{
 "cells": [
  {
   "cell_type": "markdown",
   "id": "failing-perfume",
   "metadata": {},
   "source": [
    "# Two-level AMG+ for 1D Laplace / Repetitive\n",
    "* Constant $k = 0$.\n",
    "* Discretization: 5-point (4th order).\n",
    "* Kaczmarz relaxation.\n",
    "* Fixed-domain problem; repetitive, so we sample windows from a test vector.\n",
    "* Using ideal TVs.\n",
    "* Interpolation LS fitting is weighted by $\\|A x^{(k)}\\|^{-1}$, where $k$ runs over test functions, and the norm is local (over 3 aggregates when fitting interpolation in an aggregate). This forces the interpolation row sums to be $1$, as the constant null-space vector has infinite LS weight. Thus $A^c$ is exactly singular and $b^c$ is exactly compatible with it at the coarse level in the cycle."
   ]
  },
  {
   "cell_type": "code",
   "execution_count": 71,
   "id": "fatal-bride",
   "metadata": {},
   "outputs": [],
   "source": [
    "%run /Users/olivne/helmholtz/src/helmholtz/startup.ipy"
   ]
  },
  {
   "cell_type": "code",
   "execution_count": 72,
   "id": "ca363760-f09e-4ea3-9c3e-81aadf98c2ab",
   "metadata": {},
   "outputs": [
    {
     "name": "stdout",
     "output_type": "stream",
     "text": [
      "INFO     kh 0\n"
     ]
    }
   ],
   "source": [
    "# Fixed seed for reproducible results.\n",
    "np.random.seed(1)\n",
    "\n",
    "# Domain size.\n",
    "n = 96\n",
    "# Scaled wave number. Fit so lam_min = 0 (integer # periods in domain).\n",
    "discretization = \"5-point\"\n",
    "kh = 0\n",
    "#kh = helmholtz.analysis.ideal.find_singular_kh(discretization, n)[0]\n",
    "\n",
    "repetitive = True\n",
    "\n",
    "# Test vectors.\n",
    "ideal_tv = True # False    # Use eigenvectors or not.\n",
    "# Number of test vectors.  \n",
    "num_examples = 2\n",
    "# Set # sweeps manually here.\n",
    "num_sweeps_on_vectors = 1000 # None\n",
    "threshold = 0.1\n",
    "\n",
    "# Boottstrapping parameters.\n",
    "interpolation_method = \"ls\"\n",
    "fit_scheme = \"ridge\"\n",
    "weighted = True\n",
    "neighborhood = \"extended\" #\"aggregate\" # \"extended\"\n",
    "num_test_examples = 5\n",
    "leeway_factor = 1.3\n",
    "\n",
    "_LOGGER.info(\"kh {}\".format(kh))"
   ]
  },
  {
   "cell_type": "markdown",
   "id": "09e51279-8734-442c-88db-462f5b1edaab",
   "metadata": {},
   "source": [
    "## Level 0->1 Coarsening"
   ]
  },
  {
   "cell_type": "code",
   "execution_count": 73,
   "id": "8cd63abe-591b-4579-a358-d0e9ae6863f4",
   "metadata": {},
   "outputs": [],
   "source": [
    "# Create fine-level matrix.\n",
    "a = hm.linalg.helmholtz_1d_discrete_operator(kh, discretization, n)\n",
    "# Use default = Kacmzarz relaxation for kh != 0.\n",
    "level = hm.setup.hierarchy.create_finest_level(a,  relaxer=hm.solve.relax.GsRelaxer(a) if kh == 0 else None)\n",
    "\n",
    "# Initialize hierarchy to 1-level.\n",
    "finest = 0\n",
    "multilevel = hm.setup.hierarchy.multilevel.Multilevel.create(level)\n",
    "\n",
    "# TV and TV residual history.\n",
    "x_log = []\n",
    "r_log = []"
   ]
  },
  {
   "cell_type": "markdown",
   "id": "10a77b33-41f8-4b8e-b930-b1111f783374",
   "metadata": {},
   "source": [
    "### Relaxation"
   ]
  },
  {
   "cell_type": "code",
   "execution_count": 74,
   "id": "68b90d7d-a93c-4c7e-bacd-19b5f15e878f",
   "metadata": {},
   "outputs": [
    {
     "name": "stdout",
     "output_type": "stream",
     "text": [
      "INFO     Kaczmarz\n",
      "INFO     Iter     |r|                         |x|         RER\n",
      "INFO     0     1.413e+00                    4.468e-01    3.157\n",
      "INFO     1     5.567e-01 (0.394) [0.394]    2.641e-01    2.109 (0.668)\n",
      "INFO     2     2.308e-01 (0.415) [0.405]    1.904e-01    1.212 (0.576)\n",
      "INFO     3     1.047e-01 (0.454) [0.421]    1.578e-01    0.664 (0.549)\n",
      "INFO     4     5.394e-02 (0.515) [0.443]    1.399e-01    0.386 (0.582)\n",
      "INFO     5     3.187e-02 (0.590) [0.469]    1.286e-01    0.249 (0.643)\n",
      "INFO     6     2.117e-02 (0.663) [0.497]    1.207e-01    0.177 (0.707)\n",
      "INFO     7     1.543e-02 (0.728) [0.525]    1.149e-01    0.136 (0.766)\n",
      "INFO     8     1.191e-02 (0.772) [0.551]    1.103e-01    0.109 (0.805)\n",
      "INFO     9     9.549e-03 (0.803) [0.575]    1.066e-01    0.091 (0.832)\n",
      "INFO     10    7.887e-03 (0.827) [0.596]    1.035e-01    0.077 (0.852)\n",
      "INFO     11    6.662e-03 (0.845) [0.615]    1.009e-01    0.067 (0.868)\n",
      "INFO     12    5.730e-03 (0.860) [0.633]    9.864e-02    0.059 (0.881)\n",
      "INFO     13    5.003e-03 (0.873) [0.649]    9.664e-02    0.053 (0.892)\n",
      "INFO     14    4.424e-03 (0.884) [0.663]    9.486e-02    0.048 (0.901)\n",
      "INFO     15    3.953e-03 (0.893) [0.676]    9.327e-02    0.044 (0.909)\n",
      "INFO     16    3.564e-03 (0.901) [0.689]    9.182e-02    0.040 (0.916)\n",
      "INFO     17    3.238e-03 (0.908) [0.700]    9.050e-02    0.037 (0.922)\n",
      "INFO     18    2.961e-03 (0.914) [0.711]    8.930e-02    0.035 (0.927)\n",
      "INFO     19    2.723e-03 (0.919) [0.720]    8.818e-02    0.032 (0.932)\n",
      "INFO     20    2.517e-03 (0.924) [0.729]    8.715e-02    0.030 (0.936)\n",
      "INFO     Relax conv 0.87 shrinkage 0.50 PODR RER 0.18 after 6 sweeps. Work 1.0 eff 0.50\n"
     ]
    },
    {
     "data": {
      "image/png": "[encoded data removed]",
      "text/plain": [
       "<Figure size 432x288 with 1 Axes>"
      ]
     },
     "metadata": {
      "needs_background": "light"
     },
     "output_type": "display_data"
    }
   ],
   "source": [
    "method_info = hm.solve.smoothing.check_relax_cycle_shrinkage(\n",
    "    multilevel, num_levels=1, leeway_factor=leeway_factor, slow_conv_factor=0.95)\n",
    "num_sweeps = method_info[\"Kaczmarz\"][1]"
   ]
  },
  {
   "cell_type": "code",
   "execution_count": 75,
   "id": "31e12237-be4d-4d20-bcc6-2884284c6cd8",
   "metadata": {},
   "outputs": [
    {
     "name": "stdout",
     "output_type": "stream",
     "text": [
      "INFO     Generating 2 ideal TVs\n"
     ]
    }
   ],
   "source": [
    "nu = num_sweeps_on_vectors if num_sweeps_on_vectors is not None else num_sweeps\n",
    "# Generate initial test vectors.\n",
    "level = multilevel[0]\n",
    "if ideal_tv:\n",
    "    _LOGGER.info(\"Generating {} ideal TVs\".format(num_examples))\n",
    "    x, lam = hm.analysis.ideal.ideal_tv(level.a, num_examples)\n",
    "else:\n",
    "    _LOGGER.info(\"Generating {} TVs with {} sweeps\".format(num_examples, nu))\n",
    "    x = hm.setup.auto_setup.get_test_matrix(a, nu, num_examples=num_examples)\n",
    "    _LOGGER.info(\"RER {:.3f}\".format(norm(level.a.dot(x)) / norm(x)))\n",
    "x_log.append(x)"
   ]
  },
  {
   "cell_type": "markdown",
   "id": "16d8ea80-45ed-47b0-aa8e-85fcdc5526e6",
   "metadata": {},
   "source": [
    "### Coarsening: Fixed (4/2)"
   ]
  },
  {
   "cell_type": "code",
   "execution_count": 76,
   "id": "02954b00-7662-4253-aa30-e8b770283a2c",
   "metadata": {},
   "outputs": [],
   "source": [
    "# Coarsening. Force 2 coarse vars per aggregate so we can test alignment.\n",
    "aggregate_size = 2 #4\n",
    "num_components = 1 #2\n",
    "\n",
    "# Optimize aggregate_size, num_components using mock cycle rates.\n",
    "# coarsener = hm.setup.coarsening_uniform.UniformCoarsener(\n",
    "#     level, x, num_sweeps, repetitive=repetitive)\n",
    "# info = coarsener.get_coarsening_info(1, fmt=\"dataframe\")\n",
    "# r, aggregate_size, nc, cr, mean_energy_error, mock_conv, mock_work, mock_efficiency = \\\n",
    "#     coarsener.get_optimal_coarsening(1)\n",
    "# _LOGGER.info(\"R {} a {} nc {} cr {:.2f} mean_energy_error {:.4f}; mock cycle num_sweeps {} conv {:.2f} \"\n",
    "#              \"eff {:.2f}\".format(\n",
    "#     r.shape, aggregate_size, nc, cr, mean_energy_error, num_sweeps, mock_conv, mock_efficiency))\n",
    "# coarsener.get_coarsening_info(1, fmt=\"dataframe\")"
   ]
  },
  {
   "cell_type": "code",
   "execution_count": 77,
   "id": "635ddc89-30cc-4203-b927-0b9f3a363d5c",
   "metadata": {},
   "outputs": [
    {
     "name": "stdout",
     "output_type": "stream",
     "text": [
      "[[0.708 0.707]]\n"
     ]
    },
    {
     "data": {
      "text/html": [
       "<div>\n",
       "<style scoped>\n",
       "    .dataframe tbody tr th:only-of-type {\n",
       "        vertical-align: middle;\n",
       "    }\n",
       "\n",
       "    .dataframe tbody tr th {\n",
       "        vertical-align: top;\n",
       "    }\n",
       "\n",
       "    .dataframe thead th {\n",
       "        text-align: right;\n",
       "    }\n",
       "</style>\n",
       "<table border=\"1\" class=\"dataframe\">\n",
       "  <thead>\n",
       "    <tr style=\"text-align: right;\">\n",
       "      <th></th>\n",
       "      <th>0</th>\n",
       "      <th>1</th>\n",
       "      <th>2</th>\n",
       "      <th>3</th>\n",
       "      <th>4</th>\n",
       "      <th>5</th>\n",
       "      <th>6</th>\n",
       "      <th>7</th>\n",
       "      <th>8</th>\n",
       "      <th>9</th>\n",
       "    </tr>\n",
       "  </thead>\n",
       "  <tbody>\n",
       "    <tr>\n",
       "      <th>0</th>\n",
       "      <td>0.50</td>\n",
       "      <td>0.50</td>\n",
       "      <td>0.00</td>\n",
       "      <td>0.00</td>\n",
       "      <td>0.00</td>\n",
       "      <td>0.00</td>\n",
       "      <td>0.00</td>\n",
       "      <td>0.00</td>\n",
       "      <td>0.00</td>\n",
       "      <td>0.00</td>\n",
       "    </tr>\n",
       "    <tr>\n",
       "      <th>1</th>\n",
       "      <td>0.00</td>\n",
       "      <td>0.00</td>\n",
       "      <td>0.50</td>\n",
       "      <td>0.50</td>\n",
       "      <td>0.00</td>\n",
       "      <td>0.00</td>\n",
       "      <td>0.00</td>\n",
       "      <td>0.00</td>\n",
       "      <td>0.00</td>\n",
       "      <td>0.00</td>\n",
       "    </tr>\n",
       "    <tr>\n",
       "      <th>2</th>\n",
       "      <td>0.00</td>\n",
       "      <td>0.00</td>\n",
       "      <td>0.00</td>\n",
       "      <td>0.00</td>\n",
       "      <td>0.50</td>\n",
       "      <td>0.50</td>\n",
       "      <td>0.00</td>\n",
       "      <td>0.00</td>\n",
       "      <td>0.00</td>\n",
       "      <td>0.00</td>\n",
       "    </tr>\n",
       "    <tr>\n",
       "      <th>3</th>\n",
       "      <td>0.00</td>\n",
       "      <td>0.00</td>\n",
       "      <td>0.00</td>\n",
       "      <td>0.00</td>\n",
       "      <td>0.00</td>\n",
       "      <td>0.00</td>\n",
       "      <td>0.50</td>\n",
       "      <td>0.50</td>\n",
       "      <td>0.00</td>\n",
       "      <td>0.00</td>\n",
       "    </tr>\n",
       "    <tr>\n",
       "      <th>4</th>\n",
       "      <td>0.00</td>\n",
       "      <td>0.00</td>\n",
       "      <td>0.00</td>\n",
       "      <td>0.00</td>\n",
       "      <td>0.00</td>\n",
       "      <td>0.00</td>\n",
       "      <td>0.00</td>\n",
       "      <td>0.00</td>\n",
       "      <td>0.50</td>\n",
       "      <td>0.50</td>\n",
       "    </tr>\n",
       "  </tbody>\n",
       "</table>\n",
       "</div>"
      ],
      "text/plain": [
       "     0    1    2    3    4    5    6    7    8    9\n",
       "0 0.50 0.50 0.00 0.00 0.00 0.00 0.00 0.00 0.00 0.00\n",
       "1 0.00 0.00 0.50 0.50 0.00 0.00 0.00 0.00 0.00 0.00\n",
       "2 0.00 0.00 0.00 0.00 0.50 0.50 0.00 0.00 0.00 0.00\n",
       "3 0.00 0.00 0.00 0.00 0.00 0.00 0.50 0.50 0.00 0.00\n",
       "4 0.00 0.00 0.00 0.00 0.00 0.00 0.00 0.00 0.50 0.50"
      ]
     },
     "metadata": {},
     "output_type": "display_data"
    },
    {
     "data": {
      "image/png": "[encoded data removed]",
      "text/plain": [
       "<Figure size 1008x288 with 3 Axes>"
      ]
     },
     "metadata": {
      "needs_background": "light"
     },
     "output_type": "display_data"
    }
   ],
   "source": [
    "r, s = hm.repetitive.locality.create_coarsening(x, aggregate_size, num_components, normalize=True)\n",
    "R = r.tile(level.size // aggregate_size)\n",
    "xc = R.dot(x)\n",
    "display(pd.DataFrame(R[:5,:10].todense()))\n",
    "hm.repetitive.locality.plot_coarsening(R, x)"
   ]
  },
  {
   "cell_type": "markdown",
   "id": "4a24f433-0128-4164-bc0d-22befa14b4c9",
   "metadata": {},
   "source": [
    "### Local Mock Cycle (LMC) Rate\n",
    "The mock cycle rate is calculated on a domain of size $4 a$, $a$ = aggregate size."
   ]
  },
  {
   "cell_type": "code",
   "execution_count": 78,
   "id": "0f458cd4-936d-41f8-9015-0c6423f0cc5c",
   "metadata": {},
   "outputs": [
    {
     "name": "stdout",
     "output_type": "stream",
     "text": [
      "INFO     Mock cycle conv |domain|=8 [0.268 0.126 0.051 0.042 0.028 0.017]\n"
     ]
    }
   ],
   "source": [
    "# Calculate local mock cycle convergence rate on a domain of size 4 * aggregate_size.\n",
    "m = 4\n",
    "nu_values = np.arange(1, num_sweeps + 1)\n",
    "mock_conv = hm.repetitive.locality.mock_conv_factor_for_domain_size(kh, discretization, r, aggregate_size, m * aggregate_size, nu_values)\n",
    "_LOGGER.info(\"Mock cycle conv |domain|={} {}\".format(\n",
    "    m * aggregate_size, np.array2string(mock_conv, precision=3)))"
   ]
  },
  {
   "cell_type": "markdown",
   "id": "1af03334-0972-4471-be8f-15782dc41f93",
   "metadata": {},
   "source": [
    "### Interpolation $P = R^T$"
   ]
  },
  {
   "cell_type": "code",
   "execution_count": 79,
   "id": "deffcc42-2808-4586-bf22-afcd11e76ea4",
   "metadata": {},
   "outputs": [
    {
     "name": "stdout",
     "output_type": "stream",
     "text": [
      "[[0.5]\n",
      " [0.5]]\n"
     ]
    },
    {
     "data": {
      "text/html": [
       "<div>\n",
       "<style scoped>\n",
       "    .dataframe tbody tr th:only-of-type {\n",
       "        vertical-align: middle;\n",
       "    }\n",
       "\n",
       "    .dataframe tbody tr th {\n",
       "        vertical-align: top;\n",
       "    }\n",
       "\n",
       "    .dataframe thead th {\n",
       "        text-align: right;\n",
       "    }\n",
       "</style>\n",
       "<table border=\"1\" class=\"dataframe\">\n",
       "  <thead>\n",
       "    <tr style=\"text-align: right;\">\n",
       "      <th></th>\n",
       "      <th>1</th>\n",
       "      <th>2</th>\n",
       "      <th>3</th>\n",
       "      <th>4</th>\n",
       "      <th>5</th>\n",
       "      <th>6</th>\n",
       "    </tr>\n",
       "  </thead>\n",
       "  <tbody>\n",
       "    <tr>\n",
       "      <th>Mock</th>\n",
       "      <td>0.27</td>\n",
       "      <td>0.13</td>\n",
       "      <td>0.05</td>\n",
       "      <td>0.04</td>\n",
       "      <td>0.03</td>\n",
       "      <td>0.02</td>\n",
       "    </tr>\n",
       "    <tr>\n",
       "      <th>Two-level</th>\n",
       "      <td>0.55</td>\n",
       "      <td>0.44</td>\n",
       "      <td>0.49</td>\n",
       "      <td>0.43</td>\n",
       "      <td>0.45</td>\n",
       "      <td>0.43</td>\n",
       "    </tr>\n",
       "  </tbody>\n",
       "</table>\n",
       "</div>"
      ],
      "text/plain": [
       "             1    2    3    4    5    6\n",
       "Mock      0.27 0.13 0.05 0.04 0.03 0.02\n",
       "Two-level 0.55 0.44 0.49 0.43 0.45 0.43"
      ]
     },
     "metadata": {},
     "output_type": "display_data"
    },
    {
     "name": "stdout",
     "output_type": "stream",
     "text": [
      "INFO     L2 projection norm 0.71 A*A' projection norm 1.65\n"
     ]
    }
   ],
   "source": [
    "# Initial guess for interpoation: P = R^T on a single aggregate.\n",
    "p = r.tile(1).transpose()\n",
    "print(p.todense())\n",
    "\n",
    "two_level_conv = np.array([\n",
    "    hm.repetitive.locality.two_level_conv_factor(\n",
    "        hm.repetitive.locality.create_two_level_hierarchy(\n",
    "            kh, discretization, m * aggregate_size, r.asarray(), p, aggregate_size), \n",
    "        nu)[1]\n",
    "     for nu in nu_values])\n",
    "conv = pd.DataFrame(np.array((mock_conv, two_level_conv)).transpose(), \n",
    "                    index=nu_values, columns=(\"Mock\", \"Two-level\")).transpose()\n",
    "display(conv)\n",
    "\n",
    "# Compare the L2 projection norm and the A*A'-orthogonal projection norms, which gives an indication\n",
    "# that the mock cycle rates are guaranteed to be good predictors of the two-level rates [Rob & James].\n",
    "R = r.tile(n // aggregate_size)\n",
    "_LOGGER.info(\"L2 projection norm {:.2f} A*A' projection norm {:.2f}\".\n",
    "             format(norm(R.todense(), ord=2), norm((R.dot(multilevel[0].a)).todense(), ord=2)))"
   ]
  },
  {
   "cell_type": "markdown",
   "id": "deb49c06-224c-4ff4-87a8-1649e650bbc0",
   "metadata": {},
   "source": [
    "This intepolation is good up to $\\nu = 2$, conv $\\approx 0.5$."
   ]
  },
  {
   "cell_type": "markdown",
   "id": "032d6315-122a-4dbe-bad4-facda5def82b",
   "metadata": {},
   "source": [
    "### Interpolation by LS Fitting"
   ]
  },
  {
   "cell_type": "code",
   "execution_count": 80,
   "id": "f16573fe-6e58-4419-a9e1-e9c0f4ecd274",
   "metadata": {},
   "outputs": [
    {
     "name": "stdout",
     "output_type": "stream",
     "text": [
      "P^T*A*P\n",
      "INFO     caliber 2 error l2 [0.00] a [9.88e-01]\n",
      "p row sums [1. 1. 1. 1. 1.]\n"
     ]
    },
    {
     "data": {
      "text/html": [
       "<div>\n",
       "<style scoped>\n",
       "    .dataframe tbody tr th:only-of-type {\n",
       "        vertical-align: middle;\n",
       "    }\n",
       "\n",
       "    .dataframe tbody tr th {\n",
       "        vertical-align: top;\n",
       "    }\n",
       "\n",
       "    .dataframe thead th {\n",
       "        text-align: right;\n",
       "    }\n",
       "</style>\n",
       "<table border=\"1\" class=\"dataframe\">\n",
       "  <thead>\n",
       "    <tr style=\"text-align: right;\">\n",
       "      <th></th>\n",
       "      <th>1</th>\n",
       "      <th>2</th>\n",
       "      <th>3</th>\n",
       "      <th>4</th>\n",
       "      <th>5</th>\n",
       "      <th>6</th>\n",
       "    </tr>\n",
       "  </thead>\n",
       "  <tbody>\n",
       "    <tr>\n",
       "      <th>Mock</th>\n",
       "      <td>0.27</td>\n",
       "      <td>0.13</td>\n",
       "      <td>0.05</td>\n",
       "      <td>0.04</td>\n",
       "      <td>0.03</td>\n",
       "      <td>0.02</td>\n",
       "    </tr>\n",
       "    <tr>\n",
       "      <th>Caliber 2</th>\n",
       "      <td>0.56</td>\n",
       "      <td>0.24</td>\n",
       "      <td>0.16</td>\n",
       "      <td>0.15</td>\n",
       "      <td>0.14</td>\n",
       "      <td>0.10</td>\n",
       "    </tr>\n",
       "  </tbody>\n",
       "</table>\n",
       "</div>"
      ],
      "text/plain": [
       "             1    2    3    4    5    6\n",
       "Mock      0.27 0.13 0.05 0.04 0.03 0.02\n",
       "Caliber 2 0.56 0.24 0.16 0.15 0.14 0.10"
      ]
     },
     "metadata": {},
     "output_type": "display_data"
    }
   ],
   "source": [
    "calibers = (2,) #(2, 3, 4)\n",
    "for use_r_as_restriction in (False, ): #(False, True):\n",
    "    print(\"R*A*P\" if use_r_as_restriction else \"P^T*A*P\")\n",
    "    l2c = []\n",
    "    p_caliber = []\n",
    "    for caliber in calibers:\n",
    "        #print(\"caliber\", caliber)\n",
    "\n",
    "        p = hm.setup.auto_setup.create_interpolation(\n",
    "            x, a, R, interpolation_method, aggregate_size=aggregate_size, nc=num_components, \n",
    "            neighborhood=neighborhood, repetitive=repetitive, target_error=0.1,\n",
    "            caliber=caliber, fit_scheme=fit_scheme, weighted=weighted)\n",
    "        print(\"p row sums\", np.array(p.sum(axis=1)).flatten()[:5])\n",
    "\n",
    "        # for title, x_set in (((\"all\", x),) if repetitive else ((\"fit\", x_fit), (\"test\", x_test))):\n",
    "        #     error = norm(x_set - p.dot(R.dot(x_set)), axis=0) / norm(x_set, axis=0)\n",
    "        #     error_a = norm(level.a.dot(x_set - p.dot(R.dot(x_set))), axis=0) / norm(x_set, axis=0)\n",
    "        #     _LOGGER.info(\n",
    "        #         \"{:<4s} set size {:<2d} P L2 error mean {:.2f} max {:.2f} A error mean {:.2f} max {:.2f}\".format(\n",
    "        #             title, len(error), np.mean(error), np.max(error), np.mean(error_a), np.max(error_a)))\n",
    "\n",
    "        # Initial guess for interpoation: P = R^T on a single aggregate.\n",
    "        #display(pd.DataFrame(p[:6, :6].todense()))\n",
    "\n",
    "        two_level_conv = np.array([\n",
    "            hm.repetitive.locality.two_level_conv_factor(\n",
    "                hm.repetitive.locality.create_two_level_hierarchy(\n",
    "                kh, discretization, n, R, p, aggregate_size, \n",
    "                    use_r_as_restriction=use_r_as_restriction), \n",
    "                nu, print_frequency=None)[1]\n",
    "             for nu in nu_values])\n",
    "        l2c.append(two_level_conv)\n",
    "        p_caliber.append(p)\n",
    "\n",
    "    conv = pd.DataFrame(np.array([mock_conv] + l2c).transpose(), \n",
    "                        index=nu_values, columns=(\"Mock\",) + tuple(\"Caliber {}\".format(caliber)\n",
    "                                                                  for caliber in calibers)).transpose()\n",
    "    display(conv)"
   ]
  },
  {
   "cell_type": "code",
   "execution_count": 81,
   "id": "45d5ac8d-be79-4223-b3f9-410ea2f03ff7",
   "metadata": {},
   "outputs": [
    {
     "name": "stdout",
     "output_type": "stream",
     "text": [
      "caliber 2 nnz(P) 192 fill-in 1.00\n",
      "Max abs |Ac - Ac^T| 5.551e-17\n"
     ]
    },
    {
     "data": {
      "text/html": [
       "<style type=\"text/css\">\n",
       "</style>\n",
       "<table id=\"T_9a30b_\" style='display:inline'>\n",
       "  <caption>P</caption>\n",
       "  <thead>\n",
       "    <tr>\n",
       "      <th class=\"blank level0\" >&nbsp;</th>\n",
       "      <th class=\"col_heading level0 col0\" >0</th>\n",
       "      <th class=\"col_heading level0 col1\" >1</th>\n",
       "      <th class=\"col_heading level0 col2\" >2</th>\n",
       "      <th class=\"col_heading level0 col3\" >3</th>\n",
       "      <th class=\"col_heading level0 col4\" >4</th>\n",
       "      <th class=\"col_heading level0 col5\" >5</th>\n",
       "    </tr>\n",
       "  </thead>\n",
       "  <tbody>\n",
       "    <tr>\n",
       "      <th id=\"T_9a30b_level0_row0\" class=\"row_heading level0 row0\" >0</th>\n",
       "      <td id=\"T_9a30b_row0_col0\" class=\"data row0 col0\" >0.76</td>\n",
       "      <td id=\"T_9a30b_row0_col1\" class=\"data row0 col1\" >0.00</td>\n",
       "      <td id=\"T_9a30b_row0_col2\" class=\"data row0 col2\" >0.00</td>\n",
       "      <td id=\"T_9a30b_row0_col3\" class=\"data row0 col3\" >0.00</td>\n",
       "      <td id=\"T_9a30b_row0_col4\" class=\"data row0 col4\" >0.00</td>\n",
       "      <td id=\"T_9a30b_row0_col5\" class=\"data row0 col5\" >0.00</td>\n",
       "    </tr>\n",
       "    <tr>\n",
       "      <th id=\"T_9a30b_level0_row1\" class=\"row_heading level0 row1\" >1</th>\n",
       "      <td id=\"T_9a30b_row1_col0\" class=\"data row1 col0\" >0.75</td>\n",
       "      <td id=\"T_9a30b_row1_col1\" class=\"data row1 col1\" >0.25</td>\n",
       "      <td id=\"T_9a30b_row1_col2\" class=\"data row1 col2\" >0.00</td>\n",
       "      <td id=\"T_9a30b_row1_col3\" class=\"data row1 col3\" >0.00</td>\n",
       "      <td id=\"T_9a30b_row1_col4\" class=\"data row1 col4\" >0.00</td>\n",
       "      <td id=\"T_9a30b_row1_col5\" class=\"data row1 col5\" >0.00</td>\n",
       "    </tr>\n",
       "    <tr>\n",
       "      <th id=\"T_9a30b_level0_row2\" class=\"row_heading level0 row2\" >2</th>\n",
       "      <td id=\"T_9a30b_row2_col0\" class=\"data row2 col0\" >0.24</td>\n",
       "      <td id=\"T_9a30b_row2_col1\" class=\"data row2 col1\" >0.76</td>\n",
       "      <td id=\"T_9a30b_row2_col2\" class=\"data row2 col2\" >0.00</td>\n",
       "      <td id=\"T_9a30b_row2_col3\" class=\"data row2 col3\" >0.00</td>\n",
       "      <td id=\"T_9a30b_row2_col4\" class=\"data row2 col4\" >0.00</td>\n",
       "      <td id=\"T_9a30b_row2_col5\" class=\"data row2 col5\" >0.00</td>\n",
       "    </tr>\n",
       "    <tr>\n",
       "      <th id=\"T_9a30b_level0_row3\" class=\"row_heading level0 row3\" >3</th>\n",
       "      <td id=\"T_9a30b_row3_col0\" class=\"data row3 col0\" >0.00</td>\n",
       "      <td id=\"T_9a30b_row3_col1\" class=\"data row3 col1\" >0.75</td>\n",
       "      <td id=\"T_9a30b_row3_col2\" class=\"data row3 col2\" >0.25</td>\n",
       "      <td id=\"T_9a30b_row3_col3\" class=\"data row3 col3\" >0.00</td>\n",
       "      <td id=\"T_9a30b_row3_col4\" class=\"data row3 col4\" >0.00</td>\n",
       "      <td id=\"T_9a30b_row3_col5\" class=\"data row3 col5\" >0.00</td>\n",
       "    </tr>\n",
       "    <tr>\n",
       "      <th id=\"T_9a30b_level0_row4\" class=\"row_heading level0 row4\" >4</th>\n",
       "      <td id=\"T_9a30b_row4_col0\" class=\"data row4 col0\" >0.00</td>\n",
       "      <td id=\"T_9a30b_row4_col1\" class=\"data row4 col1\" >0.24</td>\n",
       "      <td id=\"T_9a30b_row4_col2\" class=\"data row4 col2\" >0.76</td>\n",
       "      <td id=\"T_9a30b_row4_col3\" class=\"data row4 col3\" >0.00</td>\n",
       "      <td id=\"T_9a30b_row4_col4\" class=\"data row4 col4\" >0.00</td>\n",
       "      <td id=\"T_9a30b_row4_col5\" class=\"data row4 col5\" >0.00</td>\n",
       "    </tr>\n",
       "    <tr>\n",
       "      <th id=\"T_9a30b_level0_row5\" class=\"row_heading level0 row5\" >5</th>\n",
       "      <td id=\"T_9a30b_row5_col0\" class=\"data row5 col0\" >0.00</td>\n",
       "      <td id=\"T_9a30b_row5_col1\" class=\"data row5 col1\" >0.00</td>\n",
       "      <td id=\"T_9a30b_row5_col2\" class=\"data row5 col2\" >0.75</td>\n",
       "      <td id=\"T_9a30b_row5_col3\" class=\"data row5 col3\" >0.25</td>\n",
       "      <td id=\"T_9a30b_row5_col4\" class=\"data row5 col4\" >0.00</td>\n",
       "      <td id=\"T_9a30b_row5_col5\" class=\"data row5 col5\" >0.00</td>\n",
       "    </tr>\n",
       "  </tbody>\n",
       "</table>\n",
       "<style type=\"text/css\">\n",
       "</style>\n",
       "<table id=\"T_8f1fa_\" style='display:inline'>\n",
       "  <caption>A^1</caption>\n",
       "  <thead>\n",
       "    <tr>\n",
       "      <th class=\"blank level0\" >&nbsp;</th>\n",
       "      <th class=\"col_heading level0 col0\" >0</th>\n",
       "      <th class=\"col_heading level0 col1\" >1</th>\n",
       "      <th class=\"col_heading level0 col2\" >2</th>\n",
       "      <th class=\"col_heading level0 col3\" >3</th>\n",
       "      <th class=\"col_heading level0 col4\" >4</th>\n",
       "      <th class=\"col_heading level0 col5\" >5</th>\n",
       "      <th class=\"col_heading level0 col6\" >6</th>\n",
       "      <th class=\"col_heading level0 col7\" >7</th>\n",
       "      <th class=\"col_heading level0 col8\" >8</th>\n",
       "      <th class=\"col_heading level0 col9\" >9</th>\n",
       "    </tr>\n",
       "  </thead>\n",
       "  <tbody>\n",
       "    <tr>\n",
       "      <th id=\"T_8f1fa_level0_row0\" class=\"row_heading level0 row0\" >0</th>\n",
       "      <td id=\"T_8f1fa_row0_col0\" class=\"data row0 col0\" >-0.71</td>\n",
       "      <td id=\"T_8f1fa_row0_col1\" class=\"data row0 col1\" >0.31</td>\n",
       "      <td id=\"T_8f1fa_row0_col2\" class=\"data row0 col2\" >0.05</td>\n",
       "      <td id=\"T_8f1fa_row0_col3\" class=\"data row0 col3\" >0.00</td>\n",
       "      <td id=\"T_8f1fa_row0_col4\" class=\"data row0 col4\" >0.00</td>\n",
       "      <td id=\"T_8f1fa_row0_col5\" class=\"data row0 col5\" >0.00</td>\n",
       "      <td id=\"T_8f1fa_row0_col6\" class=\"data row0 col6\" >0.00</td>\n",
       "      <td id=\"T_8f1fa_row0_col7\" class=\"data row0 col7\" >0.00</td>\n",
       "      <td id=\"T_8f1fa_row0_col8\" class=\"data row0 col8\" >0.00</td>\n",
       "      <td id=\"T_8f1fa_row0_col9\" class=\"data row0 col9\" >0.00</td>\n",
       "    </tr>\n",
       "    <tr>\n",
       "      <th id=\"T_8f1fa_level0_row1\" class=\"row_heading level0 row1\" >1</th>\n",
       "      <td id=\"T_8f1fa_row1_col0\" class=\"data row1 col0\" >0.31</td>\n",
       "      <td id=\"T_8f1fa_row1_col1\" class=\"data row1 col1\" >-0.71</td>\n",
       "      <td id=\"T_8f1fa_row1_col2\" class=\"data row1 col2\" >0.31</td>\n",
       "      <td id=\"T_8f1fa_row1_col3\" class=\"data row1 col3\" >0.05</td>\n",
       "      <td id=\"T_8f1fa_row1_col4\" class=\"data row1 col4\" >0.00</td>\n",
       "      <td id=\"T_8f1fa_row1_col5\" class=\"data row1 col5\" >0.00</td>\n",
       "      <td id=\"T_8f1fa_row1_col6\" class=\"data row1 col6\" >0.00</td>\n",
       "      <td id=\"T_8f1fa_row1_col7\" class=\"data row1 col7\" >0.00</td>\n",
       "      <td id=\"T_8f1fa_row1_col8\" class=\"data row1 col8\" >0.00</td>\n",
       "      <td id=\"T_8f1fa_row1_col9\" class=\"data row1 col9\" >0.00</td>\n",
       "    </tr>\n",
       "    <tr>\n",
       "      <th id=\"T_8f1fa_level0_row2\" class=\"row_heading level0 row2\" >2</th>\n",
       "      <td id=\"T_8f1fa_row2_col0\" class=\"data row2 col0\" >0.05</td>\n",
       "      <td id=\"T_8f1fa_row2_col1\" class=\"data row2 col1\" >0.31</td>\n",
       "      <td id=\"T_8f1fa_row2_col2\" class=\"data row2 col2\" >-0.71</td>\n",
       "      <td id=\"T_8f1fa_row2_col3\" class=\"data row2 col3\" >0.31</td>\n",
       "      <td id=\"T_8f1fa_row2_col4\" class=\"data row2 col4\" >0.05</td>\n",
       "      <td id=\"T_8f1fa_row2_col5\" class=\"data row2 col5\" >0.00</td>\n",
       "      <td id=\"T_8f1fa_row2_col6\" class=\"data row2 col6\" >0.00</td>\n",
       "      <td id=\"T_8f1fa_row2_col7\" class=\"data row2 col7\" >0.00</td>\n",
       "      <td id=\"T_8f1fa_row2_col8\" class=\"data row2 col8\" >0.00</td>\n",
       "      <td id=\"T_8f1fa_row2_col9\" class=\"data row2 col9\" >0.00</td>\n",
       "    </tr>\n",
       "    <tr>\n",
       "      <th id=\"T_8f1fa_level0_row3\" class=\"row_heading level0 row3\" >3</th>\n",
       "      <td id=\"T_8f1fa_row3_col0\" class=\"data row3 col0\" >0.00</td>\n",
       "      <td id=\"T_8f1fa_row3_col1\" class=\"data row3 col1\" >0.05</td>\n",
       "      <td id=\"T_8f1fa_row3_col2\" class=\"data row3 col2\" >0.31</td>\n",
       "      <td id=\"T_8f1fa_row3_col3\" class=\"data row3 col3\" >-0.71</td>\n",
       "      <td id=\"T_8f1fa_row3_col4\" class=\"data row3 col4\" >0.31</td>\n",
       "      <td id=\"T_8f1fa_row3_col5\" class=\"data row3 col5\" >0.05</td>\n",
       "      <td id=\"T_8f1fa_row3_col6\" class=\"data row3 col6\" >0.00</td>\n",
       "      <td id=\"T_8f1fa_row3_col7\" class=\"data row3 col7\" >0.00</td>\n",
       "      <td id=\"T_8f1fa_row3_col8\" class=\"data row3 col8\" >0.00</td>\n",
       "      <td id=\"T_8f1fa_row3_col9\" class=\"data row3 col9\" >0.00</td>\n",
       "    </tr>\n",
       "    <tr>\n",
       "      <th id=\"T_8f1fa_level0_row4\" class=\"row_heading level0 row4\" >4</th>\n",
       "      <td id=\"T_8f1fa_row4_col0\" class=\"data row4 col0\" >0.00</td>\n",
       "      <td id=\"T_8f1fa_row4_col1\" class=\"data row4 col1\" >0.00</td>\n",
       "      <td id=\"T_8f1fa_row4_col2\" class=\"data row4 col2\" >0.05</td>\n",
       "      <td id=\"T_8f1fa_row4_col3\" class=\"data row4 col3\" >0.31</td>\n",
       "      <td id=\"T_8f1fa_row4_col4\" class=\"data row4 col4\" >-0.71</td>\n",
       "      <td id=\"T_8f1fa_row4_col5\" class=\"data row4 col5\" >0.31</td>\n",
       "      <td id=\"T_8f1fa_row4_col6\" class=\"data row4 col6\" >0.05</td>\n",
       "      <td id=\"T_8f1fa_row4_col7\" class=\"data row4 col7\" >0.00</td>\n",
       "      <td id=\"T_8f1fa_row4_col8\" class=\"data row4 col8\" >0.00</td>\n",
       "      <td id=\"T_8f1fa_row4_col9\" class=\"data row4 col9\" >0.00</td>\n",
       "    </tr>\n",
       "    <tr>\n",
       "      <th id=\"T_8f1fa_level0_row5\" class=\"row_heading level0 row5\" >5</th>\n",
       "      <td id=\"T_8f1fa_row5_col0\" class=\"data row5 col0\" >0.00</td>\n",
       "      <td id=\"T_8f1fa_row5_col1\" class=\"data row5 col1\" >0.00</td>\n",
       "      <td id=\"T_8f1fa_row5_col2\" class=\"data row5 col2\" >0.00</td>\n",
       "      <td id=\"T_8f1fa_row5_col3\" class=\"data row5 col3\" >0.05</td>\n",
       "      <td id=\"T_8f1fa_row5_col4\" class=\"data row5 col4\" >0.31</td>\n",
       "      <td id=\"T_8f1fa_row5_col5\" class=\"data row5 col5\" >-0.71</td>\n",
       "      <td id=\"T_8f1fa_row5_col6\" class=\"data row5 col6\" >0.31</td>\n",
       "      <td id=\"T_8f1fa_row5_col7\" class=\"data row5 col7\" >0.05</td>\n",
       "      <td id=\"T_8f1fa_row5_col8\" class=\"data row5 col8\" >0.00</td>\n",
       "      <td id=\"T_8f1fa_row5_col9\" class=\"data row5 col9\" >0.00</td>\n",
       "    </tr>\n",
       "    <tr>\n",
       "      <th id=\"T_8f1fa_level0_row6\" class=\"row_heading level0 row6\" >6</th>\n",
       "      <td id=\"T_8f1fa_row6_col0\" class=\"data row6 col0\" >0.00</td>\n",
       "      <td id=\"T_8f1fa_row6_col1\" class=\"data row6 col1\" >0.00</td>\n",
       "      <td id=\"T_8f1fa_row6_col2\" class=\"data row6 col2\" >0.00</td>\n",
       "      <td id=\"T_8f1fa_row6_col3\" class=\"data row6 col3\" >0.00</td>\n",
       "      <td id=\"T_8f1fa_row6_col4\" class=\"data row6 col4\" >0.05</td>\n",
       "      <td id=\"T_8f1fa_row6_col5\" class=\"data row6 col5\" >0.31</td>\n",
       "      <td id=\"T_8f1fa_row6_col6\" class=\"data row6 col6\" >-0.71</td>\n",
       "      <td id=\"T_8f1fa_row6_col7\" class=\"data row6 col7\" >0.31</td>\n",
       "      <td id=\"T_8f1fa_row6_col8\" class=\"data row6 col8\" >0.05</td>\n",
       "      <td id=\"T_8f1fa_row6_col9\" class=\"data row6 col9\" >0.00</td>\n",
       "    </tr>\n",
       "    <tr>\n",
       "      <th id=\"T_8f1fa_level0_row7\" class=\"row_heading level0 row7\" >7</th>\n",
       "      <td id=\"T_8f1fa_row7_col0\" class=\"data row7 col0\" >0.00</td>\n",
       "      <td id=\"T_8f1fa_row7_col1\" class=\"data row7 col1\" >0.00</td>\n",
       "      <td id=\"T_8f1fa_row7_col2\" class=\"data row7 col2\" >0.00</td>\n",
       "      <td id=\"T_8f1fa_row7_col3\" class=\"data row7 col3\" >0.00</td>\n",
       "      <td id=\"T_8f1fa_row7_col4\" class=\"data row7 col4\" >0.00</td>\n",
       "      <td id=\"T_8f1fa_row7_col5\" class=\"data row7 col5\" >0.05</td>\n",
       "      <td id=\"T_8f1fa_row7_col6\" class=\"data row7 col6\" >0.31</td>\n",
       "      <td id=\"T_8f1fa_row7_col7\" class=\"data row7 col7\" >-0.71</td>\n",
       "      <td id=\"T_8f1fa_row7_col8\" class=\"data row7 col8\" >0.31</td>\n",
       "      <td id=\"T_8f1fa_row7_col9\" class=\"data row7 col9\" >0.05</td>\n",
       "    </tr>\n",
       "    <tr>\n",
       "      <th id=\"T_8f1fa_level0_row8\" class=\"row_heading level0 row8\" >8</th>\n",
       "      <td id=\"T_8f1fa_row8_col0\" class=\"data row8 col0\" >0.00</td>\n",
       "      <td id=\"T_8f1fa_row8_col1\" class=\"data row8 col1\" >0.00</td>\n",
       "      <td id=\"T_8f1fa_row8_col2\" class=\"data row8 col2\" >0.00</td>\n",
       "      <td id=\"T_8f1fa_row8_col3\" class=\"data row8 col3\" >0.00</td>\n",
       "      <td id=\"T_8f1fa_row8_col4\" class=\"data row8 col4\" >0.00</td>\n",
       "      <td id=\"T_8f1fa_row8_col5\" class=\"data row8 col5\" >0.00</td>\n",
       "      <td id=\"T_8f1fa_row8_col6\" class=\"data row8 col6\" >0.05</td>\n",
       "      <td id=\"T_8f1fa_row8_col7\" class=\"data row8 col7\" >0.31</td>\n",
       "      <td id=\"T_8f1fa_row8_col8\" class=\"data row8 col8\" >-0.71</td>\n",
       "      <td id=\"T_8f1fa_row8_col9\" class=\"data row8 col9\" >0.31</td>\n",
       "    </tr>\n",
       "    <tr>\n",
       "      <th id=\"T_8f1fa_level0_row9\" class=\"row_heading level0 row9\" >9</th>\n",
       "      <td id=\"T_8f1fa_row9_col0\" class=\"data row9 col0\" >0.00</td>\n",
       "      <td id=\"T_8f1fa_row9_col1\" class=\"data row9 col1\" >0.00</td>\n",
       "      <td id=\"T_8f1fa_row9_col2\" class=\"data row9 col2\" >0.00</td>\n",
       "      <td id=\"T_8f1fa_row9_col3\" class=\"data row9 col3\" >0.00</td>\n",
       "      <td id=\"T_8f1fa_row9_col4\" class=\"data row9 col4\" >0.00</td>\n",
       "      <td id=\"T_8f1fa_row9_col5\" class=\"data row9 col5\" >0.00</td>\n",
       "      <td id=\"T_8f1fa_row9_col6\" class=\"data row9 col6\" >0.00</td>\n",
       "      <td id=\"T_8f1fa_row9_col7\" class=\"data row9 col7\" >0.05</td>\n",
       "      <td id=\"T_8f1fa_row9_col8\" class=\"data row9 col8\" >0.31</td>\n",
       "      <td id=\"T_8f1fa_row9_col9\" class=\"data row9 col9\" >-0.71</td>\n",
       "    </tr>\n",
       "  </tbody>\n",
       "</table>\n"
      ]
     },
     "metadata": {},
     "output_type": "display_data"
    }
   ],
   "source": [
    "for caliber, p in zip(calibers, p_caliber):\n",
    "#    styler = pd.DataFrame(p[:8, :8].todense()).style.set_table_attributes(\"style='display:inline'\").set_caption(\"Caliber {}\".format(caliber)).format(precision=2)   \n",
    "#    display_html(styler._repr_html_(), raw=True)\n",
    "    ml = hm.repetitive.locality.create_two_level_hierarchy(kh, discretization, n, R, p, None, use_r_as_restriction=use_r_as_restriction)\n",
    "    ac = ml[1].a\n",
    "    print(\"caliber {} nnz(P) {} fill-in {:.2f}\".format(caliber, p.nnz, (ac.nnz / ml[0].a.nnz) * (ml[0].a.shape[0] / ac.shape[0])))\n",
    "    print(\"Max abs |Ac - Ac^T| {:.3e}\".format(np.max(np.abs(ac - ac.transpose()))))\n",
    "    display_df_side_by_side(pd.DataFrame(p[:6, :6].todense()),\n",
    "                            pd.DataFrame(ac.todense()[:10,:10]), \n",
    "                        captions=(\"P\", \"A^1\"))"
   ]
  },
  {
   "cell_type": "markdown",
   "id": "ed260fce-4421-4087-8b26-0dc3d273b0f6",
   "metadata": {},
   "source": [
    "In this case there is no fill-in, and the convergence factors improve with $\\nu$, up to $0.1$. The interpolation is nearly linear."
   ]
  },
  {
   "cell_type": "markdown",
   "id": "e86d5cbb-5a2c-4dac-86b4-f9004fe161ff",
   "metadata": {},
   "source": [
    "### Solving $Ax = b$ - Convergence History"
   ]
  },
  {
   "cell_type": "markdown",
   "id": "75a2ab9a-b281-40ea-96aa-2fcd4a9f6912",
   "metadata": {},
   "source": [
    "#### $P^T A P$"
   ]
  },
  {
   "cell_type": "code",
   "execution_count": 82,
   "id": "9fa25e25-5ed4-4a91-8d4d-46f1bf1846f6",
   "metadata": {},
   "outputs": [
    {
     "name": "stdout",
     "output_type": "stream",
     "text": [
      "INFO         0 |r| 2.086e+01 RER 3.46821\n",
      "INFO         1 |r| 1.978e+00 (0.09482) RER 0.30742 (0.08864) 6.435\n",
      "INFO         2 |r| 2.272e-01 (0.11484) RER 0.03579 (0.11642) 6.347\n",
      "INFO         3 |r| 3.094e-02 (0.13620) RER 0.00561 (0.15686) 5.511\n",
      "INFO         4 |r| 4.299e-03 (0.13896) RER 0.00079 (0.14157) 5.409\n",
      "INFO         5 |r| 5.838e-04 (0.13579) RER 0.00010 (0.13133) 5.593\n",
      "INFO         6 |r| 8.405e-05 (0.14396) RER 0.00002 (0.14508) 5.550\n",
      "INFO         7 |r| 1.210e-05 (0.14392) RER 0.00000 (0.13265) 6.021\n",
      "INFO         8 |r| 1.744e-06 (0.14415) RER 0.00000 (0.15151) 5.729\n",
      "INFO         9 |r| 2.549e-07 (0.14616) RER 0.00000 (0.14084) 5.945\n",
      "INFO        10 |r| 3.758e-08 (0.14745) RER 0.00000 (0.15083) 5.812\n",
      "INFO        11 |r| 5.578e-09 (0.14843) RER 0.00000 (0.14832) 5.816\n",
      "INFO        12 |r| 8.368e-10 (0.15003) RER 0.00000 (0.15443) 5.650\n",
      "INFO        13 |r| 1.253e-10 (0.14979) RER 0.00000 (0.15645) 5.410\n",
      "INFO        14 |r| 1.871e-11 (0.14927) RER 0.00000 (0.15200) 5.313\n"
     ]
    },
    {
     "data": {
      "image/png": "[encoded data removed]",
      "text/plain": [
       "<Figure size 432x288 with 1 Axes>"
      ]
     },
     "metadata": {
      "needs_background": "light"
     },
     "output_type": "display_data"
    }
   ],
   "source": [
    "nu = 4\n",
    "p = p_caliber[0]\n",
    "multilevel = hm.repetitive.locality.create_two_level_hierarchy(\n",
    "    kh, discretization, n, R, p, aggregate_size, use_r_as_restriction=False)\n",
    "y, _ = hm.repetitive.locality.two_level_conv_factor(multilevel, nu, print_frequency=1,\n",
    "                                                   debug=False)\n",
    "\n",
    "# Asymptotic vector.\n",
    "plt.title(\"Asymptotically Slowest Vector in Two-level Cycle({},0)\".format(nu))\n",
    "y -= y.mean() # Remove zero component.\n",
    "e = y - multilevel[1].p.dot(multilevel[1].r.dot(y))\n",
    "plt.plot(y, label=\"x\");\n",
    "plt.plot(e, label=\"x-PRx\");\n",
    "plt.grid(True);\n",
    "plt.legend();"
   ]
  },
  {
   "cell_type": "code",
   "execution_count": 83,
   "id": "f1580a50-2d73-488c-ae1b-c137ea7fc16c",
   "metadata": {},
   "outputs": [
    {
     "name": "stdout",
     "output_type": "stream",
     "text": [
      "0 lam [-0.    -0.004 -0.004 -0.017 -0.017 -0.039 -0.039 -0.069 -0.069 -0.107 -0.107 -0.154]\n",
      "1 lam [-0.    -0.009 -0.009 -0.034 -0.034 -0.075 -0.075 -0.131 -0.131 -0.199 -0.199 -0.277]\n"
     ]
    }
   ],
   "source": [
    "# Calculate eigenpairs at all levels.\n",
    "vl = []\n",
    "laml = []\n",
    "for l, level in enumerate(multilevel):\n",
    "    a = level.a\n",
    "    lam, v = eig(a.todense())\n",
    "    lam = np.real(lam)\n",
    "    ind = np.argsort(np.abs(lam))\n",
    "    lam = lam[ind]\n",
    "    v = v[:, ind]\n",
    "    vl.append(v)\n",
    "    laml.append(lam)\n",
    "    print(l, \"lam\", lam[:12])\n",
    "    \n",
    "# Interpolate eigenvectors at all levels to the finest level.\n",
    "num_levels = len(multilevel)\n",
    "vl_finest = []\n",
    "for l in range(num_levels):\n",
    "    v = vl[l]\n",
    "    for k in range(l, 0, -1):\n",
    "        v = multilevel[k].p.dot(v)\n",
    "    vl_finest.append(v)"
   ]
  },
  {
   "cell_type": "markdown",
   "id": "5d18d5da-5083-42f9-b936-bd761ffb8a34",
   "metadata": {},
   "source": [
    "<!-- #### $P^T A Q$ -->"
   ]
  },
  {
   "cell_type": "code",
   "execution_count": 84,
   "id": "d69b0083-ed87-437f-a161-ae1cf3917ce3",
   "metadata": {},
   "outputs": [],
   "source": [
    "# nu = 4\n",
    "# p = p_caliber[-1]\n",
    "# multilevel = hm.repetitive.locality.create_two_level_hierarchy(\n",
    "#     kh, discretization, n, R, p, aggregate_size, use_r_as_restriction=True)\n",
    "# y, _ = hm.repetitive.locality.two_level_conv_factor(multilevel, nu, print_frequency=1,\n",
    "#                                                    debug=False)\n",
    "\n",
    "# # Asymptotic vector.\n",
    "# plt.title(\"Asymptotically Slowest Vector in Two-level Cycle({},0)\".format(nu))\n",
    "# e = y - multilevel[1].p.dot(multilevel[1].r.dot(y))\n",
    "# plt.plot(y, label=\"x\");\n",
    "# plt.plot(e, label=\"x-PRx\");\n",
    "# plt.grid(True);\n",
    "# plt.legend();"
   ]
  },
  {
   "cell_type": "code",
   "execution_count": 85,
   "id": "3f9e309e-963b-4a29-821b-b35b43f27dd5",
   "metadata": {},
   "outputs": [],
   "source": [
    "# y.T.dot(multilevel[0].a.dot(y)) / (y.T.dot(y))"
   ]
  },
  {
   "cell_type": "code",
   "execution_count": 86,
   "id": "898ef54a-c8ba-491d-a20e-a8ba4d09ebfe",
   "metadata": {},
   "outputs": [],
   "source": [
    "# # Calculate eigenpairs at all levels.\n",
    "# vl = []\n",
    "# laml = []\n",
    "# for l, level in enumerate(multilevel):\n",
    "#     a = level.a\n",
    "#     lam, v = eig(a.todense())\n",
    "#     lam = np.real(lam)\n",
    "#     ind = np.argsort(np.abs(lam))\n",
    "#     lam = lam[ind]\n",
    "#     v = v[:, ind]\n",
    "#     vl.append(v)\n",
    "#     laml.append(lam)\n",
    "#     print(l, \"lam\", lam[:12])\n",
    "    \n",
    "# # Interpolate eigenvectors at all levels to the finest level.\n",
    "# num_levels = len(multilevel)\n",
    "# vl_finest = []\n",
    "# for l in range(num_levels):\n",
    "#     v = vl[l]\n",
    "#     for k in range(l, 0, -1):\n",
    "#         v = multilevel[k].p.dot(v)\n",
    "#     vl_finest.append(v)"
   ]
  }
 ],
 "metadata": {
  "hide_input": false,
  "kernelspec": {
   "display_name": "Python 3 (ipykernel)",
   "language": "python",
   "name": "python3"
  },
  "language_info": {
   "codemirror_mode": {
    "name": "ipython",
    "version": 3
   },
   "file_extension": ".py",
   "mimetype": "text/x-python",
   "name": "python",
   "nbconvert_exporter": "python",
   "pygments_lexer": "ipython3",
   "version": "3.9.7"
  }
 },
 "nbformat": 4,
 "nbformat_minor": 5
}
