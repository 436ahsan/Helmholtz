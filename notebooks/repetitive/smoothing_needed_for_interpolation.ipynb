{
 "cells": [
  {
   "cell_type": "markdown",
   "id": "failing-perfume",
   "metadata": {},
   "source": [
    "# Smoothing Required for a Good Coarsening $P$\n",
    "We expect to need smoother TVs for $P$ than for $R$."
   ]
  },
  {
   "cell_type": "code",
   "execution_count": 162,
   "id": "fatal-bride",
   "metadata": {},
   "outputs": [],
   "source": [
    "%run /Users/olivne/helmholtz/src/helmholtz/startup.ipy"
   ]
  },
  {
   "cell_type": "code",
   "execution_count": 163,
   "id": "ca363760-f09e-4ea3-9c3e-81aadf98c2ab",
   "metadata": {},
   "outputs": [
    {
     "name": "stdout",
     "output_type": "stream",
     "text": [
      "INFO     kh 0.523385380551302\n"
     ]
    }
   ],
   "source": [
    "# Fixed seed for reproducible results.\n",
    "np.random.seed(2)\n",
    "\n",
    "# Domain size.\n",
    "n = 96 # 192\n",
    "domain_size = n   # With meshsize h = 1.\n",
    "# Scaled wave number. Fit so lam_min = 0 (integer # periods in domain).\n",
    "discretization = \"5-point\"\n",
    "#kh = 0\n",
    "kh = helmholtz.analysis.ideal.find_singular_kh(discretization, n)[0]\n",
    "#kh = 0.5\n",
    "\n",
    "repetitive = True\n",
    "\n",
    "# Test vectors.\n",
    "ideal_tv = False    # Use eigenvectors or not.\n",
    "# Number of test vectors.  \n",
    "num_examples = 5\n",
    "\n",
    "# Set # sweeps manually here.\n",
    "num_sweeps_on_vectors = 30 # 100 # None\n",
    "threshold = 0.1\n",
    "\n",
    "# Boottstrapping parameters.\n",
    "interpolation_method = \"ls\" # \"weighted_ls\" #\"ls\"\n",
    "fit_scheme = \"ridge\"\n",
    "weighted = True\n",
    "neighborhood = \"extended\" #\"aggregate\" # \"extended\"\n",
    "num_test_examples = 5\n",
    "leeway_factor = 1.3\n",
    "\n",
    "_LOGGER.info(\"kh {}\".format(kh))"
   ]
  },
  {
   "cell_type": "markdown",
   "id": "09e51279-8734-442c-88db-462f5b1edaab",
   "metadata": {},
   "source": [
    "## Level 0->1 Coarsening"
   ]
  },
  {
   "cell_type": "code",
   "execution_count": 164,
   "id": "8cd63abe-591b-4579-a358-d0e9ae6863f4",
   "metadata": {},
   "outputs": [],
   "source": [
    "# Create fine-level matrix.\n",
    "a = hm.linalg.helmholtz_1d_discrete_operator(kh, discretization, n)\n",
    "# Use default = Kacmzarz relaxation for kh != 0.\n",
    "level0 = hm.setup.hierarchy.create_finest_level(a,  relaxer=hm.solve.relax.GsRelaxer(a) if kh == 0 else None)\n",
    "# 'location' is an array of variable locations at all levels. Used only for interpolation neighbor determination.\n",
    "# Finest-level variable ocations are assumed to be [0..n-1], i.e. a domain of size n with meshsize h = 1.\n",
    "level0.location = np.arange(n)"
   ]
  },
  {
   "cell_type": "markdown",
   "id": "10a77b33-41f8-4b8e-b930-b1111f783374",
   "metadata": {},
   "source": [
    "### Coarsening"
   ]
  },
  {
   "cell_type": "code",
   "execution_count": 165,
   "id": "68b90d7d-a93c-4c7e-bacd-19b5f15e878f",
   "metadata": {},
   "outputs": [],
   "source": [
    "def create_coarsening(level, nu, aggregate_size, num_components):\n",
    "    # Generate relaxed test vectors.\n",
    "    x = hm.setup.auto_setup.get_test_matrix(level.a, nu, num_examples=num_examples)\n",
    "    _LOGGER.info(\"Generating relaxed TF with {} sweeps, RER {:.3f}\".format(nu, norm(level.a.dot(x)) / norm(x)))\n",
    "    #x_log.append(x)\n",
    "\n",
    "    # Create coarsening. Force 2 coarse vars per aggregate so we can test alignment.\n",
    "    r, s = hm.repetitive.locality.create_coarsening(x, aggregate_size, num_components, normalize=False)\n",
    "    R = r.tile(level.size // aggregate_size)\n",
    "    return x, R"
   ]
  },
  {
   "cell_type": "code",
   "execution_count": 166,
   "id": "84c0b614-5e14-4d98-9ae8-b1477f8fc4c1",
   "metadata": {},
   "outputs": [
    {
     "name": "stdout",
     "output_type": "stream",
     "text": [
      "INFO     level 0 size 96 relax conv 0.93 shrinkage 0.64 PODR RER 0.55 after 5 sweeps. Work 1.0 eff 0.64\n",
      "INFO     Generating relaxed TF with 10 sweeps, RER 0.312\n"
     ]
    }
   ],
   "source": [
    "# Check Relaxation smoothing.\n",
    "num_sweeps = hm.setup.auto_setup.check_relaxation_speed(0, level0)[1]\n",
    "aggregate_size, num_components = 4, 2\n",
    "x, R = create_coarsening(level0, 2 * num_sweeps, aggregate_size, num_components)"
   ]
  },
  {
   "cell_type": "markdown",
   "id": "032d6315-122a-4dbe-bad4-facda5def82b",
   "metadata": {},
   "source": [
    "### Interpolation Performance vs. #TF Sweeps"
   ]
  },
  {
   "cell_type": "code",
   "execution_count": 359,
   "id": "f16573fe-6e58-4419-a9e1-e9c0f4ecd274",
   "metadata": {},
   "outputs": [],
   "source": [
    "def two_level_performance(level, \n",
    "                          aggregate_size: int,\n",
    "                          num_components: int,\n",
    "                          max_cycle_sweeps: int,\n",
    "                          num_tf_sweeps: int,\n",
    "                          num_windows: int,\n",
    "                          coarsening_types,\n",
    "                          seed: int = 0,\n",
    "                          weighted: bool = True):  # List[Tuple[caliber: int, r_restrict: int, symmetrize: int]] \n",
    "    np.random.seed(seed)\n",
    "    num_cycle_sweeps = np.arange(1, max_cycle_sweeps + 1)\n",
    "    # Create test functions.\n",
    "    x = hm.analysis.ideal.ideal_tv(level.a, num_examples)[0] if nu == -1 \\\n",
    "                          else hm.setup.auto_setup.get_test_matrix(level.a, num_tf_sweeps, num_examples=num_examples)\n",
    "    \n",
    "    # Create R, measure mock cycle rates.\n",
    "    r, s = hm.repetitive.locality.create_coarsening(x, aggregate_size, num_components, normalize=False, num_windows=num_windows)\n",
    "    R = r.tile(level.size // aggregate_size)\n",
    "    # TODO: replace by local mock cycle rate.\n",
    "    mock_conv = np.array([hm.setup.auto_setup.mock_cycle_conv_factor(level, R, nu) for nu in num_cycle_sweeps])\n",
    "\n",
    "    l2c = []\n",
    "    p_values = []\n",
    "    for caliber, r_restrict, symmetrize in coarsening_types:\n",
    "        # Create P, A^c, and a two-level hierarchy.\n",
    "        p = hm.setup.auto_setup.create_interpolation(\n",
    "            x, level.a, R, level.location, domain_size, interpolation_method, aggregate_size=aggregate_size, num_components=num_components, \n",
    "            neighborhood=neighborhood, repetitive=repetitive, target_error=0.1,\n",
    "            caliber=caliber, fit_scheme=fit_scheme, weighted=weighted, num_windows=num_windows)\n",
    "        ml = hm.repetitive.locality.create_two_level_hierarchy_from_matrix(\n",
    "                level.a, level.location, R, p, aggregate_size, num_components,\n",
    "            use_r_as_restriction=r_restrict, symmetrize=symmetrize)\n",
    "        \n",
    "        # Measure convergence and operator stats.\n",
    "        ac = ml[1].a\n",
    "        fill_in_factor = (ac.nnz / ml[0].a.nnz) * (ml[0].a.shape[0] / ac.shape[0])\n",
    "        symmetry_deviation = np.max(np.abs(ac - ac.transpose()))\n",
    "        two_level_conv = np.array([\n",
    "            hm.repetitive.locality.two_level_conv_factor(\n",
    "                ml, nu, print_frequency=None)[1]\n",
    "             for nu in num_cycle_sweeps])\n",
    "        l2c.append([False, caliber, r_restrict, symmetrize, p.nnz, fill_in_factor, symmetry_deviation] + list(two_level_conv))\n",
    "        p_values.append(p)\n",
    "    return pd.DataFrame(np.array([[True, 0, False, False, 0, 0, False] + list(mock_conv)] + l2c),\n",
    "        columns=(\"mock\", \"caliber\", \"r-restrict\", \"symmetrize\", \"nnz(P)\", \"Fill-in\", \"Symmetry\") + tuple(num_cycle_sweeps)).astype(\n",
    "        {\"mock\": bool, \"caliber\": int, \"r-restrict\": bool, \"symmetrize\": bool, \"nnz(P)\": int}), x, R, p_values"
   ]
  },
  {
   "cell_type": "code",
   "execution_count": 422,
   "id": "5222f15f-4bcb-42a0-ac2f-116a94a716a0",
   "metadata": {},
   "outputs": [
    {
     "name": "stdout",
     "output_type": "stream",
     "text": [
      "seed 13\n"
     ]
    },
    {
     "data": {
      "text/html": [
       "<div>\n",
       "<style scoped>\n",
       "    .dataframe tbody tr th:only-of-type {\n",
       "        vertical-align: middle;\n",
       "    }\n",
       "\n",
       "    .dataframe tbody tr th {\n",
       "        vertical-align: top;\n",
       "    }\n",
       "\n",
       "    .dataframe thead th {\n",
       "        text-align: right;\n",
       "    }\n",
       "</style>\n",
       "<table border=\"1\" class=\"dataframe\">\n",
       "  <thead>\n",
       "    <tr style=\"text-align: right;\">\n",
       "      <th></th>\n",
       "      <th>mock</th>\n",
       "      <th>caliber</th>\n",
       "      <th>r-restrict</th>\n",
       "      <th>symmetrize</th>\n",
       "      <th>nnz(P)</th>\n",
       "      <th>Fill-in</th>\n",
       "      <th>Symmetry</th>\n",
       "      <th>1</th>\n",
       "      <th>2</th>\n",
       "      <th>3</th>\n",
       "      <th>4</th>\n",
       "      <th>5</th>\n",
       "      <th>6</th>\n",
       "      <th>7</th>\n",
       "      <th>8</th>\n",
       "    </tr>\n",
       "  </thead>\n",
       "  <tbody>\n",
       "    <tr>\n",
       "      <th>0</th>\n",
       "      <td>True</td>\n",
       "      <td>0</td>\n",
       "      <td>False</td>\n",
       "      <td>False</td>\n",
       "      <td>0</td>\n",
       "      <td>0.0000</td>\n",
       "      <td>0.0000</td>\n",
       "      <td>0.6010</td>\n",
       "      <td>0.3214</td>\n",
       "      <td>0.1838</td>\n",
       "      <td>0.1425</td>\n",
       "      <td>0.1417</td>\n",
       "      <td>0.1161</td>\n",
       "      <td>0.0908</td>\n",
       "      <td>0.0633</td>\n",
       "    </tr>\n",
       "    <tr>\n",
       "      <th>1</th>\n",
       "      <td>False</td>\n",
       "      <td>4</td>\n",
       "      <td>False</td>\n",
       "      <td>False</td>\n",
       "      <td>384</td>\n",
       "      <td>2.0000</td>\n",
       "      <td>0.0000</td>\n",
       "      <td>0.5999</td>\n",
       "      <td>0.3334</td>\n",
       "      <td>0.2058</td>\n",
       "      <td>0.1190</td>\n",
       "      <td>0.1374</td>\n",
       "      <td>0.1404</td>\n",
       "      <td>0.1009</td>\n",
       "      <td>0.0621</td>\n",
       "    </tr>\n",
       "    <tr>\n",
       "      <th>2</th>\n",
       "      <td>False</td>\n",
       "      <td>4</td>\n",
       "      <td>True</td>\n",
       "      <td>False</td>\n",
       "      <td>384</td>\n",
       "      <td>1.2000</td>\n",
       "      <td>0.0272</td>\n",
       "      <td>6.0023</td>\n",
       "      <td>0.5919</td>\n",
       "      <td>1.3434</td>\n",
       "      <td>0.5740</td>\n",
       "      <td>0.6748</td>\n",
       "      <td>0.2702</td>\n",
       "      <td>0.1818</td>\n",
       "      <td>0.1480</td>\n",
       "    </tr>\n",
       "    <tr>\n",
       "      <th>3</th>\n",
       "      <td>False</td>\n",
       "      <td>4</td>\n",
       "      <td>True</td>\n",
       "      <td>True</td>\n",
       "      <td>384</td>\n",
       "      <td>1.2000</td>\n",
       "      <td>0.0000</td>\n",
       "      <td>55.4614</td>\n",
       "      <td>9.1758</td>\n",
       "      <td>15.1867</td>\n",
       "      <td>6.4079</td>\n",
       "      <td>5.6353</td>\n",
       "      <td>1.7204</td>\n",
       "      <td>0.6493</td>\n",
       "      <td>1.1425</td>\n",
       "    </tr>\n",
       "  </tbody>\n",
       "</table>\n",
       "</div>"
      ],
      "text/plain": [
       "    mock  caliber  r-restrict  symmetrize  nnz(P)  Fill-in  Symmetry       1      2       3      4      5      6      7      8\n",
       "0   True        0       False       False       0   0.0000    0.0000  0.6010 0.3214  0.1838 0.1425 0.1417 0.1161 0.0908 0.0633\n",
       "1  False        4       False       False     384   2.0000    0.0000  0.5999 0.3334  0.2058 0.1190 0.1374 0.1404 0.1009 0.0621\n",
       "2  False        4        True       False     384   1.2000    0.0272  6.0023 0.5919  1.3434 0.5740 0.6748 0.2702 0.1818 0.1480\n",
       "3  False        4        True        True     384   1.2000    0.0000 55.4614 9.1758 15.1867 6.4079 5.6353 1.7204 0.6493 1.1425"
      ]
     },
     "metadata": {},
     "output_type": "display_data"
    }
   ],
   "source": [
    "num_tf_sweeps = np.concatenate(([0], 2 ** np.arange(1, 7)))\n",
    "num_tf_sweeps = 16\n",
    "num_windows = 32\n",
    "coarsening_types = [\n",
    "    (4, False, False),\n",
    "    (4, True, False),\n",
    "    (4, True, True)\n",
    "]\n",
    "\n",
    "# seed=5 strongly diverges.\n",
    "for seed in range(13, 14):\n",
    "    print(\"seed\", seed)\n",
    "    conv, x, R, p_values = two_level_performance(level0, aggregate_size, num_components, num_sweeps + 3,\n",
    "                                                 num_tf_sweeps, num_windows, coarsening_types, \n",
    "                                                 weighted=weighted, seed=seed)\n",
    "    display(conv)"
   ]
  },
  {
   "cell_type": "markdown",
   "id": "caee6f14-e74e-42ab-8d91-5e2658304156",
   "metadata": {},
   "source": [
    "Looks like a $P^T A P$ gives good rated with with only $4$ TF sweeps. $8$ are required to get a good $R A P$. So we could possibly benefit from a bootstrap step, although the overhead might not even be justified here."
   ]
  },
  {
   "cell_type": "markdown",
   "id": "239678f0-1eea-4254-9dc5-c4379e23d810",
   "metadata": {},
   "source": [
    "#### Applying Ritz Projection to TVs"
   ]
  },
  {
   "cell_type": "code",
   "execution_count": 428,
   "id": "4f90756c-142d-4fad-b432-6c487b0a9fe5",
   "metadata": {},
   "outputs": [
    {
     "name": "stdout",
     "output_type": "stream",
     "text": [
      "lambda before ritz [-0.046 -0.092 -0.012 -0.038 -0.093]\n",
      "lambda after ritz  [ 0.01   0.051 -0.065 -0.122 -0.133]\n"
     ]
    }
   ],
   "source": [
    "print(\"lambda before ritz\", np.array([level0.rq(x[:, i]) for i in range(x.shape[1])]))\n",
    "x2, lam2 = hm.linalg.ritz(x, level0.operator)\n",
    "#print(np.array([level0.rq(x2[:, i]) for i in range(x2.shape[1])]))\n",
    "print(\"lambda after ritz \", lam2)"
   ]
  },
  {
   "cell_type": "code",
   "execution_count": 429,
   "id": "2e2fa63b-412b-40eb-bfc4-1b8cbb688c35",
   "metadata": {},
   "outputs": [
    {
     "data": {
      "image/png": "[encoded data removed]",
      "text/plain": [
       "<Figure size 864x288 with 2 Axes>"
      ]
     },
     "metadata": {
      "needs_background": "light"
     },
     "output_type": "display_data"
    }
   ],
   "source": [
    "fig, axs = plt.subplots(1, 2, figsize=(12, 4))\n",
    "axs[0].plot(x[:, 0]);\n",
    "axs[1].plot(x2[:, 0]);"
   ]
  },
  {
   "cell_type": "markdown",
   "id": "3345eed9-6b38-4a29-b88e-08600be79a10",
   "metadata": {},
   "source": [
    "### Create Level 1"
   ]
  },
  {
   "cell_type": "code",
   "execution_count": 431,
   "id": "b13b85da-e0e2-4bf5-a737-30a0fd5f3f3e",
   "metadata": {},
   "outputs": [
    {
     "name": "stdout",
     "output_type": "stream",
     "text": [
      "INFO         0 |r| 1.730e+01 RER 3.36076\n",
      "INFO         1 |r| 3.756e+01 (2.17148) RER 0.08543 (0.02542) 439.632\n",
      "INFO         2 |r| 2.115e+02 (5.63159) RER 0.07424 (0.86898) 2849.116\n",
      "INFO         3 |r| 1.209e+03 (5.71569) RER 0.07296 (0.98285) 16568.768\n",
      "INFO         4 |r| 6.783e+03 (5.61091) RER 0.07254 (0.99424) 93504.736\n",
      "INFO         5 |r| 3.721e+04 (5.48539) RER 0.07222 (0.99553) 515213.184\n",
      "INFO         6 |r| 2.007e+05 (5.39448) RER 0.07204 (0.99754) 2786149.258\n",
      "INFO         7 |r| 1.081e+06 (5.38665) RER 0.07213 (1.00116) 14990604.491\n",
      "INFO         8 |r| 5.925e+06 (5.47965) RER 0.07246 (1.00467) 81761635.754\n",
      "INFO         9 |r| 3.333e+07 (5.62577) RER 0.07284 (1.00526) 457565780.545\n",
      "INFO        10 |r| 1.909e+08 (5.72807) RER 0.07302 (1.00238) 2614737209.993\n",
      "INFO        11 |r| 1.093e+09 (5.72583) RER 0.07291 (0.99852) 14993680104.658\n",
      "INFO        12 |r| 6.160e+09 (5.63454) RER 0.07261 (0.99595) 84826112215.848\n",
      "INFO        13 |r| 3.393e+10 (5.50876) RER 0.07228 (0.99540) 469445315967.907\n",
      "INFO        14 |r| 1.835e+11 (5.40691) RER 0.07206 (0.99696) 2545976657431.116\n",
      "INFO        15 |r| 9.871e+11 (5.38011) RER 0.07209 (1.00037) 13692601481832.662\n",
      "INFO        16 |r| 5.384e+12 (5.45489) RER 0.07238 (1.00413) 74384385932228.594\n",
      "INFO        17 |r| 3.014e+13 (5.59775) RER 0.07278 (1.00545) 414126818896737.062\n",
      "INFO        18 |r| 1.723e+14 (5.71564) RER 0.07301 (1.00311) 2359652423486506.000\n",
      "INFO        19 |r| 9.879e+14 (5.73458) RER 0.07295 (0.99922) 13542199711365768.000\n",
      "INFO        20 |r| 5.588e+15 (5.65683) RER 0.07268 (0.99630) 76890544740919744.000\n"
     ]
    },
    {
     "data": {
      "image/png": "[encoded data removed]",
      "text/plain": [
       "<Figure size 432x288 with 1 Axes>"
      ]
     },
     "metadata": {
      "needs_background": "light"
     },
     "output_type": "display_data"
    }
   ],
   "source": [
    "# Pick an interpolation operator P:1->0 to work with. We use a high-order (caliber 4) P and RAP.\n",
    "\n",
    "caliber = 4\n",
    "num_windows = None\n",
    "use_r_as_restriction = True #False\n",
    "symmetrize = True # False\n",
    "nu_tf = 64\n",
    "\n",
    "p = p_values[0]\n",
    "# x = hm.analysis.ideal.ideal_tv(level0.a, num_examples)[0] if nu_tf == -1 \\\n",
    "#     else hm.setup.auto_setup.get_test_matrix(level0.a, nu_tf, num_examples=num_examples)\n",
    "\n",
    "# # Create R, measure mock cycle rates.\n",
    "# r, s = hm.repetitive.locality.create_coarsening(x, aggregate_size, num_components, normalize=False, num_windows=num_windows)\n",
    "# R = r.tile(level0.size // aggregate_size)\n",
    "\n",
    "# p = hm.setup.auto_setup.create_interpolation(\n",
    "#     x, level0.a, R, level0.location, domain_size, interpolation_method, aggregate_size=aggregate_size, num_components=num_components, \n",
    "#     neighborhood=neighborhood, repetitive=repetitive, target_error=0.1,\n",
    "#     caliber=caliber, fit_scheme=fit_scheme, weighted=weighted, num_windows=num_windows)\n",
    "\n",
    "m0 = hm.repetitive.locality.create_two_level_hierarchy_from_matrix(\n",
    "    level0.a, level0.location, R, p, aggregate_size, num_components, use_r_as_restriction=use_r_as_restriction,\n",
    "    symmetrize=symmetrize)\n",
    "\n",
    "nu = 5\n",
    "y, _ = hm.repetitive.locality.two_level_conv_factor(m0, nu, print_frequency=1, debug=False)\n",
    "\n",
    "# Asymptotic vector.\n",
    "plt.title(\"Asymptotically Slowest Vector in Two-level Cycle({}, 0)\".format(nu))\n",
    "# y -= y.mean() # Remove zero component.\n",
    "e = y - m0[1].interpolate(m0[1].coarsen(y))\n",
    "plt.plot(y, label=\"x\");\n",
    "plt.plot(e, label=\"x-PRx\");\n",
    "\n",
    "plt.grid(True);\n",
    "plt.legend();"
   ]
  },
  {
   "cell_type": "code",
   "execution_count": 432,
   "id": "e573a132-ba00-4ca8-81b8-fc2b04e2c41f",
   "metadata": {},
   "outputs": [
    {
     "name": "stdout",
     "output_type": "stream",
     "text": [
      "0 lam [-0.     0.     0.064  0.064 -0.073 -0.073  0.12   0.12  -0.154 -0.154  0.167  0.167]\n",
      "1 lam [ 0.     0.     0.065  0.065 -0.074 -0.074  0.12   0.12  -0.155 -0.155  0.165  0.165]\n"
     ]
    }
   ],
   "source": [
    "# Calculate eigenpairs at all levels.\n",
    "laml, vl_finest = hm.analysis.ideal.compare_spectrum(m0)\n",
    "for l, lam in enumerate(laml):\n",
    "    print(l, \"lam\", np.array2string(lam[:12], precision=3))"
   ]
  },
  {
   "cell_type": "code",
   "execution_count": 409,
   "id": "5f7491f0-d13c-4ae3-9a11-a2fc9301ce5c",
   "metadata": {},
   "outputs": [],
   "source": [
    "# pd.DataFrame(m0[1]._p.todense())"
   ]
  },
  {
   "cell_type": "markdown",
   "id": "d97d6477-8522-423e-9c26-639881df50dd",
   "metadata": {},
   "source": [
    "## Level 1->2\n",
    "Loading a 6-point stencil obtained by 4/2 coarsening of level 0 from file."
   ]
  },
  {
   "cell_type": "code",
   "execution_count": null,
   "id": "7967fb9b-3262-4328-b1ac-99585d06c811",
   "metadata": {},
   "outputs": [],
   "source": [
    "a1 = scipy.sparse.load_npz('level_1_operator.npz')\n",
    "level1 = hm.setup.hierarchy.create_finest_level(a1)\n",
    "level0_location = np.arange(2 * a1.shape[0]) #level0.location\n",
    "level1.location = hm.setup.geometry.coarse_locations(level0_location, aggregate_size, num_components)\n",
    "pd.DataFrame(a1.todense()[4:6, np.unique(a1[4:6].nonzero()[1])])"
   ]
  },
  {
   "cell_type": "markdown",
   "id": "9d62a723-9a0a-4a16-99f2-cd079446059e",
   "metadata": {},
   "source": [
    "### Coarsening"
   ]
  },
  {
   "cell_type": "code",
   "execution_count": null,
   "id": "b751df68-e242-420f-81b1-7803f8b4ef20",
   "metadata": {},
   "outputs": [],
   "source": [
    "# Check Relaxation smoothing.\n",
    "num_sweeps = hm.setup.auto_setup.check_relaxation_speed(0, level1)[1]\n",
    "aggregate_size, num_components = 4, 2\n",
    "x, R = create_coarsening(level1, 30 * num_sweeps, aggregate_size, num_components)"
   ]
  },
  {
   "cell_type": "code",
   "execution_count": null,
   "id": "7f9ecb13-0791-4f92-8465-a2aac865702c",
   "metadata": {},
   "outputs": [],
   "source": [
    "xc = R.dot(x)\n",
    "display(pd.DataFrame(R[:5,:10].todense()))\n",
    "hm.repetitive.locality.plot_coarsening(R, x)"
   ]
  },
  {
   "cell_type": "markdown",
   "id": "1b7344a5-8f9f-4bd7-81ee-798ae4a9087c",
   "metadata": {},
   "source": [
    "### Interpolation Performance vs. #TF Sweeps"
   ]
  },
  {
   "cell_type": "code",
   "execution_count": null,
   "id": "b83658bd-80c8-4c61-9d00-ade78d1d4ae7",
   "metadata": {},
   "outputs": [],
   "source": [
    "#num_tf_sweeps = np.concatenate(([0], 2 ** np.arange(1, 10)))\n",
    "num_tf_sweeps = np.concatenate(([0], 2 ** np.arange(1, 10), [-1]))\n",
    "#num_tf_sweeps = [8]\n",
    "p_experiment = two_level_performance(level1, 10, num_tf_sweeps, aggregate_size, num_components)"
   ]
  },
  {
   "cell_type": "markdown",
   "id": "a1ce1612-bf75-40e5-8fad-073fa42df46c",
   "metadata": {},
   "source": [
    "* Here we require $32$ sweeps to get a good $P^T A P$, and $64$ to get a good $R A P$. So bootstrap is definitely beneficial. \n",
    "* Note that there is \"relaxing too much\": past $100$ sweeps, the 2-level convergence degrades. Some degeneration in the TFs likely.\n",
    "* Also, $R A P$ becomes less symmetric then. This happens with both weighted/unweighted LS fitting.\n",
    "* Mock cycle rates stabilize after $4-8$ relaxations."
   ]
  },
  {
   "cell_type": "markdown",
   "id": "717eba4d-e689-4cfa-82ac-43d3b7d05ce6",
   "metadata": {},
   "source": [
    "## Notes\n",
    "* A lot of samples with small # TF sweeps still gives us a good R because we have a large sample size for SVD.\n",
    "* Ideal vectors work: $P^T A P$ with high order $P$ is good. $R A P$ is OK. So relaxing to the limit is fine, provided the vectors are orthogonalized."
   ]
  },
  {
   "cell_type": "markdown",
   "id": "23103b87-f9b4-4ff0-85fb-3e64242ea010",
   "metadata": {},
   "source": [
    "## TODO"
   ]
  },
  {
   "cell_type": "markdown",
   "id": "72af0eda-17ec-4242-9b7b-3f5fdaf9994d",
   "metadata": {},
   "source": [
    "* Try ideal vectors.\n",
    "* Do relaxations to generate an initial $P$.\n",
    "* Bootstrap is for identifying slow-to-converge components and improve $P$ for them.\n",
    "* $8$ TF sweeps only - what is the initial cycle rate? Does it have good shrinkage? Even if asymptotic rate is bad.\n",
    "* Compare first mock cycle rates vs. 2-level cycle rates.\n",
    "* Check if divergence is because the last cycles ar bad but before were good.\n",
    "* Add orthogonalization / Ritz projection - does the result improve with more relax sweeps then?\n",
    "* Do we need to regularize?\n",
    "* Try larger domain, at which # relax does the problem start? Is it domain size dependent?"
   ]
  },
  {
   "cell_type": "code",
   "execution_count": null,
   "id": "b485da69-0186-4959-b141-58ff9b4c95e4",
   "metadata": {},
   "outputs": [],
   "source": [
    "p = p_experiment[True][-1]"
   ]
  },
  {
   "cell_type": "code",
   "execution_count": null,
   "id": "a6ec207d-f826-4e42-9fd8-44bf4a6fe362",
   "metadata": {},
   "outputs": [],
   "source": [
    "# TODO(orenlivne): define error as (x-x0) projected onto range(a).\n",
    "nu = 2\n",
    "use_r_as_restriction = False\n",
    "p = p_experiment[use_r_as_restriction][-1]  # P^T*A*P P high order\n",
    "use_r_as_restriction = use_r_as_restriction\n",
    "\n",
    "m1 = hm.repetitive.locality.create_two_level_hierarchy_from_matrix(\n",
    "    level1.a, level1.location, R, p, aggregate_size, num_components, use_r_as_restriction=use_r_as_restriction)\n",
    "\n",
    "y, _ = hm.repetitive.locality.two_level_conv_factor(m1, nu, print_frequency=1,\n",
    "                                                    debug=False)\n",
    "\n",
    "# Asymptotic vector.\n",
    "plt.title(\"Asymptotically Slowest Vector in Two-level Cycle({},0)\".format(nu))\n",
    "# y -= y.mean() # Remove zero component.\n",
    "e = y - m1[1].interpolate(m1[1].coarsen(y))\n",
    "plt.plot(y, label=\"x\");\n",
    "plt.plot(e, label=\"x-PRx\");\n",
    "plt.grid(True);\n",
    "plt.legend();"
   ]
  },
  {
   "cell_type": "code",
   "execution_count": null,
   "id": "d6b289fe-c569-47ce-a98a-7e9db964f4e7",
   "metadata": {},
   "outputs": [],
   "source": []
  }
 ],
 "metadata": {
  "hide_input": false,
  "kernelspec": {
   "display_name": "Python 3 (ipykernel)",
   "language": "python",
   "name": "python3"
  },
  "language_info": {
   "codemirror_mode": {
    "name": "ipython",
    "version": 3
   },
   "file_extension": ".py",
   "mimetype": "text/x-python",
   "name": "python",
   "nbconvert_exporter": "python",
   "pygments_lexer": "ipython3",
   "version": "3.9.7"
  }
 },
 "nbformat": 4,
 "nbformat_minor": 5
}
