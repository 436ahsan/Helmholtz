{
 "cells": [
  {
   "cell_type": "markdown",
   "id": "failing-perfume",
   "metadata": {},
   "source": [
    "# Helmholtz 1D: Building The Multilevel Hierarchy, Step-by-Step\n",
    "* Discretization: 5-point (4th order).\n",
    "* Fixed-domain problem; non-repetitive, so we generate TVs over entire domain.\n",
    "* Fix aggregate size to $4$ points. Consider a certain aggregate in the domain (say, the first one).\n",
    "* Observe beahviour vs. $\\nu$:\n",
    "  * Create relaxed TVs with $\\nu$ Kaczmarz relaxation sweeps.\n",
    "  * Create the coarsening operator $R$ using SVD. Observe singular value decay rate.\n",
    "  * Observe two-level mini-cycle convergence factor before slowing down."
   ]
  },
  {
   "cell_type": "markdown",
   "id": "36f9a6bc-e552-4822-8d23-4bd05d2975f8",
   "metadata": {},
   "source": [
    "## Shrinkage Factor\n",
    "Given an iterative method, we can calculate whether it's a good smoothing candidate using the **shrinkage factor** $\\mu$, even before measuring its mock cycle rate (which measures the combination of the smoother andcoarsening operator $R$).\n",
    "\n",
    "* Start from $5$ different random starts $x_0 = rand[-1,1]$, for each  apply the method for $A x = 0$ to obtain iterates $x_1, x_2, \\dots$.\n",
    "* For each iterate, calculate residual norm $r_i := \\|A x_i\\|_2$ and reduction per sweep, $\\mu_i := (r_i / r_0)^{\\frac{1}{i}}$, $i = 1, 2, \\dots$.\n",
    "* Average $\\mu_i$ over the $5$ starts.\n",
    "* Terminate the method at $j = i + 3$, where $i = argmin_i \\mu_i$ and set $\\mu \\leftarrow \\mu_j$."
   ]
  },
  {
   "cell_type": "code",
   "execution_count": 1,
   "id": "fatal-bride",
   "metadata": {},
   "outputs": [],
   "source": [
    "import collections\n",
    "import logging\n",
    "import numpy as np\n",
    "import matplotlib.pyplot as plt\n",
    "import helmholtz as hm\n",
    "import pandas as pd\n",
    "import scipy.sparse\n",
    "import sklearn.metrics.pairwise\n",
    "import sys\n",
    "from numpy.ma.testutils import assert_array_almost_equal\n",
    "from scipy.linalg import eig, norm, svd\n",
    "from scipy.sparse.linalg import eigs\n",
    "from scipy import optimize\n",
    "\n",
    "%load_ext autoreload\n",
    "%autoreload 2\n",
    "\n",
    "np.set_printoptions(linewidth=500, precision=3, suppress=True, threshold=100000)\n",
    "for handler in logging.root.handlers[:]: logging.root.removeHandler(handler)\n",
    "logging.basicConfig(stream=sys.stdout, level=logging.INFO, format=\"%(levelname)-8s %(message)s\",\n",
    "                    datefmt=\"%a, %d %b %Y %H:%M:%S\")\n",
    "\n",
    "logger = logging.getLogger(\"main\")\n",
    "_LOGGER = logger"
   ]
  },
  {
   "cell_type": "code",
   "execution_count": 2,
   "id": "2a9dfed3-c264-489a-9275-5abef457cb99",
   "metadata": {},
   "outputs": [],
   "source": [
    "def check_coarsening(level, aggregate_size: int = 4):\n",
    "    \"\"\"Checks coarsening based on relaxed TVs, for different number of relaxation sweeps.\n",
    "    If aggregate_size is not None, forces that aggregate size for the entire domain.\"\"\"\n",
    "    num_sweeps_values = 5 * 2 ** np.arange(8)\n",
    "\n",
    "    fig, axs = plt.subplots(len(num_sweeps_values), 3, figsize=(16, 3 * len(num_sweeps_values)))\n",
    "    for row, num_sweeps in enumerate(num_sweeps_values):\n",
    "        # Create relaxed TVs.\n",
    "        x = hm.solve.run.run_iterative_method(\n",
    "            level.operator, lambda x: level.relax(x, b), x_random, num_sweeps=num_sweeps)[0]\n",
    "\n",
    "        start, end = 0, aggregate_size\n",
    "        x_aggregate_t = x[start:end].transpose()\n",
    "        r, s = hm.setup.coarsening.create_coarsening(x_aggregate_t, threshold)\n",
    "        r = r.asarray()\n",
    "\n",
    "        # Relaxed vectors.\n",
    "        ax = axs[row, 0]\n",
    "        for i in range(3):\n",
    "            ax.plot(x[:, i]);\n",
    "        ax.grid(True)\n",
    "        ax.set_title(r\"Test Vectors, $\\nu={}$ sweeps\".format(num_sweeps))\n",
    "\n",
    "        ax = axs[row, 1]\n",
    "        # R should be real-valued, but cast just in case.\n",
    "        for i, ri in enumerate(np.real(r)):\n",
    "            ax.plot(ri)\n",
    "        ax.set_title(r\"Agg Size {} $n_c$ {}\".format(r.shape[1], r.shape[0]))\n",
    "        ax.set_ylabel(r\"$R$ rows\")\n",
    "        ax.grid(True);\n",
    "\n",
    "        # Singular values, normalized to sigma_max = 1.\n",
    "        ax = axs[row, 2]\n",
    "        ax.plot(s / s[0], \"rx\")\n",
    "        ax.set_title(\"Singular Values\")\n",
    "        ax.set_xlabel(r\"$k$\")\n",
    "        ax.set_ylabel(r\"$\\sigma_k$\")\n",
    "        ax.grid(True);\n",
    "\n",
    "        print(\"nu\", \"{:2d}\".format(num_sweeps), \"s\", s / s[0], \"Energy error\", (1 - np.cumsum(s ** 2) / sum(s ** 2)) ** 0.5)\n",
    "\n",
    "        # Generate coarse variables (R) on the non-repetitive domain.\n",
    "        r, aggregates, nc, energy_error = hm.setup.coarsening.create_coarsening_domain(x, threshold=threshold,\n",
    "                                                                                           fixed_aggregate_size=aggregate_size)\n",
    "        _LOGGER.info(\"Agg {}\".format(np.array([len(aggregate) for aggregate in aggregates])))\n",
    "        _LOGGER.info(\"nc  {}\".format(nc))\n",
    "        _LOGGER.info(\"Energy error mean {:.4f} max {:.4f}\".format(np.mean(energy_error), np.max(energy_error)))\n",
    "        mock_conv_factor = np.array(\n",
    "            [hm.setup.auto_setup.mock_cycle_conv_factor(level, r, nu) for nu in np.arange(1, 16, dtype=int)])\n",
    "        _LOGGER.info(\"Mock cycle conv factor {}\".format(np.array2string(mock_conv_factor, precision=3)))"
   ]
  },
  {
   "cell_type": "code",
   "execution_count": 3,
   "id": "ca363760-f09e-4ea3-9c3e-81aadf98c2ab",
   "metadata": {},
   "outputs": [],
   "source": [
    "# Fixed seed for reproducible results.\n",
    "np.random.seed(0)\n",
    "\n",
    "# Domain size.\n",
    "n = 96\n",
    "# Scaled wave number.\n",
    "kh = 0.5\n",
    "\n",
    "# Number of test vectors.\n",
    "num_examples = 20\n",
    "threshold = 0.1\n",
    "\n",
    "# Boottstrapping parameters.\n",
    "threshold = 0.1\n",
    "interpolation_method = \"ls\"\n",
    "num_test_examples = 5"
   ]
  },
  {
   "cell_type": "markdown",
   "id": "09e51279-8734-442c-88db-462f5b1edaab",
   "metadata": {},
   "source": [
    "## Level 0->1 Coarsening"
   ]
  },
  {
   "cell_type": "markdown",
   "id": "10a77b33-41f8-4b8e-b930-b1111f783374",
   "metadata": {},
   "source": [
    "### Relaxation Shrinkage Factor"
   ]
  },
  {
   "cell_type": "code",
   "execution_count": 6,
   "id": "68b90d7d-a93c-4c7e-bacd-19b5f15e878f",
   "metadata": {},
   "outputs": [
    {
     "name": "stdout",
     "output_type": "stream",
     "text": [
      "kh 0\n",
      "INFO     Iter     |r|                         |x|         RER\n",
      "INFO     0     1.442e+00                    4.470e-01    3.223\n",
      "INFO     1     7.733e-01 (0.537) [0.537]    3.302e-01    2.352 (0.728)\n",
      "INFO     2     4.380e-01 (0.567) [0.552]    2.782e-01    1.591 (0.675)\n",
      "INFO     3     2.670e-01 (0.611) [0.571]    2.529e-01    1.071 (0.673)\n",
      "INFO     4     1.782e-01 (0.668) [0.594]    2.386e-01    0.759 (0.709)\n",
      "INFO     5     1.313e-01 (0.737) [0.620]    2.293e-01    0.581 (0.767)\n",
      "INFO     6     1.053e-01 (0.802) [0.648]    2.225e-01    0.480 (0.827)\n",
      "INFO     7     8.955e-02 (0.850) [0.673]    2.172e-01    0.417 (0.871)\n",
      "INFO     8     7.901e-02 (0.881) [0.696]    2.128e-01    0.375 (0.900)\n",
      "INFO     9     7.133e-02 (0.902) [0.717]    2.090e-01    0.344 (0.918)\n",
      "INFO     10    6.539e-02 (0.915) [0.735]    2.057e-01    0.320 (0.930)\n",
      "INFO     11    6.063e-02 (0.925) [0.750]    2.028e-01    0.301 (0.939)\n",
      "INFO     12    5.665e-02 (0.932) [0.764]    2.002e-01    0.285 (0.945)\n",
      "INFO     13    5.330e-02 (0.939) [0.777]    1.978e-01    0.271 (0.950)\n",
      "INFO     14    5.043e-02 (0.944) [0.788]    1.956e-01    0.259 (0.955)\n",
      "INFO     15    4.792e-02 (0.948) [0.798]    1.936e-01    0.249 (0.958)\n",
      "INFO     16    4.573e-02 (0.952) [0.806]    1.917e-01    0.239 (0.962)\n",
      "INFO     17    4.378e-02 (0.956) [0.815]    1.899e-01    0.231 (0.965)\n",
      "INFO     18    4.203e-02 (0.959) [0.822]    1.883e-01    0.224 (0.967)\n",
      "INFO     19    4.046e-02 (0.961) [0.829]    1.867e-01    0.217 (0.969)\n",
      "INFO     20    3.903e-02 (0.964) [0.835]    1.853e-01    0.211 (0.971)\n",
      "Kac        RER at point of diminishing returns 0.13 num_sweeps  5 work  1 residual-per-sweep 0.53\n",
      "INFO     Iter     |r|                         |x|         RER\n",
      "INFO     0     1.455e+00                    4.467e-01    3.263\n",
      "INFO     1     5.724e-01 (0.394) [0.394]    2.626e-01    2.189 (0.670)\n",
      "INFO     2     2.361e-01 (0.412) [0.403]    1.963e-01    1.213 (0.553)\n",
      "INFO     3     1.039e-01 (0.440) [0.415]    1.698e-01    0.619 (0.510)\n",
      "INFO     4     5.077e-02 (0.488) [0.432]    1.561e-01    0.330 (0.532)\n",
      "INFO     5     2.825e-02 (0.557) [0.455]    1.472e-01    0.195 (0.591)\n",
      "INFO     6     1.832e-02 (0.649) [0.483]    1.406e-01    0.132 (0.680)\n",
      "INFO     7     1.340e-02 (0.732) [0.512]    1.353e-01    0.101 (0.761)\n",
      "INFO     8     1.062e-02 (0.792) [0.541]    1.308e-01    0.082 (0.819)\n",
      "INFO     9     8.859e-03 (0.833) [0.568]    1.270e-01    0.071 (0.859)\n",
      "INFO     10    7.629e-03 (0.860) [0.592]    1.236e-01    0.063 (0.884)\n",
      "INFO     11    6.713e-03 (0.879) [0.614]    1.206e-01    0.056 (0.901)\n",
      "INFO     12    5.999e-03 (0.893) [0.633]    1.179e-01    0.052 (0.914)\n",
      "INFO     13    5.422e-03 (0.903) [0.651]    1.155e-01    0.048 (0.923)\n",
      "INFO     14    4.944e-03 (0.911) [0.667]    1.132e-01    0.044 (0.929)\n",
      "INFO     15    4.541e-03 (0.918) [0.681]    1.112e-01    0.041 (0.935)\n",
      "INFO     16    4.193e-03 (0.923) [0.694]    1.093e-01    0.039 (0.939)\n",
      "INFO     17    3.891e-03 (0.928) [0.706]    1.076e-01    0.036 (0.943)\n",
      "INFO     18    3.626e-03 (0.931) [0.717]    1.059e-01    0.034 (0.946)\n",
      "INFO     19    3.390e-03 (0.935) [0.727]    1.044e-01    0.033 (0.948)\n",
      "INFO     20    3.180e-03 (0.937) [0.736]    1.030e-01    0.031 (0.950)\n",
      "GS         RER at point of diminishing returns 0.03 num_sweeps  5 work  1 residual-per-sweep 0.39\n",
      "kh 0.5\n",
      "INFO     Iter     |r|                         |x|         RER\n",
      "INFO     0     1.321e+00                    4.471e-01    2.956\n",
      "INFO     1     7.237e-01 (0.548) [0.548]    3.384e-01    2.141 (0.724)\n",
      "INFO     2     4.258e-01 (0.588) [0.568]    2.891e-01    1.475 (0.689)\n",
      "INFO     3     2.670e-01 (0.627) [0.587]    2.638e-01    1.014 (0.687)\n",
      "INFO     4     1.827e-01 (0.684) [0.610]    2.493e-01    0.735 (0.724)\n",
      "INFO     5     1.346e-01 (0.737) [0.633]    2.400e-01    0.562 (0.765)\n",
      "INFO     6     1.064e-01 (0.791) [0.657]    2.334e-01    0.457 (0.814)\n",
      "INFO     7     8.880e-02 (0.835) [0.680]    2.283e-01    0.390 (0.854)\n",
      "INFO     8     7.731e-02 (0.871) [0.701]    2.241e-01    0.346 (0.887)\n",
      "INFO     9     6.942e-02 (0.898) [0.721]    2.205e-01    0.315 (0.912)\n",
      "INFO     10    6.370e-02 (0.918) [0.738]    2.174e-01    0.294 (0.931)\n",
      "INFO     11    5.937e-02 (0.932) [0.754]    2.146e-01    0.277 (0.944)\n",
      "INFO     12    5.593e-02 (0.942) [0.768]    2.120e-01    0.265 (0.954)\n",
      "INFO     13    5.307e-02 (0.949) [0.781]    2.096e-01    0.254 (0.960)\n",
      "INFO     14    5.064e-02 (0.954) [0.792]    2.074e-01    0.245 (0.964)\n",
      "INFO     15    4.853e-02 (0.958) [0.802]    2.053e-01    0.237 (0.968)\n",
      "INFO     16    4.669e-02 (0.962) [0.811]    2.033e-01    0.230 (0.971)\n",
      "INFO     17    4.506e-02 (0.965) [0.820]    2.014e-01    0.224 (0.974)\n",
      "INFO     18    4.360e-02 (0.968) [0.827]    1.997e-01    0.219 (0.976)\n",
      "INFO     19    4.227e-02 (0.970) [0.834]    1.980e-01    0.214 (0.978)\n",
      "INFO     20    4.106e-02 (0.971) [0.841]    1.963e-01    0.210 (0.979)\n",
      "Kac        RER at point of diminishing returns 0.11 num_sweeps  6 work  1 residual-per-sweep 0.57\n",
      "INFO     Iter     |r|                         |x|         RER\n",
      "INFO     0     1.378e+00                    4.468e-01    3.079\n",
      "INFO     1     5.731e-01 (0.417) [0.417]    3.056e-01    1.880 (0.612)\n",
      "INFO     2     2.519e-01 (0.440) [0.428]    2.784e-01    0.914 (0.486)\n",
      "INFO     3     1.268e-01 (0.504) [0.452]    2.976e-01    0.433 (0.473)\n",
      "INFO     4     8.796e-02 (0.690) [0.503]    3.372e-01    0.263 (0.610)\n",
      "INFO     5     8.661e-02 (0.974) [0.574]    3.921e-01    0.220 (0.839)\n",
      "INFO     6     9.963e-02 (1.141) [0.645]    4.623e-01    0.214 (0.971)\n",
      "GS         RER at point of diminishing returns 0.13 num_sweeps  3 work  1 residual-per-sweep 0.35\n"
     ]
    },
    {
     "data": {
      "image/png": "[encoded data removed]",
      "text/plain": [
       "<Figure size 864x288 with 2 Axes>"
      ]
     },
     "metadata": {
      "needs_background": "light"
     },
     "output_type": "display_data"
    }
   ],
   "source": [
    "kh_values = [0, 0.5]\n",
    "fig, axs = plt.subplots(1, len(kh_values), figsize=(12, 4))\n",
    "\n",
    "kaczmarz = lambda a: hm.solve.relax.KaczmarzRelaxer(a, scipy.sparse.eye(a.shape[0]))\n",
    "gs = lambda a: hm.solve.relax.GsRelaxer(a)\n",
    "work = 1\n",
    "\n",
    "# Kaczmarz.\n",
    "for kh_value, ax in zip(kh_values, axs):\n",
    "    print(\"kh\", kh_value)\n",
    "    a_kh = hm.linalg.helmholtz_1d_5_point_operator(kh_value, n).tocsr()\n",
    "    operator = lambda x: a_kh.dot(x)\n",
    "\n",
    "    for title, relax, color in zip((\"Kac\", \"GS\"), (kaczmarz, gs), (\"blue\", \"red\")):\n",
    "        method = relax(a_kh)\n",
    "        factor, num_sweeps, residual, conv, rer, relax_conv_factor = hm.solve.smoothing.shrinkage_factor(\n",
    "            operator, lambda x, b: method.step(x, b), (a_kh.shape[0], ), \n",
    "            print_frequency=1, max_sweeps=20, slow_conv_factor=1.1)\n",
    "        hm.solve.smoothing.plot_diminishing_returns_point(factor, num_sweeps, conv, ax, title=title, color=color)\n",
    "        print(\"{:<10s} RER at point of diminishing returns {:.2f} num_sweeps {:>2d} work {:>2d} residual-per-sweep {:.2f}\".format(\n",
    "            title, np.mean(residual[num_sweeps]), num_sweeps, work, np.mean(residual[num_sweeps] / rer[0]) ** (1/(num_sweeps * work))))\n",
    "    \n",
    "    ax.set_title(r\"$kh = {:.2f}$\".format(kh_value))\n",
    "    ax.legend()"
   ]
  },
  {
   "cell_type": "markdown",
   "id": "bc6d8cb5-0318-48e8-aa7d-7634e3ae6407",
   "metadata": {
    "tags": []
   },
   "source": [
    "The point of diminishing returns in each scatterplot is circled.\n",
    "\n",
    "This estimate seems to give a reasonable estimate for both $kh$ values and both relaxation schemes (albeit not a quantitative smoothing factor, which can only be defined based on a coarsening), showing that GS is a better smoother for both $kh = 0, 0.5$, but slightly diverges for $kh = 0.5$. The RER at the point of diminishing returns is much smaller.\n",
    "\n",
    "Averaging over multiple random starts helps reduce noise, as well as assuming a constant reduction per sweep in the initial sweeps (as opposed to a linear model, say). We are only interested in a rough estimate."
   ]
  },
  {
   "cell_type": "markdown",
   "id": "16d8ea80-45ed-47b0-aa8e-85fcdc5526e6",
   "metadata": {},
   "source": [
    "### Coarsening Quality\n",
    "We measure the gap between the second and third singular values as a function of the number of TV relaxation sweeps $\\nu$. We force the aggregate size to be $4$."
   ]
  },
  {
   "cell_type": "code",
   "execution_count": null,
   "id": "2e221b74-3315-4384-ae18-7f161bd036b9",
   "metadata": {},
   "outputs": [],
   "source": [
    "a = hm.linalg.helmholtz_1d_5_point_operator(kh, n).tocsr()\n",
    "level = hm.setup.hierarchy.create_finest_level(a)\n",
    "x_random = hm.solve.run.random_test_matrix((a.shape[0],), num_examples=num_examples)\n",
    "b = np.zeros_like(x_random)"
   ]
  },
  {
   "cell_type": "code",
   "execution_count": null,
   "id": "7773af8c-0e99-4b8c-ac85-2aa9cb423704",
   "metadata": {},
   "outputs": [],
   "source": [
    "check_coarsening(level, 4)"
   ]
  },
  {
   "cell_type": "code",
   "execution_count": null,
   "id": "49cd45c0-c069-47ac-8488-30d706df2b70",
   "metadata": {},
   "outputs": [],
   "source": [
    "check_coarsening(level, 6)"
   ]
  },
  {
   "cell_type": "markdown",
   "id": "d630cb7c-8303-464d-9ef4-95063520d214",
   "metadata": {},
   "source": [
    "The gap $\\sigma_2 - \\sigma_3$ increases with $\\nu$, showing that an aggregate size of $4$ is fine (we can obtain an energy error as small as we want given a large enough $\\nu$)."
   ]
  },
  {
   "cell_type": "markdown",
   "id": "2065cab5-5772-4cb6-9a38-e623ecfce1e0",
   "metadata": {},
   "source": [
    "### Two-level Bootstrapping"
   ]
  },
  {
   "cell_type": "code",
   "execution_count": null,
   "id": "4c5163b8-56d3-4349-8f04-7fba7292a7ae",
   "metadata": {},
   "outputs": [],
   "source": [
    "max_levels = 2\n",
    "num_bootstrap_steps = 1\n",
    "num_sweeps = 10\n",
    "fixed_aggregate_size = None # 6\n",
    "\n",
    "x_log = []\n",
    "r_log = []\n",
    "\n",
    "# Initialize hierarchy to 1-level and fine-level test functions to random.\n",
    "finest = 0\n",
    "multilevel = hm.hierarchy.multilevel.Multilevel(level)\n",
    "\n",
    "_LOGGER.info(\"Relax at level {} size {}\".format(finest, level.size))\n",
    "b = np.zeros((a.shape[0], num_examples))\n",
    "_, relax_conv_factor = hm.solve.run.run_iterative_method(\n",
    "    level.operator, lambda x: level.relax(x, b), \n",
    "    hm.solve.run.random_test_matrix((a.shape[0],), num_examples=num_examples), num_sweeps=100)\n",
    "_LOGGER.info(\"Relax convergence factor {:.3f}\".format(relax_conv_factor))\n",
    "\n",
    "# TODO(orenlivne): generalize to d-dimensions. This is specific to 1D.\n",
    "x = hm.solve.run.random_test_matrix((a.shape[0],), num_examples=num_examples)\n",
    "# Improve vectors with 1-level relaxation.\n",
    "x_log.append(x)\n",
    "\n",
    "_LOGGER.info(\"Generating TVs with {} sweeps\".format(num_sweeps))\n",
    "x, _ = hm.solve.run.run_iterative_method(\n",
    "    level.operator, lambda x: level.relax(x, b), x, num_sweeps=num_sweeps)\n",
    "_LOGGER.info(\"RER {:.3f}\".format(norm(a.dot(x)) / norm(x)))\n",
    "x_log.append(x)\n",
    "\n",
    "# Bootstrap with an increasingly deeper hierarchy (add one level at a time).\n",
    "num_levels = 2\n",
    "_LOGGER.info(\"bootstrap on grid size {} with {} levels\".format(x.shape[0], max_levels))\n",
    "_LOGGER.info(\"-\" * 80)\n",
    "for i in range(num_bootstrap_steps):\n",
    "    _LOGGER.info(\"Bootstrap step {}/{}\".format(i + 1, num_bootstrap_steps))\n",
    "    # Set relax_conv_factor to a high value so that we never append a bootstrap vector to the TV set.\n",
    "    x, multilevel = hm.setup.auto_setup.bootstap(\n",
    "        x, multilevel, num_levels, 2.0,\n",
    "        num_sweeps=num_sweeps, interpolation_method=interpolation_method, \n",
    "        threshold=threshold, fixed_aggregate_size=fixed_aggregate_size)\n",
    "    x_log.append(x)\n",
    "    r_log.append(multilevel.level[1].r)\n",
    "    _LOGGER.info(\"RER {:.6f}\".format(norm(a.dot(x)) / norm(x)))\n",
    "    _LOGGER.info(\"-\" * 80)"
   ]
  },
  {
   "cell_type": "markdown",
   "id": "889a8fb4-4b1b-4b4e-9fc8-6f7edad2c751",
   "metadata": {},
   "source": [
    "### Relaxation Cycle Shrinkage\n",
    "We compare relaxation cycle with $\\nu_1=2, \\nu_2=2, \\nu_{coarse}=20$ with the resulting $P$ and $R$ from the bootstrap step, with Kaczmarz relaxation."
   ]
  },
  {
   "cell_type": "code",
   "execution_count": null,
   "id": "41236d4e-a5c9-47a6-9ca6-fde1cd7d3189",
   "metadata": {},
   "outputs": [],
   "source": [
    "hm.solve.smoothing.check_relax_cycle_shrinkage(multilevel, nu_coarsest=20)"
   ]
  },
  {
   "cell_type": "markdown",
   "id": "8c0a2cbf-c729-42bc-9c35-53d0d5e020c2",
   "metadata": {},
   "source": [
    "Even though per work unit it is about the same (the mini-cycle is $6$ relaxations worth), the two-level relaxation cycle reduces the RER much more than Kaczmarz until the point of diminishing returns.\n",
    "\n",
    "As expected, both methods are asymptotically slow (probably the same rate of convergence)."
   ]
  },
  {
   "cell_type": "markdown",
   "id": "1e9b4cda-cd2b-46e2-bb8d-fe7f951aded1",
   "metadata": {},
   "source": [
    "### Effect of a Second Bootstrap Cycle"
   ]
  },
  {
   "cell_type": "code",
   "execution_count": null,
   "id": "de6366c6-95b5-4b22-b685-39e4fab43b37",
   "metadata": {},
   "outputs": [],
   "source": [
    "x, multilevel = hm.setup.auto_setup.bootstap(\n",
    "    x, multilevel, num_levels, 2.0,\n",
    "    num_sweeps=num_sweeps, interpolation_method=interpolation_method, threshold=threshold)\n",
    "x_log.append(x)\n",
    "r_log.append(multilevel.level[1].r)\n",
    "_LOGGER.info(\"RER {:.3f}\".format(norm(a.dot(x)) / norm(x)))"
   ]
  },
  {
   "cell_type": "code",
   "execution_count": null,
   "id": "73a78ec7-b0c1-4c62-9087-a18933889e74",
   "metadata": {},
   "outputs": [],
   "source": [
    "hm.solve.smoothing.check_relax_cycle_shrinkage(multilevel)"
   ]
  },
  {
   "cell_type": "markdown",
   "id": "f24f9d08-df1d-47a4-ab41-f00778e8bf3f",
   "metadata": {},
   "source": [
    "Looks like the final RER obtained with a relaxation cycle after one and two bootstrap cycles is the same, so we didn't make it worse."
   ]
  },
  {
   "cell_type": "markdown",
   "id": "ead05348-170e-4f90-bf97-f9e9d1ca3c9e",
   "metadata": {},
   "source": [
    "### Effect of Bootstrap on $R$'s Singular Values"
   ]
  },
  {
   "cell_type": "code",
   "execution_count": null,
   "id": "75a02978-28b1-48e2-80a3-2b760bed3618",
   "metadata": {},
   "outputs": [],
   "source": [
    "# Create a final R from the most updated TVs.\n",
    "x_fit, x_test = x[:, :-num_test_examples], x[:, -num_test_examples:]\n",
    "\n",
    "# Create the coarsening operator R.\n",
    "r, aggregates, nc, energy_error = hm.setup.coarsening.create_coarsening_domain(x_fit, threshold=threshold)\n",
    "r_log.append(r)"
   ]
  },
  {
   "cell_type": "code",
   "execution_count": null,
   "id": "7d748fa6-3fc7-4dcc-86b6-0df2ed26d7e6",
   "metadata": {},
   "outputs": [],
   "source": [
    "aggregate_size = 4\n",
    "fig, axs = plt.subplots(len(x_log), 3, figsize=(16, 3 * len(x_log)))\n",
    "for row, x in enumerate(x_log):\n",
    "    start, end = 0, aggregate_size\n",
    "    x_aggregate_t = x[start:end].transpose()\n",
    "    r, s = hm.setup.coarsening.create_coarsening(x_aggregate_t, threshold)\n",
    "    r = r.asarray()\n",
    "\n",
    "    # Relaxed vectors.\n",
    "    ax = axs[row, 0]\n",
    "    for i in range(3):\n",
    "        ax.plot(x[:, i]);\n",
    "    ax.grid(True)\n",
    "    ax.set_title(r\"Test Vectors at Step {}\".format(row))\n",
    "\n",
    "    ax = axs[row, 1]\n",
    "    # R should be real-valued, but cast just in case.\n",
    "    for i, ri in enumerate(np.real(r)):\n",
    "        ax.plot(ri)\n",
    "    ax.set_title(r\"Agg Size {} $n_c$ {}\".format(r.shape[1], r.shape[0]))\n",
    "    ax.set_ylabel(r\"$R$ rows\")\n",
    "    ax.grid(True);\n",
    "\n",
    "    # Singular values, normalized to sigma_max = 1.\n",
    "    ax = axs[row, 2]\n",
    "    ax.plot(s / s[0], \"rx\")\n",
    "    ax.set_title(\"Singular Values\")\n",
    "    ax.set_xlabel(r\"$k$\")\n",
    "    ax.set_ylabel(r\"$\\sigma_k$\")\n",
    "    ax.grid(True);\n",
    "    \n",
    "    print(\"Step {:2d}\".format(row), \"s\", s / s[0], \"Energy error\", (1 - np.cumsum(s ** 2) / sum(s ** 2)) ** 0.5)"
   ]
  },
  {
   "cell_type": "markdown",
   "id": "13570b46-ff2f-4d57-99c5-85255d84afc0",
   "metadata": {},
   "source": [
    "With bootstrap cycles, the smoother the TVs and the better the singular value separation: $R$ is improved."
   ]
  },
  {
   "cell_type": "code",
   "execution_count": null,
   "id": "273d7a65-a370-49bc-b56b-1a2dc8eee675",
   "metadata": {},
   "outputs": [],
   "source": [
    "# Save fine-level TVs.\n",
    "x_fine = x"
   ]
  },
  {
   "cell_type": "markdown",
   "id": "d984b180-0dd4-40e1-90dd-bfbbdedb91b1",
   "metadata": {},
   "source": [
    "## Level 1->2 Coarsening\n",
    "Are the equations at level 1 harder to solve than level 0 because of worse smoothing rates? Do we see a good coarsening ratio for an aggregate of size $4$ here too?"
   ]
  },
  {
   "cell_type": "code",
   "execution_count": null,
   "id": "efd9c302-68ef-42b5-b6f0-7918e7ec3dec",
   "metadata": {},
   "outputs": [],
   "source": [
    "level = multilevel.level[1]\n",
    "a = level.a\n",
    "x_random = hm.solve.run.random_test_matrix((a.shape[0],), num_examples=num_examples)\n",
    "b = np.zeros_like(x_random)"
   ]
  },
  {
   "cell_type": "markdown",
   "id": "133ff870-2b78-4ca0-84c9-7ce1dad737b2",
   "metadata": {},
   "source": [
    "### Relaxation Shrinkage Factor"
   ]
  },
  {
   "cell_type": "code",
   "execution_count": null,
   "id": "650947b7-aa5d-45bf-ae11-d40ddb76bace",
   "metadata": {},
   "outputs": [],
   "source": [
    "kaczmarz = lambda a: hm.solve.relax.KaczmarzRelaxer(a, scipy.sparse.eye(a.shape[0]))\n",
    "gs = lambda a: hm.solve.relax.GsRelaxer(a)\n",
    "work = 1\n",
    "\n",
    "fig, ax = plt.subplots(1, 1, figsize=(6, 4))\n",
    "\n",
    "# Kaczmarz.\n",
    "operator = lambda x: a.dot(x)\n",
    "for title, relax, color in zip((\"Kac\", ), (kaczmarz, ), (\"blue\", )):\n",
    "    method = relax(a)\n",
    "    factor, num_sweeps, rer, conv = hm.solve.smoothing.shrinkage_factor(\n",
    "        operator, lambda x, b: method.step(x, b), (a.shape[0], ), print_frequency=1, max_sweeps=20, slow_conv_factor=2, num_examples=1)\n",
    "    hm.solve.smoothing.plot_diminishing_returns_point(factor, num_sweeps, conv, ax, title=title, color=color)\n",
    "    print(\"{:<10s} RER at point of diminishing returns {:.2f} num_sweeps {:>2d} work {:>2d} RER-per-sweep {:.2f}\".format(\n",
    "        title, np.mean(rer[num_sweeps]), num_sweeps, work, np.mean(rer[num_sweeps] / rer[0]) ** (1/(num_sweeps * work))))\n",
    "\n",
    "ax.set_title(r\"$kh = {:.2f}$\".format(kh_value))\n",
    "ax.legend();"
   ]
  },
  {
   "cell_type": "markdown",
   "id": "2cfa8255-97d9-46ff-b889-fa3efe612dcb",
   "metadata": {},
   "source": [
    "Kaczmarz slows down more quickly here than on level 1. GS diverges."
   ]
  },
  {
   "cell_type": "markdown",
   "id": "c071e7fb-a825-4f61-81e8-8dee06e7a77f",
   "metadata": {},
   "source": [
    "### $R$ for Aggregate Size = 4"
   ]
  },
  {
   "cell_type": "code",
   "execution_count": null,
   "id": "a8e874ef-28c5-460b-9870-290a4bcaff15",
   "metadata": {},
   "outputs": [],
   "source": [
    "check_coarsening(level, 4)"
   ]
  },
  {
   "cell_type": "markdown",
   "id": "88f97445-a087-4ca1-b56e-b2e24233df00",
   "metadata": {},
   "source": [
    "It looks like it takes a lot more relaxation sweeps to see $2$ components in a size $4$ aggregate here. Mock cycle rates are also worse."
   ]
  },
  {
   "cell_type": "markdown",
   "id": "02629c15-8e96-4e0b-87a4-b907e8eaa6e9",
   "metadata": {},
   "source": [
    "### $R$ for Aggregate Size = 6"
   ]
  },
  {
   "cell_type": "code",
   "execution_count": null,
   "id": "729c5adb-10cd-4a90-94ed-d911326e63b5",
   "metadata": {},
   "outputs": [],
   "source": [
    "check_coarsening(level, 6)"
   ]
  },
  {
   "cell_type": "markdown",
   "id": "cb0e96ff-267f-4318-9f38-a52bcc490e5d",
   "metadata": {},
   "source": [
    "One can obtain a good coarsening here too (in terms of coarsening ratio and mock cycle rates), with an aggregate size of $6$ and $3$ coarse variables. Note that this requires less smoothing ($\\nu = 40$) than for an aggregate size of $4$, where we stll $3$ PCs until $\\nu$ is much larger ($320$). Thus, a general criterion would find the larger aggregate size.\n",
    "\n",
    "The mock cycle rates are worse than for level 0, but we can still obtain improvement when more relaxations per cycle are added. Convergence of $0.2$ is obtained for $11$ relaxations per cycle, as opposed to $3$ at level 0."
   ]
  },
  {
   "cell_type": "markdown",
   "id": "22077e9f-91d4-4871-9bce-7d0bc9955cd4",
   "metadata": {},
   "source": [
    "### $R$ with Dynamic Aggregate Size"
   ]
  },
  {
   "cell_type": "code",
   "execution_count": null,
   "id": "6908da70-7fe7-46bd-b628-9c13459f302d",
   "metadata": {},
   "outputs": [],
   "source": [
    "check_coarsening(level, None)"
   ]
  },
  {
   "cell_type": "markdown",
   "id": "26daff38-b358-48f7-a7cb-505526e0686d",
   "metadata": {},
   "source": [
    "### Two-level Bootstrapping"
   ]
  },
  {
   "cell_type": "code",
   "execution_count": null,
   "id": "ea8f65f0-4d75-430c-b718-99be2c73c513",
   "metadata": {},
   "outputs": [],
   "source": [
    "num_examples = 30\n",
    "max_levels = 2\n",
    "num_bootstrap_steps = 3\n",
    "num_sweeps = 20\n",
    "\n",
    "x_log = []\n",
    "r_log = []\n",
    "\n",
    "# Initialize hierarchy to 1-level and fine-level test functions to random.\n",
    "finest = 0\n",
    "multilevel = hm.hierarchy.multilevel.Multilevel(level)\n",
    "\n",
    "_LOGGER.info(\"Relax at level {} size {}\".format(finest, level.size))\n",
    "b = np.zeros((a.shape[0], num_examples))\n",
    "_, relax_conv_factor = hm.solve.run.run_iterative_method(\n",
    "    level.operator, lambda x: level.relax(x, b), \n",
    "    hm.solve.run.random_test_matrix((a.shape[0],), num_examples=num_examples), num_sweeps=100)\n",
    "_LOGGER.info(\"Relax convergence factor {:.3f}\".format(relax_conv_factor))\n",
    "\n",
    "# Start from random again. Level 0 doesn't exist here.\n",
    "x = hm.solve.run.random_test_matrix((a.shape[0],), num_examples=num_examples)\n",
    "x_log.append(x)\n",
    "\n",
    "# Improve vectors with 1-level relaxation.\n",
    "_LOGGER.info(\"Generating TVs with {} sweeps\".format(num_sweeps))\n",
    "x, _ = hm.solve.run.run_iterative_method(\n",
    "    level.operator, lambda x: level.relax(x, b), x, num_sweeps=num_sweeps)\n",
    "_LOGGER.info(\"RER {:.3f}\".format(norm(a.dot(x)) / norm(x)))\n",
    "x_log.append(x)\n",
    "\n",
    "# Bootstrap with an increasingly deeper hierarchy (add one level at a time).\n",
    "num_levels = 2\n",
    "_LOGGER.info(\"bootstrap on grid size {} with {} levels\".format(x.shape[0], max_levels))\n",
    "_LOGGER.info(\"-\" * 80)\n",
    "for i in range(num_bootstrap_steps):\n",
    "    _LOGGER.info(\"Bootstrap step {}/{}\".format(i + 1, num_bootstrap_steps))\n",
    "    # Set relax_conv_factor to a high value so that we never append a bootstrap vector to the TV set.\n",
    "    x, multilevel = hm.setup.auto_setup.bootstap(\n",
    "        x, multilevel, num_levels, 2.0,\n",
    "        num_sweeps=num_sweeps, interpolation_method=interpolation_method, threshold=threshold)\n",
    "    x_log.append(x)\n",
    "    r_log.append(multilevel.level[1].r)\n",
    "    _LOGGER.info(\"RER {:.6f}\".format(norm(a.dot(x)) / norm(x)))\n",
    "    _LOGGER.info(\"-\" * 80)"
   ]
  },
  {
   "cell_type": "code",
   "execution_count": null,
   "id": "34c31202-7643-4a7a-ad9a-1f1961252f8c",
   "metadata": {},
   "outputs": [],
   "source": [
    "# Create a final R from the most updated TVs.\n",
    "x_fit, x_test = x[:, :-num_test_examples], x[:, -num_test_examples:]\n",
    "\n",
    "# Create the coarsening operator R.\n",
    "r, aggregates, nc, energy_error = hm.setup.coarsening.create_coarsening_domain(x_fit, threshold=threshold)\n",
    "r_log.append(r)"
   ]
  },
  {
   "cell_type": "code",
   "execution_count": null,
   "id": "105f9bf6-65f7-4cb1-acea-cc046c4ca54d",
   "metadata": {},
   "outputs": [],
   "source": [
    "aggregate_size = 4\n",
    "fig, axs = plt.subplots(len(x_log), 3, figsize=(16, 3 * len(x_log)))\n",
    "for row, x in enumerate(x_log):\n",
    "    start, end = 0, aggregate_size\n",
    "    x_aggregate_t = x[start:end].transpose()\n",
    "    r, s = hm.setup.coarsening.create_coarsening(x_aggregate_t, threshold)\n",
    "    r = r.asarray()\n",
    "\n",
    "    # Relaxed vectors.\n",
    "    ax = axs[row, 0]\n",
    "    for i in range(3):\n",
    "        ax.plot(x[:, i]);\n",
    "    ax.grid(True)\n",
    "    ax.set_title(r\"Test Vectors at Step {}\".format(row))\n",
    "\n",
    "    ax = axs[row, 1]\n",
    "    # R should be real-valued, but cast just in case.\n",
    "    for i, ri in enumerate(np.real(r)):\n",
    "        ax.plot(ri)\n",
    "    ax.set_title(r\"Agg Size {} $n_c$ {}\".format(r.shape[1], r.shape[0]))\n",
    "    ax.set_ylabel(r\"$R$ rows\")\n",
    "    ax.grid(True);\n",
    "\n",
    "    # Singular values, normalized to sigma_max = 1.\n",
    "    ax = axs[row, 2]\n",
    "    ax.plot(s / s[0], \"rx\")\n",
    "    ax.set_title(\"Singular Values\")\n",
    "    ax.set_xlabel(r\"$k$\")\n",
    "    ax.set_ylabel(r\"$\\sigma_k$\")\n",
    "    ax.grid(True);\n",
    "    \n",
    "    print(\"Step {:2d}\".format(row), \"s\", s / s[0], \"Energy error\", (1 - np.cumsum(s ** 2) / sum(s ** 2)) ** 0.5)"
   ]
  },
  {
   "cell_type": "markdown",
   "id": "8e0e2196-3794-4068-a67d-4f5b1a5ccfdc",
   "metadata": {},
   "source": [
    "Here we also observe that the singular value gap increases with bootsrap cycles, but no longer monotonically (it is noisy)."
   ]
  },
  {
   "cell_type": "code",
   "execution_count": null,
   "id": "b5aa8096-0bc7-4324-96c2-e08d372bdedd",
   "metadata": {},
   "outputs": [],
   "source": [
    "hm.solve.smoothing.check_relax_cycle_shrinkage(multilevel, max_sweeps=100)"
   ]
  },
  {
   "cell_type": "markdown",
   "id": "e97b13ee-75a4-4a0e-97e0-a0129a7358b1",
   "metadata": {},
   "source": [
    "## Questions\n",
    "* Why aren't level 1 TVs getting smoother with bootstrap cycles? Their RER oscillates wildly between cycles even though the interpolation error is good (see cycle 2->3).\n",
    "* Need a lot more examples (30 instead of 20) on level 1 because apparently there are up to 12 interpolation points in the stencil (if a large enough aggregate is chosen)."
   ]
  }
 ],
 "metadata": {
  "hide_input": false,
  "kernelspec": {
   "display_name": "Python 3",
   "language": "python",
   "name": "python3"
  },
  "language_info": {
   "codemirror_mode": {
    "name": "ipython",
    "version": 3
   },
   "file_extension": ".py",
   "mimetype": "text/x-python",
   "name": "python",
   "nbconvert_exporter": "python",
   "pygments_lexer": "ipython3",
   "version": "3.8.6"
  }
 },
 "nbformat": 4,
 "nbformat_minor": 5
}
