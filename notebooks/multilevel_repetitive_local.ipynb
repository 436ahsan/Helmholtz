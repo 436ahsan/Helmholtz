{
 "cells": [
  {
   "cell_type": "markdown",
   "id": "failing-perfume",
   "metadata": {},
   "source": [
    "# AMG+ for 1D Helmholtz: The Repetitive Case\n",
    "* Constant $k$.\n",
    "* Discretization: 5-point (4th order).\n",
    "* Kaczmarz relaxation.\n",
    "* Fixed-domain problem; repetitive, so we sample windows from a test vector."
   ]
  },
  {
   "cell_type": "code",
   "execution_count": 517,
   "id": "fatal-bride",
   "metadata": {},
   "outputs": [],
   "source": [
    "%run /Users/olivne/helmholtz/src/helmholtz/startup.ipy"
   ]
  },
  {
   "cell_type": "code",
   "execution_count": 518,
   "id": "ca363760-f09e-4ea3-9c3e-81aadf98c2ab",
   "metadata": {},
   "outputs": [
    {
     "name": "stdout",
     "output_type": "stream",
     "text": [
      "INFO     kh 0\n"
     ]
    }
   ],
   "source": [
    "# Fixed seed for reproducible results.\n",
    "np.random.seed(1)\n",
    "\n",
    "# Domain size.\n",
    "n = 96\n",
    "# Scaled wave number. Fit so lam_min = 0 (integer # periods in domain).\n",
    "discretization = \"3-point\"\n",
    "kh = 0\n",
    "#kh = helmholtz.analysis.ideal.find_singular_kh(discretization, n)[0]\n",
    "\n",
    "repetitive = True\n",
    "\n",
    "# Test vectors.\n",
    "ideal_tv = True #. False    # Use eigenvectors or not.\n",
    "# Number of test vectors.  \n",
    "num_examples = 2\n",
    "# Set # sweeps manually here.\n",
    "num_sweeps_on_vectors = 1000 # None\n",
    "threshold = 0.1\n",
    "\n",
    "# Boottstrapping parameters.\n",
    "interpolation_method = \"ls\"\n",
    "neighborhood = \"extended\" #\"aggregate\" # \"extended\"\n",
    "num_test_examples = 5\n",
    "leeway_factor = 1.3\n",
    "\n",
    "_LOGGER.info(\"kh {}\".format(kh))"
   ]
  },
  {
   "cell_type": "markdown",
   "id": "09e51279-8734-442c-88db-462f5b1edaab",
   "metadata": {},
   "source": [
    "## Level 0->1 Coarsening"
   ]
  },
  {
   "cell_type": "code",
   "execution_count": 519,
   "id": "8cd63abe-591b-4579-a358-d0e9ae6863f4",
   "metadata": {},
   "outputs": [],
   "source": [
    "# Create fine-level matrix.\n",
    "a = hm.linalg.helmholtz_1d_discrete_operator(kh, discretization, n)\n",
    "# Use default = Kacmzarz relaxation for kh != 0.\n",
    "level = hm.setup.hierarchy.create_finest_level(a,  relaxer=hm.solve.relax.GsRelaxer(a) if kh == 0 else None)\n",
    "\n",
    "# Initialize hierarchy to 1-level.\n",
    "finest = 0\n",
    "multilevel = hm.setup.hierarchy.multilevel.Multilevel.create(level)\n",
    "\n",
    "# TV and TV residual history.\n",
    "x_log = []\n",
    "r_log = []"
   ]
  },
  {
   "cell_type": "markdown",
   "id": "10a77b33-41f8-4b8e-b930-b1111f783374",
   "metadata": {},
   "source": [
    "### Relaxation"
   ]
  },
  {
   "cell_type": "code",
   "execution_count": 520,
   "id": "68b90d7d-a93c-4c7e-bacd-19b5f15e878f",
   "metadata": {},
   "outputs": [
    {
     "name": "stdout",
     "output_type": "stream",
     "text": [
      "INFO     Kaczmarz\n",
      "INFO     Iter     |r|                         |x|         RER\n",
      "INFO     0     1.077e+00                    4.468e-01    2.418\n",
      "INFO     1     3.922e-01 (0.364) [0.364]    2.569e-01    1.539 (0.635)\n",
      "INFO     2     1.562e-01 (0.399) [0.381]    1.847e-01    0.855 (0.556)\n",
      "INFO     3     7.110e-02 (0.455) [0.405]    1.520e-01    0.474 (0.554)\n",
      "INFO     4     3.759e-02 (0.528) [0.433]    1.331e-01    0.288 (0.605)\n",
      "INFO     5     2.282e-02 (0.606) [0.463]    1.212e-01    0.193 (0.668)\n",
      "INFO     6     1.586e-02 (0.695) [0.496]    1.129e-01    0.145 (0.748)\n",
      "INFO     7     1.183e-02 (0.748) [0.525]    1.067e-01    0.114 (0.793)\n",
      "INFO     8     9.230e-03 (0.781) [0.552]    1.018e-01    0.093 (0.820)\n",
      "INFO     9     7.447e-03 (0.806) [0.576]    9.777e-02    0.078 (0.841)\n",
      "INFO     10    6.171e-03 (0.827) [0.597]    9.433e-02    0.067 (0.859)\n",
      "INFO     11    5.225e-03 (0.844) [0.617]    9.134e-02    0.059 (0.873)\n",
      "INFO     12    4.508e-03 (0.859) [0.634]    8.869e-02    0.053 (0.886)\n",
      "INFO     13    3.952e-03 (0.872) [0.650]    8.631e-02    0.048 (0.898)\n",
      "INFO     14    3.514e-03 (0.884) [0.665]    8.415e-02    0.044 (0.909)\n",
      "INFO     15    3.162e-03 (0.895) [0.678]    8.216e-02    0.041 (0.918)\n",
      "INFO     16    2.875e-03 (0.904) [0.691]    8.032e-02    0.038 (0.927)\n",
      "INFO     17    2.638e-03 (0.912) [0.703]    7.862e-02    0.036 (0.934)\n",
      "INFO     18    2.438e-03 (0.919) [0.713]    7.704e-02    0.034 (0.940)\n",
      "INFO     19    2.269e-03 (0.925) [0.723]    7.555e-02    0.033 (0.946)\n",
      "INFO     20    2.122e-03 (0.931) [0.733]    7.417e-02    0.031 (0.950)\n",
      "INFO     Relax conv 0.84 shrinkage 0.46 PODR RER 0.19 after 5 sweeps. Work 1.0 eff 0.46\n"
     ]
    },
    {
     "data": {
      "image/png": "[encoded data removed]",
      "text/plain": [
       "<Figure size 432x288 with 1 Axes>"
      ]
     },
     "metadata": {
      "needs_background": "light"
     },
     "output_type": "display_data"
    }
   ],
   "source": [
    "method_info = hm.solve.smoothing.check_relax_cycle_shrinkage(\n",
    "    multilevel, num_levels=1, leeway_factor=leeway_factor, slow_conv_factor=0.95)\n",
    "num_sweeps = method_info[\"Kaczmarz\"][1]"
   ]
  },
  {
   "cell_type": "code",
   "execution_count": 521,
   "id": "31e12237-be4d-4d20-bcc6-2884284c6cd8",
   "metadata": {},
   "outputs": [
    {
     "name": "stdout",
     "output_type": "stream",
     "text": [
      "INFO     Generating 2 ideal TVs\n"
     ]
    }
   ],
   "source": [
    "nu = num_sweeps_on_vectors if num_sweeps_on_vectors is not None else num_sweeps\n",
    "# Generate initial test vectors.\n",
    "level = multilevel[0]\n",
    "if ideal_tv:\n",
    "    _LOGGER.info(\"Generating {} ideal TVs\".format(num_examples))\n",
    "    x, lam = hm.analysis.ideal.ideal_tv(level.a, num_examples)\n",
    "else:\n",
    "    _LOGGER.info(\"Generating {} TVs with {} sweeps\".format(num_examples, nu))\n",
    "    x = hm.setup.auto_setup.get_test_matrix(a, nu, num_examples=num_examples)\n",
    "    _LOGGER.info(\"RER {:.3f}\".format(norm(level.a.dot(x)) / norm(x)))\n",
    "x_log.append(x)"
   ]
  },
  {
   "cell_type": "markdown",
   "id": "16d8ea80-45ed-47b0-aa8e-85fcdc5526e6",
   "metadata": {},
   "source": [
    "### Coarsening: Fixed (4/2)"
   ]
  },
  {
   "cell_type": "code",
   "execution_count": 522,
   "id": "02954b00-7662-4253-aa30-e8b770283a2c",
   "metadata": {},
   "outputs": [],
   "source": [
    "# Coarsening. Force 2 coarse vars per aggregate so we can test alignment.\n",
    "    aggregate_size = 2 #4\n",
    "    num_components = 1 #2\n",
    "\n",
    "# Optimize aggregate_size, num_components using mock cycle rates.\n",
    "# coarsener = hm.setup.coarsening_uniform.UniformCoarsener(\n",
    "#     level, x, num_sweeps, repetitive=repetitive)\n",
    "# info = coarsener.get_coarsening_info(1, fmt=\"dataframe\")\n",
    "# r, aggregate_size, nc, cr, mean_energy_error, mock_conv, mock_work, mock_efficiency = \\\n",
    "#     coarsener.get_optimal_coarsening(1)\n",
    "# _LOGGER.info(\"R {} a {} nc {} cr {:.2f} mean_energy_error {:.4f}; mock cycle num_sweeps {} conv {:.2f} \"\n",
    "#              \"eff {:.2f}\".format(\n",
    "#     r.shape, aggregate_size, nc, cr, mean_energy_error, num_sweeps, mock_conv, mock_efficiency))\n",
    "# coarsener.get_coarsening_info(1, fmt=\"dataframe\")"
   ]
  },
  {
   "cell_type": "code",
   "execution_count": 523,
   "id": "635ddc89-30cc-4203-b927-0b9f3a363d5c",
   "metadata": {},
   "outputs": [
    {
     "data": {
      "text/html": [
       "<div>\n",
       "<style scoped>\n",
       "    .dataframe tbody tr th:only-of-type {\n",
       "        vertical-align: middle;\n",
       "    }\n",
       "\n",
       "    .dataframe tbody tr th {\n",
       "        vertical-align: top;\n",
       "    }\n",
       "\n",
       "    .dataframe thead th {\n",
       "        text-align: right;\n",
       "    }\n",
       "</style>\n",
       "<table border=\"1\" class=\"dataframe\">\n",
       "  <thead>\n",
       "    <tr style=\"text-align: right;\">\n",
       "      <th></th>\n",
       "      <th>0</th>\n",
       "      <th>1</th>\n",
       "      <th>2</th>\n",
       "      <th>3</th>\n",
       "      <th>4</th>\n",
       "      <th>5</th>\n",
       "      <th>6</th>\n",
       "      <th>7</th>\n",
       "      <th>8</th>\n",
       "      <th>9</th>\n",
       "    </tr>\n",
       "  </thead>\n",
       "  <tbody>\n",
       "    <tr>\n",
       "      <th>0</th>\n",
       "      <td>0.51</td>\n",
       "      <td>0.49</td>\n",
       "      <td>0.00</td>\n",
       "      <td>0.00</td>\n",
       "      <td>0.00</td>\n",
       "      <td>0.00</td>\n",
       "      <td>0.00</td>\n",
       "      <td>0.00</td>\n",
       "      <td>0.00</td>\n",
       "      <td>0.00</td>\n",
       "    </tr>\n",
       "    <tr>\n",
       "      <th>1</th>\n",
       "      <td>0.00</td>\n",
       "      <td>0.00</td>\n",
       "      <td>0.51</td>\n",
       "      <td>0.49</td>\n",
       "      <td>0.00</td>\n",
       "      <td>0.00</td>\n",
       "      <td>0.00</td>\n",
       "      <td>0.00</td>\n",
       "      <td>0.00</td>\n",
       "      <td>0.00</td>\n",
       "    </tr>\n",
       "    <tr>\n",
       "      <th>2</th>\n",
       "      <td>0.00</td>\n",
       "      <td>0.00</td>\n",
       "      <td>0.00</td>\n",
       "      <td>0.00</td>\n",
       "      <td>0.51</td>\n",
       "      <td>0.49</td>\n",
       "      <td>0.00</td>\n",
       "      <td>0.00</td>\n",
       "      <td>0.00</td>\n",
       "      <td>0.00</td>\n",
       "    </tr>\n",
       "    <tr>\n",
       "      <th>3</th>\n",
       "      <td>0.00</td>\n",
       "      <td>0.00</td>\n",
       "      <td>0.00</td>\n",
       "      <td>0.00</td>\n",
       "      <td>0.00</td>\n",
       "      <td>0.00</td>\n",
       "      <td>0.51</td>\n",
       "      <td>0.49</td>\n",
       "      <td>0.00</td>\n",
       "      <td>0.00</td>\n",
       "    </tr>\n",
       "    <tr>\n",
       "      <th>4</th>\n",
       "      <td>0.00</td>\n",
       "      <td>0.00</td>\n",
       "      <td>0.00</td>\n",
       "      <td>0.00</td>\n",
       "      <td>0.00</td>\n",
       "      <td>0.00</td>\n",
       "      <td>0.00</td>\n",
       "      <td>0.00</td>\n",
       "      <td>0.51</td>\n",
       "      <td>0.49</td>\n",
       "    </tr>\n",
       "  </tbody>\n",
       "</table>\n",
       "</div>"
      ],
      "text/plain": [
       "     0    1    2    3    4    5    6    7    8    9\n",
       "0 0.51 0.49 0.00 0.00 0.00 0.00 0.00 0.00 0.00 0.00\n",
       "1 0.00 0.00 0.51 0.49 0.00 0.00 0.00 0.00 0.00 0.00\n",
       "2 0.00 0.00 0.00 0.00 0.51 0.49 0.00 0.00 0.00 0.00\n",
       "3 0.00 0.00 0.00 0.00 0.00 0.00 0.51 0.49 0.00 0.00\n",
       "4 0.00 0.00 0.00 0.00 0.00 0.00 0.00 0.00 0.51 0.49"
      ]
     },
     "metadata": {},
     "output_type": "display_data"
    },
    {
     "data": {
      "image/png": "[encoded data removed]",
      "text/plain": [
       "<Figure size 1008x288 with 3 Axes>"
      ]
     },
     "metadata": {
      "needs_background": "light"
     },
     "output_type": "display_data"
    }
   ],
   "source": [
    "r, s = hm.repetitive.locality.create_coarsening(x, aggregate_size, num_components, normalize=True)\n",
    "R = r.tile(level.size // aggregate_size)\n",
    "xc = R.dot(x)\n",
    "display(pd.DataFrame(R[:5,:10].todense()))\n",
    "hm.repetitive.locality.plot_coarsening(R, x)"
   ]
  },
  {
   "cell_type": "markdown",
   "id": "4a24f433-0128-4164-bc0d-22befa14b4c9",
   "metadata": {},
   "source": [
    "### Local Mock Cycle (LMC) Rate\n",
    "The mock cycle rate is calculated on a domain of size $4 a$, $a$ = aggregate size."
   ]
  },
  {
   "cell_type": "code",
   "execution_count": 524,
   "id": "0f458cd4-936d-41f8-9015-0c6423f0cc5c",
   "metadata": {},
   "outputs": [
    {
     "name": "stdout",
     "output_type": "stream",
     "text": [
      "INFO     Mock cycle conv |domain|=8 [0.242 0.115 0.053 0.031 0.017]\n"
     ]
    }
   ],
   "source": [
    "# Calculate local mock cycle convergence rate on a domain of size 4 * aggregate_size.\n",
    "m = 4\n",
    "nu_values = np.arange(1, num_sweeps + 1)\n",
    "mock_conv = hm.repetitive.locality.mock_conv_factor_for_domain_size(kh, discretization, r, aggregate_size, m * aggregate_size, nu_values)\n",
    "_LOGGER.info(\"Mock cycle conv |domain|={} {}\".format(\n",
    "    m * aggregate_size, np.array2string(mock_conv, precision=3)))"
   ]
  },
  {
   "cell_type": "markdown",
   "id": "1af03334-0972-4471-be8f-15782dc41f93",
   "metadata": {},
   "source": [
    "### Interpolation $P = R^T$"
   ]
  },
  {
   "cell_type": "code",
   "execution_count": 525,
   "id": "deffcc42-2808-4586-bf22-afcd11e76ea4",
   "metadata": {},
   "outputs": [
    {
     "name": "stdout",
     "output_type": "stream",
     "text": [
      "[[0.513]\n",
      " [0.487]]\n"
     ]
    },
    {
     "data": {
      "text/html": [
       "<div>\n",
       "<style scoped>\n",
       "    .dataframe tbody tr th:only-of-type {\n",
       "        vertical-align: middle;\n",
       "    }\n",
       "\n",
       "    .dataframe tbody tr th {\n",
       "        vertical-align: top;\n",
       "    }\n",
       "\n",
       "    .dataframe thead th {\n",
       "        text-align: right;\n",
       "    }\n",
       "</style>\n",
       "<table border=\"1\" class=\"dataframe\">\n",
       "  <thead>\n",
       "    <tr style=\"text-align: right;\">\n",
       "      <th></th>\n",
       "      <th>1</th>\n",
       "      <th>2</th>\n",
       "      <th>3</th>\n",
       "      <th>4</th>\n",
       "      <th>5</th>\n",
       "    </tr>\n",
       "  </thead>\n",
       "  <tbody>\n",
       "    <tr>\n",
       "      <th>Mock</th>\n",
       "      <td>0.24</td>\n",
       "      <td>0.12</td>\n",
       "      <td>0.05</td>\n",
       "      <td>0.03</td>\n",
       "      <td>0.02</td>\n",
       "    </tr>\n",
       "    <tr>\n",
       "      <th>Two-level</th>\n",
       "      <td>0.48</td>\n",
       "      <td>0.43</td>\n",
       "      <td>0.43</td>\n",
       "      <td>0.33</td>\n",
       "      <td>0.36</td>\n",
       "    </tr>\n",
       "  </tbody>\n",
       "</table>\n",
       "</div>"
      ],
      "text/plain": [
       "             1    2    3    4    5\n",
       "Mock      0.24 0.12 0.05 0.03 0.02\n",
       "Two-level 0.48 0.43 0.43 0.33 0.36"
      ]
     },
     "metadata": {},
     "output_type": "display_data"
    },
    {
     "name": "stdout",
     "output_type": "stream",
     "text": [
      "INFO     L2 projection norm 0.71 A*A' projection norm 1.41\n"
     ]
    }
   ],
   "source": [
    "# Initial guess for interpoation: P = R^T on a single aggregate.\n",
    "p = r.tile(1).transpose()\n",
    "print(p.todense())\n",
    "\n",
    "two_level_conv = np.array([\n",
    "    hm.repetitive.locality.two_level_conv_factor(\n",
    "        hm.repetitive.locality.create_two_level_hierarchy(\n",
    "            kh, discretization, m * aggregate_size, r.asarray(), p, aggregate_size), \n",
    "        nu)[1]\n",
    "     for nu in nu_values])\n",
    "conv = pd.DataFrame(np.array((mock_conv, two_level_conv)).transpose(), \n",
    "                    index=nu_values, columns=(\"Mock\", \"Two-level\")).transpose()\n",
    "display(conv)\n",
    "\n",
    "# Compare the L2 projection norm and the A*A'-orthogonal projection norms, which gives an indication\n",
    "# that the mock cycle rates are guaranteed to be good predictors of the two-level rates [Rob & James].\n",
    "R = r.tile(n // aggregate_size)\n",
    "_LOGGER.info(\"L2 projection norm {:.2f} A*A' projection norm {:.2f}\".\n",
    "             format(norm(R.todense(), ord=2), norm((R.dot(multilevel[0].a)).todense(), ord=2)))"
   ]
  },
  {
   "cell_type": "markdown",
   "id": "deb49c06-224c-4ff4-87a8-1649e650bbc0",
   "metadata": {},
   "source": [
    "This intepolation is good up to $\\nu = 2$, conv $\\approx 0.5$."
   ]
  },
  {
   "cell_type": "markdown",
   "id": "032d6315-122a-4dbe-bad4-facda5def82b",
   "metadata": {},
   "source": [
    "### Interpolation by LS Fitting"
   ]
  },
  {
   "cell_type": "code",
   "execution_count": 526,
   "id": "f16573fe-6e58-4419-a9e1-e9c0f4ecd274",
   "metadata": {},
   "outputs": [
    {
     "name": "stdout",
     "output_type": "stream",
     "text": [
      "P^T*A*P\n",
      "INFO     caliber 2 error l2 [0.01] a [3.50e+11]\n"
     ]
    },
    {
     "data": {
      "text/html": [
       "<div>\n",
       "<style scoped>\n",
       "    .dataframe tbody tr th:only-of-type {\n",
       "        vertical-align: middle;\n",
       "    }\n",
       "\n",
       "    .dataframe tbody tr th {\n",
       "        vertical-align: top;\n",
       "    }\n",
       "\n",
       "    .dataframe thead th {\n",
       "        text-align: right;\n",
       "    }\n",
       "</style>\n",
       "<table border=\"1\" class=\"dataframe\">\n",
       "  <thead>\n",
       "    <tr style=\"text-align: right;\">\n",
       "      <th></th>\n",
       "      <th>1</th>\n",
       "      <th>2</th>\n",
       "      <th>3</th>\n",
       "      <th>4</th>\n",
       "      <th>5</th>\n",
       "    </tr>\n",
       "  </thead>\n",
       "  <tbody>\n",
       "    <tr>\n",
       "      <th>Mock</th>\n",
       "      <td>0.24</td>\n",
       "      <td>0.12</td>\n",
       "      <td>0.05</td>\n",
       "      <td>0.03</td>\n",
       "      <td>0.02</td>\n",
       "    </tr>\n",
       "    <tr>\n",
       "      <th>Caliber 2</th>\n",
       "      <td>0.43</td>\n",
       "      <td>0.21</td>\n",
       "      <td>0.13</td>\n",
       "      <td>0.13</td>\n",
       "      <td>0.07</td>\n",
       "    </tr>\n",
       "  </tbody>\n",
       "</table>\n",
       "</div>"
      ],
      "text/plain": [
       "             1    2    3    4    5\n",
       "Mock      0.24 0.12 0.05 0.03 0.02\n",
       "Caliber 2 0.43 0.21 0.13 0.13 0.07"
      ]
     },
     "metadata": {},
     "output_type": "display_data"
    }
   ],
   "source": [
    "calibers = (2,) #(2, 3, 4)\n",
    "for use_r_as_restriction in (False, ): #(False, True):\n",
    "    print(\"R*A*P\" if use_r_as_restriction else \"P^T*A*P\")\n",
    "    l2c = []\n",
    "    p_caliber = []\n",
    "    for caliber in calibers:\n",
    "        #print(\"caliber\", caliber)\n",
    "        interpolation_method = \"ls\"\n",
    "        neighborhood = \"extended\"\n",
    "\n",
    "        p = hm.setup.auto_setup.create_interpolation(\n",
    "            x, a, R, interpolation_method, aggregate_size=aggregate_size, nc=num_components, \n",
    "            neighborhood=neighborhood, repetitive=repetitive, target_error=0.1,\n",
    "            caliber=caliber)\n",
    "\n",
    "        # for title, x_set in (((\"all\", x),) if repetitive else ((\"fit\", x_fit), (\"test\", x_test))):\n",
    "        #     error = norm(x_set - p.dot(R.dot(x_set)), axis=0) / norm(x_set, axis=0)\n",
    "        #     error_a = norm(level.a.dot(x_set - p.dot(R.dot(x_set))), axis=0) / norm(x_set, axis=0)\n",
    "        #     _LOGGER.info(\n",
    "        #         \"{:<4s} set size {:<2d} P L2 error mean {:.2f} max {:.2f} A error mean {:.2f} max {:.2f}\".format(\n",
    "        #             title, len(error), np.mean(error), np.max(error), np.mean(error_a), np.max(error_a)))\n",
    "\n",
    "        # Initial guess for interpoation: P = R^T on a single aggregate.\n",
    "        #display(pd.DataFrame(p[:6, :6].todense()))\n",
    "\n",
    "        two_level_conv = np.array([\n",
    "            hm.repetitive.locality.two_level_conv_factor(\n",
    "                hm.repetitive.locality.create_two_level_hierarchy(\n",
    "                kh, discretization, n, R, p, aggregate_size, \n",
    "                    use_r_as_restriction=use_r_as_restriction), \n",
    "                nu, print_frequency=None)[1]\n",
    "             for nu in nu_values])\n",
    "        l2c.append(two_level_conv)\n",
    "        p_caliber.append(p)\n",
    "\n",
    "    conv = pd.DataFrame(np.array([mock_conv] + l2c).transpose(), \n",
    "                        index=nu_values, columns=(\"Mock\",) + tuple(\"Caliber {}\".format(caliber)\n",
    "                                                                  for caliber in calibers)).transpose()\n",
    "    display(conv)"
   ]
  },
  {
   "cell_type": "code",
   "execution_count": 527,
   "id": "45d5ac8d-be79-4223-b3f9-410ea2f03ff7",
   "metadata": {},
   "outputs": [
    {
     "name": "stdout",
     "output_type": "stream",
     "text": [
      "caliber 2 nnz(P) 60 fill-in 1.67\n",
      "Max abs |Ac - Ac^T| 1.110e-16\n"
     ]
    },
    {
     "data": {
      "text/html": [
       "<style type=\"text/css\">\n",
       "</style>\n",
       "<table id=\"T_54d8a_\" style='display:inline'>\n",
       "  <caption>P</caption>\n",
       "  <thead>\n",
       "    <tr>\n",
       "      <th class=\"blank level0\" >&nbsp;</th>\n",
       "      <th class=\"col_heading level0 col0\" >0</th>\n",
       "      <th class=\"col_heading level0 col1\" >1</th>\n",
       "      <th class=\"col_heading level0 col2\" >2</th>\n",
       "      <th class=\"col_heading level0 col3\" >3</th>\n",
       "      <th class=\"col_heading level0 col4\" >4</th>\n",
       "      <th class=\"col_heading level0 col5\" >5</th>\n",
       "    </tr>\n",
       "  </thead>\n",
       "  <tbody>\n",
       "    <tr>\n",
       "      <th id=\"T_54d8a_level0_row0\" class=\"row_heading level0 row0\" >0</th>\n",
       "      <td id=\"T_54d8a_row0_col0\" class=\"data row0 col0\" >0.76</td>\n",
       "      <td id=\"T_54d8a_row0_col1\" class=\"data row0 col1\" >0.00</td>\n",
       "      <td id=\"T_54d8a_row0_col2\" class=\"data row0 col2\" >0.00</td>\n",
       "      <td id=\"T_54d8a_row0_col3\" class=\"data row0 col3\" >0.00</td>\n",
       "      <td id=\"T_54d8a_row0_col4\" class=\"data row0 col4\" >0.00</td>\n",
       "      <td id=\"T_54d8a_row0_col5\" class=\"data row0 col5\" >0.00</td>\n",
       "    </tr>\n",
       "    <tr>\n",
       "      <th id=\"T_54d8a_level0_row1\" class=\"row_heading level0 row1\" >1</th>\n",
       "      <td id=\"T_54d8a_row1_col0\" class=\"data row1 col0\" >0.76</td>\n",
       "      <td id=\"T_54d8a_row1_col1\" class=\"data row1 col1\" >0.25</td>\n",
       "      <td id=\"T_54d8a_row1_col2\" class=\"data row1 col2\" >0.00</td>\n",
       "      <td id=\"T_54d8a_row1_col3\" class=\"data row1 col3\" >0.00</td>\n",
       "      <td id=\"T_54d8a_row1_col4\" class=\"data row1 col4\" >0.00</td>\n",
       "      <td id=\"T_54d8a_row1_col5\" class=\"data row1 col5\" >0.00</td>\n",
       "    </tr>\n",
       "    <tr>\n",
       "      <th id=\"T_54d8a_level0_row2\" class=\"row_heading level0 row2\" >2</th>\n",
       "      <td id=\"T_54d8a_row2_col0\" class=\"data row2 col0\" >0.25</td>\n",
       "      <td id=\"T_54d8a_row2_col1\" class=\"data row2 col1\" >0.76</td>\n",
       "      <td id=\"T_54d8a_row2_col2\" class=\"data row2 col2\" >0.00</td>\n",
       "      <td id=\"T_54d8a_row2_col3\" class=\"data row2 col3\" >0.00</td>\n",
       "      <td id=\"T_54d8a_row2_col4\" class=\"data row2 col4\" >0.00</td>\n",
       "      <td id=\"T_54d8a_row2_col5\" class=\"data row2 col5\" >0.00</td>\n",
       "    </tr>\n",
       "    <tr>\n",
       "      <th id=\"T_54d8a_level0_row3\" class=\"row_heading level0 row3\" >3</th>\n",
       "      <td id=\"T_54d8a_row3_col0\" class=\"data row3 col0\" >0.00</td>\n",
       "      <td id=\"T_54d8a_row3_col1\" class=\"data row3 col1\" >0.76</td>\n",
       "      <td id=\"T_54d8a_row3_col2\" class=\"data row3 col2\" >0.25</td>\n",
       "      <td id=\"T_54d8a_row3_col3\" class=\"data row3 col3\" >0.00</td>\n",
       "      <td id=\"T_54d8a_row3_col4\" class=\"data row3 col4\" >0.00</td>\n",
       "      <td id=\"T_54d8a_row3_col5\" class=\"data row3 col5\" >0.00</td>\n",
       "    </tr>\n",
       "    <tr>\n",
       "      <th id=\"T_54d8a_level0_row4\" class=\"row_heading level0 row4\" >4</th>\n",
       "      <td id=\"T_54d8a_row4_col0\" class=\"data row4 col0\" >0.00</td>\n",
       "      <td id=\"T_54d8a_row4_col1\" class=\"data row4 col1\" >0.25</td>\n",
       "      <td id=\"T_54d8a_row4_col2\" class=\"data row4 col2\" >0.76</td>\n",
       "      <td id=\"T_54d8a_row4_col3\" class=\"data row4 col3\" >0.00</td>\n",
       "      <td id=\"T_54d8a_row4_col4\" class=\"data row4 col4\" >0.00</td>\n",
       "      <td id=\"T_54d8a_row4_col5\" class=\"data row4 col5\" >0.00</td>\n",
       "    </tr>\n",
       "    <tr>\n",
       "      <th id=\"T_54d8a_level0_row5\" class=\"row_heading level0 row5\" >5</th>\n",
       "      <td id=\"T_54d8a_row5_col0\" class=\"data row5 col0\" >0.00</td>\n",
       "      <td id=\"T_54d8a_row5_col1\" class=\"data row5 col1\" >0.00</td>\n",
       "      <td id=\"T_54d8a_row5_col2\" class=\"data row5 col2\" >0.76</td>\n",
       "      <td id=\"T_54d8a_row5_col3\" class=\"data row5 col3\" >0.25</td>\n",
       "      <td id=\"T_54d8a_row5_col4\" class=\"data row5 col4\" >0.00</td>\n",
       "      <td id=\"T_54d8a_row5_col5\" class=\"data row5 col5\" >0.00</td>\n",
       "    </tr>\n",
       "  </tbody>\n",
       "</table>\n",
       "<style type=\"text/css\">\n",
       "</style>\n",
       "<table id=\"T_c9fa5_\" style='display:inline'>\n",
       "  <caption>A^1</caption>\n",
       "  <thead>\n",
       "    <tr>\n",
       "      <th class=\"blank level0\" >&nbsp;</th>\n",
       "      <th class=\"col_heading level0 col0\" >0</th>\n",
       "      <th class=\"col_heading level0 col1\" >1</th>\n",
       "      <th class=\"col_heading level0 col2\" >2</th>\n",
       "      <th class=\"col_heading level0 col3\" >3</th>\n",
       "      <th class=\"col_heading level0 col4\" >4</th>\n",
       "      <th class=\"col_heading level0 col5\" >5</th>\n",
       "      <th class=\"col_heading level0 col6\" >6</th>\n",
       "      <th class=\"col_heading level0 col7\" >7</th>\n",
       "      <th class=\"col_heading level0 col8\" >8</th>\n",
       "      <th class=\"col_heading level0 col9\" >9</th>\n",
       "    </tr>\n",
       "  </thead>\n",
       "  <tbody>\n",
       "    <tr>\n",
       "      <th id=\"T_c9fa5_level0_row0\" class=\"row_heading level0 row0\" >0</th>\n",
       "      <td id=\"T_c9fa5_row0_col0\" class=\"data row0 col0\" >-0.64</td>\n",
       "      <td id=\"T_c9fa5_row0_col1\" class=\"data row0 col1\" >0.26</td>\n",
       "      <td id=\"T_c9fa5_row0_col2\" class=\"data row0 col2\" >0.06</td>\n",
       "      <td id=\"T_c9fa5_row0_col3\" class=\"data row0 col3\" >0.00</td>\n",
       "      <td id=\"T_c9fa5_row0_col4\" class=\"data row0 col4\" >0.00</td>\n",
       "      <td id=\"T_c9fa5_row0_col5\" class=\"data row0 col5\" >0.00</td>\n",
       "      <td id=\"T_c9fa5_row0_col6\" class=\"data row0 col6\" >0.00</td>\n",
       "      <td id=\"T_c9fa5_row0_col7\" class=\"data row0 col7\" >0.00</td>\n",
       "      <td id=\"T_c9fa5_row0_col8\" class=\"data row0 col8\" >0.00</td>\n",
       "      <td id=\"T_c9fa5_row0_col9\" class=\"data row0 col9\" >0.00</td>\n",
       "    </tr>\n",
       "    <tr>\n",
       "      <th id=\"T_c9fa5_level0_row1\" class=\"row_heading level0 row1\" >1</th>\n",
       "      <td id=\"T_c9fa5_row1_col0\" class=\"data row1 col0\" >0.26</td>\n",
       "      <td id=\"T_c9fa5_row1_col1\" class=\"data row1 col1\" >-0.64</td>\n",
       "      <td id=\"T_c9fa5_row1_col2\" class=\"data row1 col2\" >0.26</td>\n",
       "      <td id=\"T_c9fa5_row1_col3\" class=\"data row1 col3\" >0.06</td>\n",
       "      <td id=\"T_c9fa5_row1_col4\" class=\"data row1 col4\" >0.00</td>\n",
       "      <td id=\"T_c9fa5_row1_col5\" class=\"data row1 col5\" >0.00</td>\n",
       "      <td id=\"T_c9fa5_row1_col6\" class=\"data row1 col6\" >0.00</td>\n",
       "      <td id=\"T_c9fa5_row1_col7\" class=\"data row1 col7\" >0.00</td>\n",
       "      <td id=\"T_c9fa5_row1_col8\" class=\"data row1 col8\" >0.00</td>\n",
       "      <td id=\"T_c9fa5_row1_col9\" class=\"data row1 col9\" >0.00</td>\n",
       "    </tr>\n",
       "    <tr>\n",
       "      <th id=\"T_c9fa5_level0_row2\" class=\"row_heading level0 row2\" >2</th>\n",
       "      <td id=\"T_c9fa5_row2_col0\" class=\"data row2 col0\" >0.06</td>\n",
       "      <td id=\"T_c9fa5_row2_col1\" class=\"data row2 col1\" >0.26</td>\n",
       "      <td id=\"T_c9fa5_row2_col2\" class=\"data row2 col2\" >-0.64</td>\n",
       "      <td id=\"T_c9fa5_row2_col3\" class=\"data row2 col3\" >0.26</td>\n",
       "      <td id=\"T_c9fa5_row2_col4\" class=\"data row2 col4\" >0.06</td>\n",
       "      <td id=\"T_c9fa5_row2_col5\" class=\"data row2 col5\" >0.00</td>\n",
       "      <td id=\"T_c9fa5_row2_col6\" class=\"data row2 col6\" >0.00</td>\n",
       "      <td id=\"T_c9fa5_row2_col7\" class=\"data row2 col7\" >0.00</td>\n",
       "      <td id=\"T_c9fa5_row2_col8\" class=\"data row2 col8\" >0.00</td>\n",
       "      <td id=\"T_c9fa5_row2_col9\" class=\"data row2 col9\" >0.00</td>\n",
       "    </tr>\n",
       "    <tr>\n",
       "      <th id=\"T_c9fa5_level0_row3\" class=\"row_heading level0 row3\" >3</th>\n",
       "      <td id=\"T_c9fa5_row3_col0\" class=\"data row3 col0\" >0.00</td>\n",
       "      <td id=\"T_c9fa5_row3_col1\" class=\"data row3 col1\" >0.06</td>\n",
       "      <td id=\"T_c9fa5_row3_col2\" class=\"data row3 col2\" >0.26</td>\n",
       "      <td id=\"T_c9fa5_row3_col3\" class=\"data row3 col3\" >-0.64</td>\n",
       "      <td id=\"T_c9fa5_row3_col4\" class=\"data row3 col4\" >0.26</td>\n",
       "      <td id=\"T_c9fa5_row3_col5\" class=\"data row3 col5\" >0.06</td>\n",
       "      <td id=\"T_c9fa5_row3_col6\" class=\"data row3 col6\" >0.00</td>\n",
       "      <td id=\"T_c9fa5_row3_col7\" class=\"data row3 col7\" >0.00</td>\n",
       "      <td id=\"T_c9fa5_row3_col8\" class=\"data row3 col8\" >0.00</td>\n",
       "      <td id=\"T_c9fa5_row3_col9\" class=\"data row3 col9\" >0.00</td>\n",
       "    </tr>\n",
       "    <tr>\n",
       "      <th id=\"T_c9fa5_level0_row4\" class=\"row_heading level0 row4\" >4</th>\n",
       "      <td id=\"T_c9fa5_row4_col0\" class=\"data row4 col0\" >0.00</td>\n",
       "      <td id=\"T_c9fa5_row4_col1\" class=\"data row4 col1\" >0.00</td>\n",
       "      <td id=\"T_c9fa5_row4_col2\" class=\"data row4 col2\" >0.06</td>\n",
       "      <td id=\"T_c9fa5_row4_col3\" class=\"data row4 col3\" >0.26</td>\n",
       "      <td id=\"T_c9fa5_row4_col4\" class=\"data row4 col4\" >-0.64</td>\n",
       "      <td id=\"T_c9fa5_row4_col5\" class=\"data row4 col5\" >0.26</td>\n",
       "      <td id=\"T_c9fa5_row4_col6\" class=\"data row4 col6\" >0.06</td>\n",
       "      <td id=\"T_c9fa5_row4_col7\" class=\"data row4 col7\" >0.00</td>\n",
       "      <td id=\"T_c9fa5_row4_col8\" class=\"data row4 col8\" >0.00</td>\n",
       "      <td id=\"T_c9fa5_row4_col9\" class=\"data row4 col9\" >0.00</td>\n",
       "    </tr>\n",
       "    <tr>\n",
       "      <th id=\"T_c9fa5_level0_row5\" class=\"row_heading level0 row5\" >5</th>\n",
       "      <td id=\"T_c9fa5_row5_col0\" class=\"data row5 col0\" >0.00</td>\n",
       "      <td id=\"T_c9fa5_row5_col1\" class=\"data row5 col1\" >0.00</td>\n",
       "      <td id=\"T_c9fa5_row5_col2\" class=\"data row5 col2\" >0.00</td>\n",
       "      <td id=\"T_c9fa5_row5_col3\" class=\"data row5 col3\" >0.06</td>\n",
       "      <td id=\"T_c9fa5_row5_col4\" class=\"data row5 col4\" >0.26</td>\n",
       "      <td id=\"T_c9fa5_row5_col5\" class=\"data row5 col5\" >-0.64</td>\n",
       "      <td id=\"T_c9fa5_row5_col6\" class=\"data row5 col6\" >0.26</td>\n",
       "      <td id=\"T_c9fa5_row5_col7\" class=\"data row5 col7\" >0.06</td>\n",
       "      <td id=\"T_c9fa5_row5_col8\" class=\"data row5 col8\" >0.00</td>\n",
       "      <td id=\"T_c9fa5_row5_col9\" class=\"data row5 col9\" >0.00</td>\n",
       "    </tr>\n",
       "    <tr>\n",
       "      <th id=\"T_c9fa5_level0_row6\" class=\"row_heading level0 row6\" >6</th>\n",
       "      <td id=\"T_c9fa5_row6_col0\" class=\"data row6 col0\" >0.00</td>\n",
       "      <td id=\"T_c9fa5_row6_col1\" class=\"data row6 col1\" >0.00</td>\n",
       "      <td id=\"T_c9fa5_row6_col2\" class=\"data row6 col2\" >0.00</td>\n",
       "      <td id=\"T_c9fa5_row6_col3\" class=\"data row6 col3\" >0.00</td>\n",
       "      <td id=\"T_c9fa5_row6_col4\" class=\"data row6 col4\" >0.06</td>\n",
       "      <td id=\"T_c9fa5_row6_col5\" class=\"data row6 col5\" >0.26</td>\n",
       "      <td id=\"T_c9fa5_row6_col6\" class=\"data row6 col6\" >-0.64</td>\n",
       "      <td id=\"T_c9fa5_row6_col7\" class=\"data row6 col7\" >0.26</td>\n",
       "      <td id=\"T_c9fa5_row6_col8\" class=\"data row6 col8\" >0.06</td>\n",
       "      <td id=\"T_c9fa5_row6_col9\" class=\"data row6 col9\" >0.00</td>\n",
       "    </tr>\n",
       "    <tr>\n",
       "      <th id=\"T_c9fa5_level0_row7\" class=\"row_heading level0 row7\" >7</th>\n",
       "      <td id=\"T_c9fa5_row7_col0\" class=\"data row7 col0\" >0.00</td>\n",
       "      <td id=\"T_c9fa5_row7_col1\" class=\"data row7 col1\" >0.00</td>\n",
       "      <td id=\"T_c9fa5_row7_col2\" class=\"data row7 col2\" >0.00</td>\n",
       "      <td id=\"T_c9fa5_row7_col3\" class=\"data row7 col3\" >0.00</td>\n",
       "      <td id=\"T_c9fa5_row7_col4\" class=\"data row7 col4\" >0.00</td>\n",
       "      <td id=\"T_c9fa5_row7_col5\" class=\"data row7 col5\" >0.06</td>\n",
       "      <td id=\"T_c9fa5_row7_col6\" class=\"data row7 col6\" >0.26</td>\n",
       "      <td id=\"T_c9fa5_row7_col7\" class=\"data row7 col7\" >-0.64</td>\n",
       "      <td id=\"T_c9fa5_row7_col8\" class=\"data row7 col8\" >0.26</td>\n",
       "      <td id=\"T_c9fa5_row7_col9\" class=\"data row7 col9\" >0.06</td>\n",
       "    </tr>\n",
       "    <tr>\n",
       "      <th id=\"T_c9fa5_level0_row8\" class=\"row_heading level0 row8\" >8</th>\n",
       "      <td id=\"T_c9fa5_row8_col0\" class=\"data row8 col0\" >0.00</td>\n",
       "      <td id=\"T_c9fa5_row8_col1\" class=\"data row8 col1\" >0.00</td>\n",
       "      <td id=\"T_c9fa5_row8_col2\" class=\"data row8 col2\" >0.00</td>\n",
       "      <td id=\"T_c9fa5_row8_col3\" class=\"data row8 col3\" >0.00</td>\n",
       "      <td id=\"T_c9fa5_row8_col4\" class=\"data row8 col4\" >0.00</td>\n",
       "      <td id=\"T_c9fa5_row8_col5\" class=\"data row8 col5\" >0.00</td>\n",
       "      <td id=\"T_c9fa5_row8_col6\" class=\"data row8 col6\" >0.06</td>\n",
       "      <td id=\"T_c9fa5_row8_col7\" class=\"data row8 col7\" >0.26</td>\n",
       "      <td id=\"T_c9fa5_row8_col8\" class=\"data row8 col8\" >-0.64</td>\n",
       "      <td id=\"T_c9fa5_row8_col9\" class=\"data row8 col9\" >0.26</td>\n",
       "    </tr>\n",
       "    <tr>\n",
       "      <th id=\"T_c9fa5_level0_row9\" class=\"row_heading level0 row9\" >9</th>\n",
       "      <td id=\"T_c9fa5_row9_col0\" class=\"data row9 col0\" >0.00</td>\n",
       "      <td id=\"T_c9fa5_row9_col1\" class=\"data row9 col1\" >0.00</td>\n",
       "      <td id=\"T_c9fa5_row9_col2\" class=\"data row9 col2\" >0.00</td>\n",
       "      <td id=\"T_c9fa5_row9_col3\" class=\"data row9 col3\" >0.00</td>\n",
       "      <td id=\"T_c9fa5_row9_col4\" class=\"data row9 col4\" >0.00</td>\n",
       "      <td id=\"T_c9fa5_row9_col5\" class=\"data row9 col5\" >0.00</td>\n",
       "      <td id=\"T_c9fa5_row9_col6\" class=\"data row9 col6\" >0.00</td>\n",
       "      <td id=\"T_c9fa5_row9_col7\" class=\"data row9 col7\" >0.06</td>\n",
       "      <td id=\"T_c9fa5_row9_col8\" class=\"data row9 col8\" >0.26</td>\n",
       "      <td id=\"T_c9fa5_row9_col9\" class=\"data row9 col9\" >-0.64</td>\n",
       "    </tr>\n",
       "  </tbody>\n",
       "</table>\n"
      ]
     },
     "metadata": {},
     "output_type": "display_data"
    }
   ],
   "source": [
    "for caliber, p in zip(calibers, p_caliber):\n",
    "#    styler = pd.DataFrame(p[:8, :8].todense()).style.set_table_attributes(\"style='display:inline'\").set_caption(\"Caliber {}\".format(caliber)).format(precision=2)   \n",
    "#    display_html(styler._repr_html_(), raw=True)\n",
    "    ml = hm.repetitive.locality.create_two_level_hierarchy(kh, discretization, n, R, p, None, use_r_as_restriction=use_r_as_restriction)\n",
    "    ac = ml[1].a\n",
    "    print(\"caliber {} nnz(P) {} fill-in {:.2f}\".format(caliber, p.nnz, (ac.nnz / ml[0].a.nnz) * (ml[0].a.shape[0] / ac.shape[0])))\n",
    "    print(\"Max abs |Ac - Ac^T| {:.3e}\".format(np.max(np.abs(ac - ac.transpose()))))\n",
    "    display_df_side_by_side(pd.DataFrame(p[:6, :6].todense()),\n",
    "                            pd.DataFrame(ac.todense()[:10,:10]), \n",
    "                        captions=(\"P\", \"A^1\"))"
   ]
  },
  {
   "cell_type": "markdown",
   "id": "ed260fce-4421-4087-8b26-0dc3d273b0f6",
   "metadata": {},
   "source": [
    "$R A P$ is nearly symmetric, and is sparser than $P^T A P$, while giving almost the same 2-level convergence factors for $\\nu \\geq 2$."
   ]
  },
  {
   "cell_type": "markdown",
   "id": "e86d5cbb-5a2c-4dac-86b4-f9004fe161ff",
   "metadata": {},
   "source": [
    "### Solving $Ax = b$ - Convergence History"
   ]
  },
  {
   "cell_type": "markdown",
   "id": "75a2ab9a-b281-40ea-96aa-2fcd4a9f6912",
   "metadata": {},
   "source": [
    "#### $P^T A P$"
   ]
  },
  {
   "cell_type": "code",
   "execution_count": 528,
   "id": "9fa25e25-5ed4-4a91-8d4d-46f1bf1846f6",
   "metadata": {},
   "outputs": [
    {
     "name": "stdout",
     "output_type": "stream",
     "text": [
      "INFO         0 |r| 9.118e+00 RER 2.86917\n",
      "INFO     --------------------------------------------------------------------------------\n",
      "INFO     Level    Operation          |R|           RER       \n",
      "INFO     0        initial            1.6647e+00    2.8692e+00\n",
      "INFO     0        relax 4            1.8326e-01    2.8438e-01\n",
      "INFO     1        initial            2.0570e-01    3.7913e-01\n",
      "INFO     1        exact              6.2608e-16    9.6182e-17\n",
      "INFO     0        correction         1.5729e-01    2.3893e-02\n",
      "INFO         1 |r| 8.615e-01 (0.09449) RER 0.02389 (0.00833) 36.057\n",
      "INFO     --------------------------------------------------------------------------------\n",
      "INFO     Level    Operation          |R|           RER       \n",
      "INFO     0        initial            1.5729e-01    2.3893e-02\n",
      "INFO     0        relax 4            1.3308e-02    2.0213e-03\n",
      "INFO     1        initial            1.3950e-02    2.1216e-03\n",
      "INFO     1        exact              5.4300e-16    8.6545e-17\n",
      "INFO     0        correction         1.0983e-02    1.7488e-03\n",
      "INFO         2 |r| 6.015e-02 (0.06982) RER 0.00175 (0.07319) 34.398\n",
      "INFO     --------------------------------------------------------------------------------\n",
      "INFO     Level    Operation          |R|           RER       \n",
      "INFO     0        initial            1.0983e-02    1.7488e-03\n",
      "INFO     0        relax 4            1.2121e-03    1.9300e-04\n",
      "INFO     1        initial            1.1225e-03    1.7901e-04\n",
      "INFO     1        exact              5.1742e-16    8.1188e-17\n",
      "INFO     0        correction         1.0946e-03    1.7147e-04\n",
      "INFO         3 |r| 5.995e-03 (0.09966) RER 0.00017 (0.09805) 34.964\n",
      "INFO     --------------------------------------------------------------------------------\n",
      "INFO     Level    Operation          |R|           RER       \n",
      "INFO     0        initial            1.0946e-03    1.7147e-04\n",
      "INFO     0        relax 4            1.2368e-04    1.9375e-05\n",
      "INFO     1        initial            1.0076e-04    1.5807e-05\n",
      "INFO     1        exact              3.8138e-16    5.9776e-17\n",
      "INFO     0        correction         1.1963e-04    1.8724e-05\n",
      "INFO         4 |r| 6.553e-04 (0.10930) RER 0.00002 (0.10920) 34.996\n",
      "INFO     --------------------------------------------------------------------------------\n",
      "INFO     Level    Operation          |R|           RER       \n",
      "INFO     0        initial            1.1963e-04    1.8724e-05\n",
      "INFO     0        relax 4            1.4246e-05    2.2297e-06\n",
      "INFO     1        initial            1.1542e-05    1.8090e-06\n",
      "INFO     1        exact              3.6479e-16    5.7162e-17\n",
      "INFO     0        correction         1.3324e-05    2.0848e-06\n",
      "INFO         5 |r| 7.298e-05 (0.11137) RER 0.00000 (0.11135) 35.005\n",
      "INFO     --------------------------------------------------------------------------------\n",
      "INFO     Level    Operation          |R|           RER       \n",
      "INFO     0        initial            1.3324e-05    2.0848e-06\n",
      "INFO     0        relax 4            1.3573e-06    2.1238e-07\n",
      "INFO     1        initial            1.0255e-06    1.6069e-07\n",
      "INFO     1        exact              5.9186e-16    9.2742e-17\n",
      "INFO     0        correction         1.3083e-06    2.0471e-07\n",
      "INFO         6 |r| 7.166e-06 (0.09819) RER 0.00000 (0.09819) 35.005\n",
      "INFO     --------------------------------------------------------------------------------\n",
      "INFO     Level    Operation          |R|           RER       \n",
      "INFO     0        initial            1.3083e-06    2.0471e-07\n",
      "INFO     0        relax 4            1.5443e-07    2.4163e-08\n",
      "INFO     1        initial            1.2896e-07    2.0208e-08\n",
      "INFO     1        exact              4.7419e-16    7.4303e-17\n",
      "INFO     0        correction         1.3031e-07    2.0389e-08\n",
      "INFO         7 |r| 7.137e-07 (0.09960) RER 0.00000 (0.09960) 35.005\n",
      "INFO     --------------------------------------------------------------------------------\n",
      "INFO     Level    Operation          |R|           RER       \n",
      "INFO     0        initial            1.3031e-07    2.0389e-08\n",
      "INFO     0        relax 4            1.8457e-08    2.8880e-09\n",
      "INFO     1        initial            1.2267e-08    1.9222e-09\n",
      "INFO     1        exact              4.4068e-16    6.9052e-17\n",
      "INFO     0        correction         1.6841e-08    2.6351e-09\n",
      "INFO         8 |r| 9.224e-08 (0.12924) RER 0.00000 (0.12924) 35.005\n",
      "INFO     --------------------------------------------------------------------------------\n",
      "INFO     Level    Operation          |R|           RER       \n",
      "INFO     0        initial            1.6841e-08    2.6351e-09\n",
      "INFO     0        relax 4            2.5012e-09    3.9135e-10\n",
      "INFO     1        initial            1.5761e-09    2.4697e-10\n",
      "INFO     1        exact              6.5682e-16    1.0292e-16\n",
      "INFO     0        correction         2.2530e-09    3.5252e-10\n",
      "INFO         9 |r| 1.234e-08 (0.13378) RER 0.00000 (0.13378) 35.005\n",
      "INFO     --------------------------------------------------------------------------------\n",
      "INFO     Level    Operation          |R|           RER       \n",
      "INFO     0        initial            2.2530e-09    3.5252e-10\n",
      "INFO     0        relax 4            3.2539e-10    5.0914e-11\n",
      "INFO     1        initial            1.9892e-10    3.1169e-11\n",
      "INFO     1        exact              6.6360e-16    1.0398e-16\n",
      "INFO     0        correction         2.9507e-10    4.6169e-11\n",
      "INFO        10 |r| 1.616e-09 (0.13097) RER 0.00000 (0.13097) 35.005\n",
      "INFO     --------------------------------------------------------------------------------\n",
      "INFO     Level    Operation          |R|           RER       \n",
      "INFO     0        initial            2.9507e-10    4.6169e-11\n",
      "INFO     0        relax 4            3.9349e-11    6.1569e-12\n",
      "INFO     1        initial            2.5501e-11    3.9959e-12\n",
      "INFO     1        exact              4.5353e-16    7.1065e-17\n",
      "INFO     0        correction         3.5306e-11    5.5243e-12\n",
      "INFO        11 |r| 1.934e-10 (0.11965) RER 0.00000 (0.11965) 35.005\n",
      "INFO     --------------------------------------------------------------------------------\n",
      "INFO     Level    Operation          |R|           RER       \n",
      "INFO     0        initial            3.5306e-11    5.5243e-12\n",
      "INFO     0        relax 4            4.4696e-12    6.9936e-13\n",
      "INFO     1        initial            2.4757e-12    3.8793e-13\n",
      "INFO     1        exact              6.0015e-16    9.4041e-17\n",
      "INFO     0        correction         4.1230e-12    6.4512e-13\n",
      "INFO        12 |r| 2.258e-11 (0.11678) RER 0.00000 (0.11678) 35.005\n"
     ]
    },
    {
     "data": {
      "image/png": "[encoded data removed]",
      "text/plain": [
       "<Figure size 432x288 with 1 Axes>"
      ]
     },
     "metadata": {
      "needs_background": "light"
     },
     "output_type": "display_data"
    }
   ],
   "source": [
    "nu = 4\n",
    "p = p_caliber[0]\n",
    "multilevel = hm.repetitive.locality.create_two_level_hierarchy(\n",
    "    kh, discretization, n, R, p, aggregate_size, use_r_as_restriction=False)\n",
    "y, _ = hm.repetitive.locality.two_level_conv_factor(multilevel, nu, print_frequency=1,\n",
    "                                                   debug=True)\n",
    "\n",
    "# Asymptotic vector.\n",
    "plt.title(\"Asymptotically Slowest Vector in Two-level Cycle({},0)\".format(nu))\n",
    "y -= y.mean() # Remove zero component.\n",
    "e = y - multilevel[1].p.dot(multilevel[1].r.dot(y))\n",
    "plt.plot(y, label=\"x\");\n",
    "plt.plot(e, label=\"x-PRx\");\n",
    "plt.grid(True);\n",
    "plt.legend();"
   ]
  },
  {
   "cell_type": "code",
   "execution_count": 529,
   "id": "fefa920e-a9ac-43f4-a368-41295b0eb1c8",
   "metadata": {},
   "outputs": [
    {
     "name": "stdout",
     "output_type": "stream",
     "text": [
      "[[0.76276 0.     ]\n",
      " [0.75742 0.25372]]\n",
      "[[0.01165 0.01113 0.01165 0.01113 0.01165 0.01113 0.01165 0.01113 0.01165 0.01113 0.01165 0.01113 0.01165 0.01113 0.01165 0.01113 0.01165 0.01113 0.01165 0.01113 0.01165 0.01113 0.01165 0.01113 0.01165 0.01113 0.01165 0.01113 0.01165 0.01113]]\n"
     ]
    },
    {
     "data": {
      "text/plain": [
       "matrix([[-0., -0., -0., -0., -0., -0., -0., -0., -0., -0., -0., -0., -0., -0., -0.]])"
      ]
     },
     "execution_count": 529,
     "metadata": {},
     "output_type": "execute_result"
    }
   ],
   "source": [
    "print(np.array2string(p.todense()[:2,:2], precision=5))\n",
    "print(np.array2string(p.sum(axis=1).flatten() - 1, precision=5))\n",
    "y = np.ones((n,))\n",
    "p = multilevel[1].p\n",
    "hm.linalg.scaled_norm(p.dot(R.dot(y)) - y)\n",
    "\n",
    "p = multilevel[1].p\n",
    "a = multilevel[0].a\n",
    "ac = p.H.dot(a.dot(p))\n",
    "ac.sum(axis=1).flatten()"
   ]
  },
  {
   "cell_type": "code",
   "execution_count": 530,
   "id": "0a4b0749-fbdc-44bc-87c0-aeb08d230642",
   "metadata": {},
   "outputs": [
    {
     "name": "stdout",
     "output_type": "stream",
     "text": [
      "[0. 0. 0. 0. 0. 0. 0. 0. 0. 0. 0. 0. 0. 0. 0. 0. 0. 0. 0. 0. 0. 0. 0. 0. 0. 0. 0. 0. 0. 0.]\n",
      "[-0. -0. -0. -0. -0. -0. -0. -0. -0. -0. -0. -0. -0. -0. -0.]\n"
     ]
    }
   ],
   "source": [
    "print(np.array(a.sum(axis=1)).flatten())\n",
    "print(np.array(multilevel[1].a.sum(axis=1)).flatten())"
   ]
  },
  {
   "cell_type": "code",
   "execution_count": 531,
   "id": "f1580a50-2d73-488c-ae1b-c137ea7fc16c",
   "metadata": {},
   "outputs": [
    {
     "name": "stdout",
     "output_type": "stream",
     "text": [
      "0 lam [ 0.    -0.044 -0.044 -0.173 -0.173 -0.382 -0.382 -0.662 -0.662 -1.    -1.    -1.382]\n",
      "1 lam [-0.    -0.087 -0.087 -0.311 -0.311 -0.586 -0.586 -0.822 -0.822 -0.966 -0.966 -1.024]\n"
     ]
    }
   ],
   "source": [
    "# Calculate eigenpairs at all levels.\n",
    "vl = []\n",
    "laml = []\n",
    "for l, level in enumerate(multilevel):\n",
    "    a = level.a\n",
    "    lam, v = eig(a.todense())\n",
    "    lam = np.real(lam)\n",
    "    ind = np.argsort(np.abs(lam))\n",
    "    lam = lam[ind]\n",
    "    v = v[:, ind]\n",
    "    vl.append(v)\n",
    "    laml.append(lam)\n",
    "    print(l, \"lam\", lam[:12])\n",
    "    \n",
    "# Interpolate eigenvectors at all levels to the finest level.\n",
    "num_levels = len(multilevel)\n",
    "vl_finest = []\n",
    "for l in range(num_levels):\n",
    "    v = vl[l]\n",
    "    for k in range(l, 0, -1):\n",
    "        v = multilevel[k].p.dot(v)\n",
    "    vl_finest.append(v)"
   ]
  },
  {
   "cell_type": "markdown",
   "id": "5d18d5da-5083-42f9-b936-bd761ffb8a34",
   "metadata": {},
   "source": [
    "#### $R A P$"
   ]
  },
  {
   "cell_type": "code",
   "execution_count": 532,
   "id": "d69b0083-ed87-437f-a161-ae1cf3917ce3",
   "metadata": {},
   "outputs": [],
   "source": [
    "# nu = 4\n",
    "# p = p_caliber[-1]\n",
    "# multilevel = hm.repetitive.locality.create_two_level_hierarchy(\n",
    "#     kh, discretization, n, R, p, aggregate_size, use_r_as_restriction=True)\n",
    "# y, _ = hm.repetitive.locality.two_level_conv_factor(multilevel, nu, print_frequency=1,\n",
    "#                                                    debug=False)\n",
    "\n",
    "# # Asymptotic vector.\n",
    "# plt.title(\"Asymptotically Slowest Vector in Two-level Cycle({},0)\".format(nu))\n",
    "# e = y - multilevel[1].p.dot(multilevel[1].r.dot(y))\n",
    "# plt.plot(y, label=\"x\");\n",
    "# plt.plot(e, label=\"x-PRx\");\n",
    "# plt.grid(True);\n",
    "# plt.legend();"
   ]
  },
  {
   "cell_type": "code",
   "execution_count": 533,
   "id": "3f9e309e-963b-4a29-821b-b35b43f27dd5",
   "metadata": {},
   "outputs": [],
   "source": [
    "# y.T.dot(multilevel[0].a.dot(y)) / (y.T.dot(y))"
   ]
  },
  {
   "cell_type": "code",
   "execution_count": 534,
   "id": "898ef54a-c8ba-491d-a20e-a8ba4d09ebfe",
   "metadata": {},
   "outputs": [
    {
     "name": "stdout",
     "output_type": "stream",
     "text": [
      "0 lam [ 0.    -0.044 -0.044 -0.173 -0.173 -0.382 -0.382 -0.662 -0.662 -1.    -1.    -1.382]\n",
      "1 lam [-0.    -0.087 -0.087 -0.311 -0.311 -0.586 -0.586 -0.822 -0.822 -0.966 -0.966 -1.024]\n"
     ]
    }
   ],
   "source": [
    "# Calculate eigenpairs at all levels.\n",
    "vl = []\n",
    "laml = []\n",
    "for l, level in enumerate(multilevel):\n",
    "    a = level.a\n",
    "    lam, v = eig(a.todense())\n",
    "    lam = np.real(lam)\n",
    "    ind = np.argsort(np.abs(lam))\n",
    "    lam = lam[ind]\n",
    "    v = v[:, ind]\n",
    "    vl.append(v)\n",
    "    laml.append(lam)\n",
    "    print(l, \"lam\", lam[:12])\n",
    "    \n",
    "# Interpolate eigenvectors at all levels to the finest level.\n",
    "num_levels = len(multilevel)\n",
    "vl_finest = []\n",
    "for l in range(num_levels):\n",
    "    v = vl[l]\n",
    "    for k in range(l, 0, -1):\n",
    "        v = multilevel[k].p.dot(v)\n",
    "    vl_finest.append(v)"
   ]
  },
  {
   "cell_type": "markdown",
   "id": "88f946f8-9ff6-4f82-8b41-a070de12669b",
   "metadata": {},
   "source": [
    "# Workspace"
   ]
  },
  {
   "cell_type": "code",
   "execution_count": 535,
   "id": "0ed8bb4d-0c48-4d86-8536-164c79fcd461",
   "metadata": {},
   "outputs": [],
   "source": [
    "caliber = 2"
   ]
  },
  {
   "cell_type": "code",
   "execution_count": 536,
   "id": "debc1759-7760-49b7-a00f-25354e2d7e04",
   "metadata": {},
   "outputs": [
    {
     "name": "stdout",
     "output_type": "stream",
     "text": [
      "aggregate_size 2 num_components 1 n 30\n"
     ]
    }
   ],
   "source": [
    "print(\"aggregate_size\", aggregate_size, \"num_components\", num_components, \"n\", multilevel.finest_level.a.shape[0])\n",
    "max_caliber = 4\n",
    "nc = num_components\n",
    "num_aggregates = int(np.ceil(multilevel.finest_level.a.shape[0] / aggregate_size))\n",
    "num_coarse_vars = nc * num_aggregates\n",
    "nbhr = np.mod(hm.setup.interpolation.geometric_neighbors(aggregate_size, nc), num_coarse_vars)\n",
    "\n",
    "# Ridge regularization parameter (list of values).\n",
    "alpha = np.array([0, 0.01, 0.1, 0.1, 1])\n",
    "\n",
    "# Prepare fine and coarse test matrices.\n",
    "xc = R.dot(x)\n",
    "if repetitive:\n",
    "    x_disjoint_aggregate_t, xc_disjoint_aggregate_t = \\\n",
    "        hm.setup.sampling.get_disjoint_windows(x, xc, aggregate_size, nc, max_caliber)\n",
    "\n",
    "# Create folds.\n",
    "num_test_examples = 5\n",
    "num_examples = int(x_disjoint_aggregate_t.shape[0])\n",
    "num_ls_examples = num_examples - num_test_examples\n",
    "val_samples = int(0.2 * num_ls_examples)\n",
    "fit_samples = num_examples - val_samples - num_test_examples\n",
    "\n",
    "# Increase caliber (fitting interpolation with LS) until the test error A-norm is below the accuracy threshold.\n",
    "max_caliber = min(max_caliber, max(len(n) for n in nbhr))\n",
    "\n",
    "# Create an interpolation over the samples: a single aggregate (if repetitive) or entire domain (otherwise).\n",
    "p = hm.setup.interpolation_ls_fit.create_interpolation_least_squares(\n",
    "    x_disjoint_aggregate_t, xc_disjoint_aggregate_t, [n[:caliber] for n in nbhr],\n",
    "    alpha=alpha, fit_samples=fit_samples, val_samples=val_samples, test_samples=num_test_examples)"
   ]
  },
  {
   "cell_type": "code",
   "execution_count": 537,
   "id": "5e4745cb-0e25-443f-9810-2c621745abbf",
   "metadata": {},
   "outputs": [
    {
     "data": {
      "text/html": [
       "<div>\n",
       "<style scoped>\n",
       "    .dataframe tbody tr th:only-of-type {\n",
       "        vertical-align: middle;\n",
       "    }\n",
       "\n",
       "    .dataframe tbody tr th {\n",
       "        vertical-align: top;\n",
       "    }\n",
       "\n",
       "    .dataframe thead th {\n",
       "        text-align: right;\n",
       "    }\n",
       "</style>\n",
       "<table border=\"1\" class=\"dataframe\">\n",
       "  <thead>\n",
       "    <tr style=\"text-align: right;\">\n",
       "      <th></th>\n",
       "      <th>0</th>\n",
       "      <th>1</th>\n",
       "    </tr>\n",
       "  </thead>\n",
       "  <tbody>\n",
       "    <tr>\n",
       "      <th>0</th>\n",
       "      <td>0.51</td>\n",
       "      <td>0.49</td>\n",
       "    </tr>\n",
       "  </tbody>\n",
       "</table>\n",
       "</div>"
      ],
      "text/plain": [
       "     0    1\n",
       "0 0.51 0.49"
      ]
     },
     "metadata": {},
     "output_type": "display_data"
    },
    {
     "name": "stdout",
     "output_type": "stream",
     "text": [
      "[[ 0 14]\n",
      " [ 0  1]]\n",
      "[ 0  1 14]\n",
      "(array([0.765, 0.246]), array([0.]), 2, array([1.395, 0.207]))\n"
     ]
    }
   ],
   "source": [
    "display(pd.DataFrame(R[:num_components, :aggregate_size].todense()))\n",
    "print(nbhr)\n",
    "coarse_nbhr = np.unique(nbhr.flatten())\n",
    "print(coarse_nbhr)\n",
    "pd.DataFrame(p[:, coarse_nbhr].todense())\n",
    "\n",
    "np.concatenate((x_disjoint_aggregate_t[:, 0][:, None], xc_disjoint_aggregate_t[:, nbhr[0]]), axis=1)[:10]\n",
    "i = 0\n",
    "A, B = xc_disjoint_aggregate_t[:, nbhr[i]], x_disjoint_aggregate_t[:, i]\n",
    "print(np.linalg.lstsq(A, B, rcond=None))\n",
    "#plt.plot(x);"
   ]
  },
  {
   "cell_type": "code",
   "execution_count": 659,
   "id": "a3788050-1b74-450b-83eb-cad52b2e5abe",
   "metadata": {},
   "outputs": [
    {
     "name": "stdout",
     "output_type": "stream",
     "text": [
      "[[ 0  1]\n",
      " [ 2  3]\n",
      " [ 4  5]\n",
      " [ 6  7]\n",
      " [ 8  9]\n",
      " [10 11]\n",
      " [12 13]\n",
      " [14 15]\n",
      " [16 17]\n",
      " [18 19]]\n"
     ]
    }
   ],
   "source": [
    "sz = 10\n",
    "m = 4\n",
    "y = np.arange(2*sz).reshape(sz, 2)\n",
    "print(y)"
   ]
  },
  {
   "cell_type": "code",
   "execution_count": 660,
   "id": "0c3625d8-bac0-4b99-a985-c50838e2152f",
   "metadata": {},
   "outputs": [
    {
     "name": "stdout",
     "output_type": "stream",
     "text": [
      "1 3\n",
      "[[18 19]\n",
      " [ 0  1]\n",
      " [ 2  3]\n",
      " [ 4  5]\n",
      " [ 6  7]\n",
      " [ 8  9]\n",
      " [10 11]\n",
      " [12 13]\n",
      " [14 15]\n",
      " [16 17]\n",
      " [18 19]\n",
      " [ 0  1]\n",
      " [ 2  3]]\n",
      "[[24 28]\n",
      " [12 16]\n",
      " [20 24]\n",
      " [28 32]\n",
      " [36 40]\n",
      " [44 48]\n",
      " [52 56]\n",
      " [60 64]\n",
      " [48 52]\n",
      " [36 40]]\n"
     ]
    }
   ],
   "source": [
    "offset = (m + 1) // 2 - 1\n",
    "print(offset, m - offset)\n",
    "z = np.concatenate((y[-offset:], y, y[:m - offset - 1]))\n",
    "print(z)\n",
    "indices = np.array(list(zip(range(sz), range(m, sz + m)))).flatten()\n",
    "interval_norm = ((np.add.reduceat(z, indices[:-1])[::2]))\n",
    "print(interval_norm)"
   ]
  },
  {
   "cell_type": "code",
   "execution_count": 661,
   "id": "0eeb2f67-a1eb-437a-bf79-203613cf039f",
   "metadata": {},
   "outputs": [
    {
     "data": {
      "text/plain": [
       "array([[24, 28],\n",
       "       [12, 16],\n",
       "       [20, 24],\n",
       "       [28, 32],\n",
       "       [36, 40],\n",
       "       [44, 48],\n",
       "       [52, 56],\n",
       "       [60, 64],\n",
       "       [48, 52],\n",
       "       [36, 40]])"
      ]
     },
     "execution_count": 661,
     "metadata": {},
     "output_type": "execute_result"
    }
   ],
   "source": [
    "expected = np.array(\n",
    "    list(map(\n",
    "    lambda x: sum(x),\n",
    "    (np.array([y[j % sz] for j in range(i - (m + 1) // 2 + 1, i - (m + 1) // 2 + 1 + m)])\n",
    "        for i in range(sz)))))\n",
    "expected"
   ]
  },
  {
   "cell_type": "code",
   "execution_count": 662,
   "id": "08972f14-385e-4423-975c-cfcc1c6d8a96",
   "metadata": {},
   "outputs": [
    {
     "data": {
      "text/plain": [
       "array([[0, 0],\n",
       "       [0, 0],\n",
       "       [0, 0],\n",
       "       [0, 0],\n",
       "       [0, 0],\n",
       "       [0, 0],\n",
       "       [0, 0],\n",
       "       [0, 0],\n",
       "       [0, 0],\n",
       "       [0, 0]])"
      ]
     },
     "execution_count": 662,
     "metadata": {},
     "output_type": "execute_result"
    }
   ],
   "source": [
    "(expected - interval_norm)"
   ]
  },
  {
   "cell_type": "code",
   "execution_count": 663,
   "id": "673f1c99-cfb6-4666-acac-76089b713af0",
   "metadata": {},
   "outputs": [
    {
     "data": {
      "text/plain": [
       "1"
      ]
     },
     "execution_count": 663,
     "metadata": {},
     "output_type": "execute_result"
    }
   ],
   "source": [
    "m // 2 - 1"
   ]
  },
  {
   "cell_type": "code",
   "execution_count": 632,
   "id": "27e35d18-9b33-4046-a120-6daa5a4fdf8b",
   "metadata": {},
   "outputs": [
    {
     "data": {
      "text/plain": [
       "2"
      ]
     },
     "execution_count": 632,
     "metadata": {},
     "output_type": "execute_result"
    }
   ],
   "source": [
    "m = 5; (m + 1) // 2 - 1"
   ]
  },
  {
   "cell_type": "code",
   "execution_count": null,
   "id": "ccbf3fb1-f75e-411b-8c12-ed672c8d9c1f",
   "metadata": {},
   "outputs": [],
   "source": []
  }
 ],
 "metadata": {
  "hide_input": false,
  "kernelspec": {
   "display_name": "Python 3 (ipykernel)",
   "language": "python",
   "name": "python3"
  },
  "language_info": {
   "codemirror_mode": {
    "name": "ipython",
    "version": 3
   },
   "file_extension": ".py",
   "mimetype": "text/x-python",
   "name": "python",
   "nbconvert_exporter": "python",
   "pygments_lexer": "ipython3",
   "version": "3.9.7"
  }
 },
 "nbformat": 4,
 "nbformat_minor": 5
}
