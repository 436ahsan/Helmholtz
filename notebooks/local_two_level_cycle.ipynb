{
 "cells": [
  {
   "cell_type": "markdown",
   "id": "failing-perfume",
   "metadata": {},
   "source": [
    "# Determining $P$ Quality: Local Two-level Cycle and Mock Cycle\n",
    "For constant $k$ (repetitive equations):\n",
    "* Compare local two-level cycle and (local) mock cycle convergence rates to determine if $P$ is good or caliber needs to be increased.\n",
    "* First approximation to $P = R^T$ where $R$ = SVD coarsening.\n",
    "\n",
    "We compare $kh = 0$ with GS, 2/1 coarsening and $kh = 0.5$ with Kaczmarz, 4/2, 6/2 and 6/3 coarsening cases."
   ]
  },
  {
   "cell_type": "code",
   "execution_count": 659,
   "id": "fatal-bride",
   "metadata": {},
   "outputs": [
    {
     "name": "stdout",
     "output_type": "stream",
     "text": [
      "The autoreload extension is already loaded. To reload it, use:\n",
      "  %reload_ext autoreload\n"
     ]
    }
   ],
   "source": [
    "import collections\n",
    "import logging\n",
    "import numpy as np\n",
    "import matplotlib.pyplot as plt\n",
    "import helmholtz as hm\n",
    "import helmholtz.repetitive.coarsening_repetitive as hrc\n",
    "import pandas as pd\n",
    "import scipy.sparse\n",
    "import sklearn.metrics.pairwise\n",
    "import sys\n",
    "from numpy.ma.testutils import assert_array_almost_equal\n",
    "from scipy.linalg import eig, norm, svd\n",
    "from scipy.sparse.linalg import eigs\n",
    "from scipy import optimize\n",
    "\n",
    "%load_ext autoreload\n",
    "%autoreload 2\n",
    "\n",
    "np.set_printoptions(linewidth=500, precision=3, suppress=True, threshold=100000)\n",
    "for handler in logging.root.handlers[:]: logging.root.removeHandler(handler)\n",
    "logging.basicConfig(stream=sys.stdout, level=logging.INFO, format=\"%(levelname)-8s %(message)s\",\n",
    "                    datefmt=\"%a, %d %b %Y %H:%M:%S\")\n",
    "\n",
    "pd.set_option('display.max_rows', 500)\n",
    "pd.set_option('display.max_columns', 500)\n",
    "pd.set_option('display.width', 1000)\n",
    "pd.options.display.float_format = \"{:,.2f}\".format\n",
    "\n",
    "logger = logging.getLogger(\"main\")\n",
    "_LOGGER = logger"
   ]
  },
  {
   "cell_type": "code",
   "execution_count": 660,
   "id": "ca363760-f09e-4ea3-9c3e-81aadf98c2ab",
   "metadata": {},
   "outputs": [],
   "source": [
    "# Fixed seed for reproducible results.\n",
    "np.random.seed(1)\n",
    "\n",
    "# Domain size.\n",
    "n = 384 # 192 #96\n",
    "\n",
    "kh = 0.5\n",
    "num_sweeps = 80\n",
    "aggregate_size = 4\n",
    "num_components = 2\n",
    "\n",
    "# Repetitive framework.\n",
    "repetitive = True\n",
    "# Number of test vectors.\n",
    "num_examples = 3\n",
    "\n",
    "nu_values = np.arange(1, 7)"
   ]
  },
  {
   "cell_type": "markdown",
   "id": "181141f2-fc44-420b-8e63-598392027252",
   "metadata": {},
   "source": [
    "## Coarsening $R$ and LMC Rate"
   ]
  },
  {
   "cell_type": "code",
   "execution_count": 661,
   "id": "aa77e26a-515e-4231-b31c-54e8658360ab",
   "metadata": {},
   "outputs": [],
   "source": [
    "def mock_conv_factor(kh, n, aggregate_size, num_components, num_sweeps: int = 5):\n",
    "    # 'num_sweeps': number of relaxation sweeps to relax the TVs and to use in coarsening optimization\n",
    "    # (determined by relaxation shrinkage).\n",
    "\n",
    "    # Create fine-level matrix.\n",
    "    a = hm.linalg.helmholtz_1d_operator(kh, n)\n",
    "    # Use default Kacmzarz for kh != 0.\n",
    "    level = hm.setup.hierarchy.create_finest_level(a, relaxer=hm.solve.relax.GsRelaxer(a) if kh == 0 else None)\n",
    "    # For A*x=b cycle tests.\n",
    "    b = np.random.random((a.shape[0], ))\n",
    "\n",
    "    # Create relaxed vectors.\n",
    "    x = hm.solve.run.random_test_matrix((a.shape[0],), num_examples=num_examples)\n",
    "    b = np.zeros_like(x)\n",
    "    x, _ = hm.solve.run.run_iterative_method(level.operator, lambda x: level.relax(x, b), x, num_sweeps=num_sweeps)\n",
    "\n",
    "    # Construct coarsening on an aggregate.\n",
    "    x_aggregate_t = np.concatenate(\n",
    "        tuple(hm.linalg.get_window(x, offset, aggregate_size)\n",
    "              for offset in range(max((4 * aggregate_size) // x.shape[1], 1))), axis=1).transpose()\n",
    "\n",
    "    # Tile the same coarsening over all aggregates.\n",
    "    r, s = hm.setup.coarsening_uniform.create_coarsening(x_aggregate_t, num_components)\n",
    "    r = hrc.Coarsener(r)\n",
    "    print(\"kh\", kh, \"a\", aggregate_size, \"nc\", num_components, \"#TV sweeps\",\n",
    "          num_sweeps, \"#windows\", x_aggregate_t.shape[0], \"r\", r.asarray(), \"s\", s)\n",
    "\n",
    "    # Calculate mock cycle convergence rate.\n",
    "    m_values = np.arange(2, 11, dtype=int)\n",
    "    mock_conv = pd.DataFrame(np.array([\n",
    "        mock_conv_factor_for_domain_size(kh, r, aggregate_size, m * aggregate_size, nu_values)\n",
    "        for m in m_values]),\n",
    "            index=m_values, columns=nu_values)\n",
    "\n",
    "    return r, mock_conv\n",
    "\n",
    "def mock_conv_factor_for_domain_size(kh, r, aggregate_size, m, nu_values):\n",
    "    \"\"\"Returns thre mock cycle conv factor for a domain of size m instead of n.\"\"\"\n",
    "    # Create fine-level matrix.\n",
    "    a = hm.linalg.helmholtz_1d_operator(kh, m)\n",
    "    # Use default Kacmzarz for kh != 0.\n",
    "    level = hm.setup.hierarchy.create_finest_level(a, relaxer=hm.solve.relax.GsRelaxer(a) if kh == 0 else None)\n",
    "    r_csr = r.tile(m // aggregate_size)\n",
    "    return np.array([hm.setup.auto_setup.mock_cycle_conv_factor(level, r_csr, nu) for nu in nu_values])"
   ]
  },
  {
   "cell_type": "code",
   "execution_count": 662,
   "id": "6963d466-362f-45f2-8692-3b4bfd7d529b",
   "metadata": {},
   "outputs": [],
   "source": [
    "# cases = [\n",
    "#     (0, 2, 1, 5),      # Laplace\n",
    "#     (0.5, 4, 2, 5),    # kh=0.5, 4/2\n",
    "#     (0.5, 6, 3, 5),    # kh=0.5, 6/3\n",
    "#     (0.5, 6, 2, 5),    # kh=0.5, 6/2 (Karsten found it to be good)\n",
    "#     (0.5, 6, 2, 200),    # kh=0.5, 6/2 (Karsten found it to be good)\n",
    "# ]\n",
    "# case_conv = [mock_conv_factor(*case) for case in cases]"
   ]
  },
  {
   "cell_type": "code",
   "execution_count": 663,
   "id": "b86635a3-bf1a-4e3d-a99c-7a92eefe2c93",
   "metadata": {},
   "outputs": [
    {
     "name": "stdout",
     "output_type": "stream",
     "text": [
      "kh 0.5 a 4 nc 2 #TV sweeps 80 #windows 15 r [[ 0.495  0.578  0.531  0.373]\n",
      " [-0.638 -0.177  0.305  0.685]] s [0.072 0.037 0.002 0.   ]\n"
     ]
    },
    {
     "data": {
      "text/html": [
       "<div>\n",
       "<style scoped>\n",
       "    .dataframe tbody tr th:only-of-type {\n",
       "        vertical-align: middle;\n",
       "    }\n",
       "\n",
       "    .dataframe tbody tr th {\n",
       "        vertical-align: top;\n",
       "    }\n",
       "\n",
       "    .dataframe thead th {\n",
       "        text-align: right;\n",
       "    }\n",
       "</style>\n",
       "<table border=\"1\" class=\"dataframe\">\n",
       "  <thead>\n",
       "    <tr style=\"text-align: right;\">\n",
       "      <th></th>\n",
       "      <th>1</th>\n",
       "      <th>2</th>\n",
       "      <th>3</th>\n",
       "      <th>4</th>\n",
       "      <th>5</th>\n",
       "      <th>6</th>\n",
       "    </tr>\n",
       "  </thead>\n",
       "  <tbody>\n",
       "    <tr>\n",
       "      <th>2</th>\n",
       "      <td>0.36</td>\n",
       "      <td>0.24</td>\n",
       "      <td>0.11</td>\n",
       "      <td>0.10</td>\n",
       "      <td>0.06</td>\n",
       "      <td>0.06</td>\n",
       "    </tr>\n",
       "    <tr>\n",
       "      <th>3</th>\n",
       "      <td>0.44</td>\n",
       "      <td>0.26</td>\n",
       "      <td>0.13</td>\n",
       "      <td>0.11</td>\n",
       "      <td>0.09</td>\n",
       "      <td>0.07</td>\n",
       "    </tr>\n",
       "    <tr>\n",
       "      <th>4</th>\n",
       "      <td>0.48</td>\n",
       "      <td>0.25</td>\n",
       "      <td>0.14</td>\n",
       "      <td>0.14</td>\n",
       "      <td>0.10</td>\n",
       "      <td>0.07</td>\n",
       "    </tr>\n",
       "    <tr>\n",
       "      <th>5</th>\n",
       "      <td>0.50</td>\n",
       "      <td>0.26</td>\n",
       "      <td>0.13</td>\n",
       "      <td>0.12</td>\n",
       "      <td>0.11</td>\n",
       "      <td>0.07</td>\n",
       "    </tr>\n",
       "    <tr>\n",
       "      <th>6</th>\n",
       "      <td>0.45</td>\n",
       "      <td>0.26</td>\n",
       "      <td>0.14</td>\n",
       "      <td>0.13</td>\n",
       "      <td>0.11</td>\n",
       "      <td>0.07</td>\n",
       "    </tr>\n",
       "  </tbody>\n",
       "</table>\n",
       "</div>"
      ],
      "text/plain": [
       "     1    2    3    4    5    6\n",
       "2 0.36 0.24 0.11 0.10 0.06 0.06\n",
       "3 0.44 0.26 0.13 0.11 0.09 0.07\n",
       "4 0.48 0.25 0.14 0.14 0.10 0.07\n",
       "5 0.50 0.26 0.13 0.12 0.11 0.07\n",
       "6 0.45 0.26 0.14 0.13 0.11 0.07"
      ]
     },
     "execution_count": 663,
     "metadata": {},
     "output_type": "execute_result"
    }
   ],
   "source": [
    "r, mock_conv = mock_conv_factor(kh, n, aggregate_size, num_components, num_sweeps=num_sweeps)\n",
    "mock_conv[:5]"
   ]
  },
  {
   "cell_type": "code",
   "execution_count": 664,
   "id": "7af5f46f-194b-47ae-89bb-00702464204d",
   "metadata": {},
   "outputs": [
    {
     "data": {
      "image/png": "[encoded data removed]",
      "text/plain": [
       "<Figure size 864x288 with 2 Axes>"
      ]
     },
     "metadata": {
      "needs_background": "light"
     },
     "output_type": "display_data"
    }
   ],
   "source": [
    "fig, axs = plt.subplots(1, 2, figsize=(12, 4))\n",
    "\n",
    "a, nc, conv = aggregate_size, num_components, mock_conv\n",
    "# Mock cycle convergence vs. domain size [aggregates] and nu=1,...,6.\n",
    "#print(\"kh {} a {} nc {} num_sweeps {}\".format(kh, a, nc, num_sweeps))\n",
    "#display(conv[:10])\n",
    "\n",
    "ax_row = axs[row] if axs.ndim > 1 else axs\n",
    "error = (conv - conv.iloc[-1]) / conv.iloc[-1]\n",
    "nu_values = conv.columns\n",
    "m_values = conv.index\n",
    "\n",
    "ax = ax_row[0]\n",
    "for nu in nu_values:\n",
    "    ax.plot(m_values, conv[nu], label=\"$\\\\nu = {}$\".format(nu))\n",
    "ax.grid(True);\n",
    "ax.set_xlim([2, 10]);\n",
    "if row == len(cases) - 1:\n",
    "    ax.set_xlabel(\"Domain Size [aggregates]\")\n",
    "ax.set_ylabel(\"$kh {}$ a {} nc {} #sweeps {}\".format(kh, a, nc, num_sweeps))\n",
    "if row == 0:\n",
    "    ax.set_title(\"Mock Cycle Conv Factor\");\n",
    "ax.legend();\n",
    "\n",
    "ax = ax_row[1]\n",
    "for nu in nu_values:\n",
    "    ax.plot(m_values, error[nu], label=\"$\\\\nu = {}$\".format(nu))\n",
    "ax.grid(True);\n",
    "ax.set_xlim([2, 10]);\n",
    "if row == len(cases) - 1:\n",
    "    ax.set_xlabel(\"Domain Size [aggregates]\")\n",
    "if row == 0:\n",
    "    ax.set_title(\"Relative Deviation from Asymptotic Value\");\n",
    "ax.legend();"
   ]
  },
  {
   "cell_type": "markdown",
   "id": "07056f4a-5166-476f-a399-10d75fcf6f88",
   "metadata": {},
   "source": [
    "$3-4$ aggregates are enough to show the mock cycle rate on the full domain."
   ]
  },
  {
   "cell_type": "markdown",
   "id": "9f7ef39b-045b-4deb-8bfa-ba47ef297f88",
   "metadata": {},
   "source": [
    "## Two-level Cycle Rate with $P = R^T$"
   ]
  },
  {
   "cell_type": "code",
   "execution_count": 665,
   "id": "398b3f30-86a8-4cc0-b91b-46a1bf3cabb0",
   "metadata": {},
   "outputs": [
    {
     "name": "stdout",
     "output_type": "stream",
     "text": [
      "[[ 0.495 -0.638]\n",
      " [ 0.578 -0.177]\n",
      " [ 0.531  0.305]\n",
      " [ 0.373  0.685]]\n"
     ]
    }
   ],
   "source": [
    "p = r.tile(1).transpose()\n",
    "print(p.todense())\n",
    "# caliber = 1\n",
    "# p = hm.setup.auto_setup.create_interpolation(\n",
    "#     x_level, level.a, r, interpolation_method, aggregate_size=aggregate_size, nc=nc, max_caliber=max_caliber,\n",
    "#     neighborhood=neighborhood, repetitive=repetitive, target_error=target_error)\n",
    "# for title, x_set in (((\"all\", x),) if repetitive else ((\"fit\", x_fit), (\"test\", x_test))):\n",
    "#     error = norm(x_set - p.dot(r.dot(x_set)), axis=0) / norm(x_set, axis=0)\n",
    "#     error_a = norm(level.a.dot(x_set - p.dot(r.dot(x_set))), axis=0) / norm(x_set, axis=0)\n",
    "#     _LOGGER.info(\n",
    "#         \"{:<4s} set size {:<2d} P L2 error mean {:.2f} max {:.2f} A error mean {:.2f} max {:.2f}\".format(\n",
    "#             title, len(error), np.mean(error), np.max(error), np.mean(error_a), np.max(error_a)))\n"
   ]
  },
  {
   "cell_type": "code",
   "execution_count": 666,
   "id": "68cb832e-0fba-4062-ae58-7d53ef32ed58",
   "metadata": {},
   "outputs": [],
   "source": [
    "def create_two_level_hiearchy(kh, m, r, p):\n",
    "    a = hm.linalg.helmholtz_1d_operator(kh, m)\n",
    "    r_csr = r.tile(m // aggregate_size)\n",
    "    p_csr = hm.linalg.tile_array(p, m // aggregate_size)\n",
    "    level0 = hm.setup.hierarchy.create_finest_level(a) #, relaxer=hm.solve.relax.GsRelaxer(a) if kh == 0 else None)\n",
    "    level1 = hm.setup.hierarchy.create_coarse_level(level0.a, level0.b, r_csr, p_csr)\n",
    "    multilevel = hm.hierarchy.multilevel.Multilevel.create(level0)\n",
    "    multilevel.add(level1)\n",
    "    return multilevel\n",
    "\n",
    "def two_level_conv_factor(multilevel, nu, print_frequency: int = None):\n",
    "    level = multilevel.finest_level\n",
    "    n = level.size\n",
    "    # Test two-level cycle convergence for A*x=b with random b.\n",
    "    b = np.random.random((n, ))\n",
    "    two_level_cycle = lambda y: hm.solve.solve_cycle.solve_cycle(multilevel, 1.0, nu, 0, nu_coarsest=-1, debug=False, rhs=b).run(y)\n",
    "    residual = lambda x: b - multilevel[0].operator(x)\n",
    "    return hm.solve.run.run_iterative_method(\n",
    "        residual, two_level_cycle, np.random.random((n, )), 15, print_frequency=print_frequency)"
   ]
  },
  {
   "cell_type": "code",
   "execution_count": 667,
   "id": "7e30092d-c743-49d9-8add-7c9dd0260219",
   "metadata": {},
   "outputs": [],
   "source": [
    "# display(pd.DataFrame(multilevel[0].a.todense()[:10,:10]))\n",
    "# display(pd.DataFrame(multilevel[1].r[:10,:10].todense()))\n",
    "# display(pd.DataFrame(multilevel[1].p[:10,:10].todense()))\n",
    "# display(pd.DataFrame(multilevel[1].a[:10,:10].todense()))"
   ]
  },
  {
   "cell_type": "markdown",
   "id": "7d077610-a006-407a-94e5-2b684f01975f",
   "metadata": {},
   "source": [
    "### Solving $Ax = b$ - Convergence History"
   ]
  },
  {
   "cell_type": "code",
   "execution_count": 668,
   "id": "3c77d662-8256-4e15-a504-1253cb2c5a53",
   "metadata": {},
   "outputs": [
    {
     "name": "stdout",
     "output_type": "stream",
     "text": [
      "INFO         0 |r| 7.212e+00 RER 1.27853\n",
      "INFO         1 |r| 4.018e+00 (0.55717) RER 0.17429 (0.13632) 23.055\n",
      "INFO         2 |r| 1.293e+00 (0.32166) RER 0.05977 (0.34292) 21.625\n",
      "INFO         3 |r| 4.060e-01 (0.31409) RER 0.01894 (0.31686) 21.437\n",
      "INFO         4 |r| 9.542e-02 (0.23504) RER 0.00444 (0.23440) 21.496\n",
      "INFO         5 |r| 3.404e-02 (0.35680) RER 0.00158 (0.35625) 21.529\n",
      "INFO         6 |r| 1.067e-02 (0.31348) RER 0.00050 (0.31339) 21.535\n",
      "INFO         7 |r| 3.011e-03 (0.28209) RER 0.00014 (0.28210) 21.534\n",
      "INFO         8 |r| 9.001e-04 (0.29899) RER 0.00004 (0.29899) 21.533\n",
      "INFO         9 |r| 2.463e-04 (0.27368) RER 0.00001 (0.27368) 21.533\n",
      "INFO        10 |r| 7.029e-05 (0.28532) RER 0.00000 (0.28532) 21.533\n",
      "INFO        11 |r| 2.270e-05 (0.32294) RER 0.00000 (0.32294) 21.533\n",
      "INFO        12 |r| 6.610e-06 (0.29119) RER 0.00000 (0.29119) 21.533\n",
      "INFO        13 |r| 1.982e-06 (0.29985) RER 0.00000 (0.29985) 21.533\n",
      "INFO        14 |r| 6.132e-07 (0.30938) RER 0.00000 (0.30938) 21.533\n",
      "INFO        15 |r| 1.636e-07 (0.26682) RER 0.00000 (0.26682) 21.533\n"
     ]
    },
    {
     "data": {
      "image/png": "[encoded data removed]",
      "text/plain": [
       "<Figure size 432x288 with 1 Axes>"
      ]
     },
     "metadata": {
      "needs_background": "light"
     },
     "output_type": "display_data"
    }
   ],
   "source": [
    "nu = 2\n",
    "multilevel = create_two_level_hiearchy(kh, m, r, p)\n",
    "y, _ = two_level_conv_factor(multilevel, nu, print_frequency=1)\n",
    "\n",
    "# Asymptotic vector.\n",
    "plt.title(\"Asymptotically Slowest Vector in Two-level Cycle({},0)\".format(nu))\n",
    "e = y - multilevel[1].p.dot(multilevel[1].r.dot(y))\n",
    "plt.plot(x);\n",
    "plt.plot(e);\n",
    "plt.grid(True);"
   ]
  },
  {
   "cell_type": "markdown",
   "id": "39c86368-fead-4db8-b90e-b8506a5bd546",
   "metadata": {},
   "source": [
    "### Level Operator Spectra"
   ]
  },
  {
   "cell_type": "code",
   "execution_count": 669,
   "id": "9de77b11-7661-4ec3-ba0f-324e8cfbc582",
   "metadata": {},
   "outputs": [
    {
     "name": "stdout",
     "output_type": "stream",
     "text": [
      "0 lam [-0.018 -0.018  0.044  0.044 -0.087 -0.087  0.098  0.098  0.144  0.144 -0.163 -0.163]\n",
      "1 lam [-0.02  -0.02   0.043  0.043  0.094  0.094 -0.095 -0.095  0.135  0.135  0.167  0.167]\n"
     ]
    }
   ],
   "source": [
    "# Calculate eigenpairs at all levels.\n",
    "vl = []\n",
    "laml = []\n",
    "for l, level in enumerate(multilevel):\n",
    "    a = level.a\n",
    "    lam, v = eig(a.todense())\n",
    "    lam = np.real(lam)\n",
    "    ind = np.argsort(np.abs(lam))\n",
    "    lam = lam[ind]\n",
    "    v = v[:, ind]\n",
    "    vl.append(v)\n",
    "    laml.append(lam)\n",
    "    print(l, \"lam\", lam[:12])\n",
    "    \n",
    "# Interpolate eigenvectors at all levels to the finest level.\n",
    "num_levels = len(multilevel)\n",
    "vl_finest = []\n",
    "for l in range(num_levels):\n",
    "    v = vl[l]\n",
    "    for k in range(l, 0, -1):\n",
    "        v = multilevel[k].p.dot(v)\n",
    "    vl_finest.append(v)"
   ]
  },
  {
   "cell_type": "markdown",
   "id": "3f81778a-f1f5-436e-baef-d9f80461af0b",
   "metadata": {},
   "source": [
    "### Local Two-level Cycle Rate"
   ]
  },
  {
   "cell_type": "code",
   "execution_count": 670,
   "id": "7a01e4fc-f071-455f-9745-82f3fbee1961",
   "metadata": {},
   "outputs": [
    {
     "data": {
      "text/html": [
       "<div>\n",
       "<style scoped>\n",
       "    .dataframe tbody tr th:only-of-type {\n",
       "        vertical-align: middle;\n",
       "    }\n",
       "\n",
       "    .dataframe tbody tr th {\n",
       "        vertical-align: top;\n",
       "    }\n",
       "\n",
       "    .dataframe thead th {\n",
       "        text-align: right;\n",
       "    }\n",
       "</style>\n",
       "<table border=\"1\" class=\"dataframe\">\n",
       "  <thead>\n",
       "    <tr style=\"text-align: right;\">\n",
       "      <th></th>\n",
       "      <th>1</th>\n",
       "      <th>2</th>\n",
       "      <th>3</th>\n",
       "      <th>4</th>\n",
       "      <th>5</th>\n",
       "      <th>6</th>\n",
       "    </tr>\n",
       "  </thead>\n",
       "  <tbody>\n",
       "    <tr>\n",
       "      <th>2</th>\n",
       "      <td>0.50</td>\n",
       "      <td>0.33</td>\n",
       "      <td>0.41</td>\n",
       "      <td>0.38</td>\n",
       "      <td>0.37</td>\n",
       "      <td>0.36</td>\n",
       "    </tr>\n",
       "    <tr>\n",
       "      <th>3</th>\n",
       "      <td>0.48</td>\n",
       "      <td>0.38</td>\n",
       "      <td>0.35</td>\n",
       "      <td>0.33</td>\n",
       "      <td>0.28</td>\n",
       "      <td>0.25</td>\n",
       "    </tr>\n",
       "    <tr>\n",
       "      <th>4</th>\n",
       "      <td>0.48</td>\n",
       "      <td>0.31</td>\n",
       "      <td>0.41</td>\n",
       "      <td>0.39</td>\n",
       "      <td>0.36</td>\n",
       "      <td>0.35</td>\n",
       "    </tr>\n",
       "    <tr>\n",
       "      <th>5</th>\n",
       "      <td>0.48</td>\n",
       "      <td>0.30</td>\n",
       "      <td>0.39</td>\n",
       "      <td>0.34</td>\n",
       "      <td>0.32</td>\n",
       "      <td>0.29</td>\n",
       "    </tr>\n",
       "    <tr>\n",
       "      <th>6</th>\n",
       "      <td>0.44</td>\n",
       "      <td>0.33</td>\n",
       "      <td>0.40</td>\n",
       "      <td>0.34</td>\n",
       "      <td>0.34</td>\n",
       "      <td>0.32</td>\n",
       "    </tr>\n",
       "    <tr>\n",
       "      <th>7</th>\n",
       "      <td>0.44</td>\n",
       "      <td>0.31</td>\n",
       "      <td>0.39</td>\n",
       "      <td>0.36</td>\n",
       "      <td>0.33</td>\n",
       "      <td>0.32</td>\n",
       "    </tr>\n",
       "    <tr>\n",
       "      <th>8</th>\n",
       "      <td>0.46</td>\n",
       "      <td>0.30</td>\n",
       "      <td>0.41</td>\n",
       "      <td>0.38</td>\n",
       "      <td>0.32</td>\n",
       "      <td>0.34</td>\n",
       "    </tr>\n",
       "    <tr>\n",
       "      <th>9</th>\n",
       "      <td>0.44</td>\n",
       "      <td>0.28</td>\n",
       "      <td>0.40</td>\n",
       "      <td>0.34</td>\n",
       "      <td>0.33</td>\n",
       "      <td>0.33</td>\n",
       "    </tr>\n",
       "    <tr>\n",
       "      <th>10</th>\n",
       "      <td>0.45</td>\n",
       "      <td>0.29</td>\n",
       "      <td>0.38</td>\n",
       "      <td>0.38</td>\n",
       "      <td>0.31</td>\n",
       "      <td>0.34</td>\n",
       "    </tr>\n",
       "  </tbody>\n",
       "</table>\n",
       "</div>"
      ],
      "text/plain": [
       "      1    2    3    4    5    6\n",
       "2  0.50 0.33 0.41 0.38 0.37 0.36\n",
       "3  0.48 0.38 0.35 0.33 0.28 0.25\n",
       "4  0.48 0.31 0.41 0.39 0.36 0.35\n",
       "5  0.48 0.30 0.39 0.34 0.32 0.29\n",
       "6  0.44 0.33 0.40 0.34 0.34 0.32\n",
       "7  0.44 0.31 0.39 0.36 0.33 0.32\n",
       "8  0.46 0.30 0.41 0.38 0.32 0.34\n",
       "9  0.44 0.28 0.40 0.34 0.33 0.33\n",
       "10 0.45 0.29 0.38 0.38 0.31 0.34"
      ]
     },
     "execution_count": 670,
     "metadata": {},
     "output_type": "execute_result"
    }
   ],
   "source": [
    "# Calculate two-level cycle convergence rate vs. domain size.\n",
    "m_values = np.arange(2, 11, dtype=int)\n",
    "two_level_conv = pd.DataFrame(np.array([\n",
    "    [two_level_conv_factor(create_two_level_hiearchy(kh, m * aggregate_size, r, p), nu)[1]\n",
    "     for nu in nu_values]\n",
    "    for m in m_values]),\n",
    "        index=m_values, columns=nu_values)\n",
    "two_level_conv"
   ]
  },
  {
   "cell_type": "markdown",
   "id": "c2abc53e-644e-4aad-a66a-2d933f5a2963",
   "metadata": {},
   "source": [
    "Again, looks like $3-4$ aggregates are sufficient to get a constant two-level rate, provided that $P$ is good enough (i.e. (a) TVs are sufficiently smooth -- in this $n=96$ domain case, passed $80$ relaxation sweeps, and (b) the caliber is sufficiently large)."
   ]
  }
 ],
 "metadata": {
  "hide_input": false,
  "kernelspec": {
   "display_name": "Python 3",
   "language": "python",
   "name": "python3"
  },
  "language_info": {
   "codemirror_mode": {
    "name": "ipython",
    "version": 3
   },
   "file_extension": ".py",
   "mimetype": "text/x-python",
   "name": "python",
   "nbconvert_exporter": "python",
   "pygments_lexer": "ipython3",
   "version": "3.8.6"
  }
 },
 "nbformat": 4,
 "nbformat_minor": 5
}
