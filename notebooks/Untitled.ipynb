{
 "cells": [
  {
   "cell_type": "code",
   "execution_count": 1,
   "id": "1a06e73a-8efa-4ce1-b16f-8726e1d51fa2",
   "metadata": {},
   "outputs": [],
   "source": [
    "import numpy as np"
   ]
  },
  {
   "cell_type": "code",
   "execution_count": 2,
   "id": "a6bb0d31-cdbf-4bd9-8343-b5283ae8962e",
   "metadata": {},
   "outputs": [
    {
     "data": {
      "text/plain": [
       "array([None, None, None, 1, None, None, None, None, None], dtype=object)"
      ]
     },
     "execution_count": 2,
     "metadata": {},
     "output_type": "execute_result"
    }
   ],
   "source": [
    "n = 10\n",
    "m = 4\n",
    "\n",
    "np.array([None] * (m - 1) + [1] + [None] * (n - m - 1))"
   ]
  },
  {
   "cell_type": "code",
   "execution_count": 3,
   "id": "6de03310-2a3a-4ed6-b388-8bf37239196e",
   "metadata": {},
   "outputs": [],
   "source": [
    "a = np.array([None] * n)\n",
    "a[4] = 1"
   ]
  },
  {
   "cell_type": "code",
   "execution_count": 9,
   "id": "4b2bc8a2-3dae-454e-8443-7fe9ccebe0b6",
   "metadata": {},
   "outputs": [
    {
     "name": "stdout",
     "output_type": "stream",
     "text": [
      "a\t m\t n\t np\t \n"
     ]
    }
   ],
   "source": [
    "%who"
   ]
  },
  {
   "cell_type": "code",
   "execution_count": 13,
   "id": "37e55e0a-7cee-42c6-b8fc-a97ba1f71185",
   "metadata": {},
   "outputs": [],
   "source": [
    "x = np.random.random((3, 3, 3))\n",
    "#print(np.array2string(x, formatter={'float_kind':lambda x: \"%.2e\" % x}))"
   ]
  },
  {
   "cell_type": "code",
   "execution_count": 18,
   "id": "27543f42-b89e-4ace-897e-24af59a021a0",
   "metadata": {},
   "outputs": [
    {
     "data": {
      "text/plain": [
       "array([[[2.90215888, 2.07867802, 4.20216084],\n",
       "        [4.61962642, 3.79923853, 4.13268941],\n",
       "        [4.28192238, 3.23124316, 3.87370161]],\n",
       "\n",
       "       [[3.21210045, 2.94317942, 2.81335782],\n",
       "        [2.66218434, 3.83977085, 2.31417483],\n",
       "        [4.64738391, 3.8485405 , 3.6957227 ]],\n",
       "\n",
       "       [[4.20004962, 4.73303947, 2.58123765],\n",
       "        [3.56035965, 2.87300886, 3.24568153],\n",
       "        [4.1902943 , 2.27003524, 4.80548175]]])"
      ]
     },
     "execution_count": 18,
     "metadata": {},
     "output_type": "execute_result"
    }
   ],
   "source": [
    "#a, b = 2, 5\n",
    "a = 2\n",
    "b = 5\n",
    "\n",
    "(b - a) * x + a   # Uniformly random between a and b."
   ]
  },
  {
   "cell_type": "code",
   "execution_count": 19,
   "id": "aa5f26d9-ad01-4557-97e9-60eb195f1d3d",
   "metadata": {},
   "outputs": [
    {
     "data": {
      "text/plain": [
       "array([0., 0., 0., 0., 0., 0., 0., 0., 0., 0.])"
      ]
     },
     "execution_count": 19,
     "metadata": {},
     "output_type": "execute_result"
    }
   ],
   "source": [
    "np.floor(np.random.random((10,)))"
   ]
  },
  {
   "cell_type": "code",
   "execution_count": 23,
   "id": "d31c31ca-cbc0-423f-97b7-1639bc8c9113",
   "metadata": {},
   "outputs": [],
   "source": [
    "x = 10 * np.random.random((10,)) - 5"
   ]
  },
  {
   "cell_type": "code",
   "execution_count": 34,
   "id": "2614bab0-0835-49f0-a097-e791d67ab635",
   "metadata": {},
   "outputs": [
    {
     "data": {
      "text/plain": [
       "array([ 3.29686632,  3.72352725,  3.19103226,  4.40930506,  2.94532143,\n",
       "        2.5307549 , -1.35635286,  2.48512355, -1.58344712, -0.58499154])"
      ]
     },
     "execution_count": 34,
     "metadata": {},
     "output_type": "execute_result"
    }
   ],
   "source": [
    "x"
   ]
  },
  {
   "cell_type": "code",
   "execution_count": 35,
   "id": "bcae1c01-2901-4dca-8444-5f16303b41be",
   "metadata": {},
   "outputs": [
    {
     "data": {
      "text/plain": [
       "array([ 3.,  4.,  3.,  4.,  3.,  3., -1.,  2., -2., -1.])"
      ]
     },
     "execution_count": 35,
     "metadata": {},
     "output_type": "execute_result"
    }
   ],
   "source": [
    "np.rint(x)"
   ]
  },
  {
   "cell_type": "code",
   "execution_count": 36,
   "id": "bd96ecfe-6ecf-4cf5-a00d-08a5c768d23d",
   "metadata": {},
   "outputs": [
    {
     "data": {
      "text/plain": [
       "array([ 3.,  3.,  3.,  4.,  2.,  2., -2.,  2., -2., -1.])"
      ]
     },
     "execution_count": 36,
     "metadata": {},
     "output_type": "execute_result"
    }
   ],
   "source": [
    "np.floor(x)"
   ]
  },
  {
   "cell_type": "code",
   "execution_count": 37,
   "id": "41c8102d-3c21-4833-a9e1-89629f7642bf",
   "metadata": {},
   "outputs": [
    {
     "data": {
      "text/plain": [
       "array([ 4.,  4.,  4.,  5.,  3.,  3., -1.,  3., -1., -0.])"
      ]
     },
     "execution_count": 37,
     "metadata": {},
     "output_type": "execute_result"
    }
   ],
   "source": [
    "np.ceil(x)"
   ]
  },
  {
   "cell_type": "code",
   "execution_count": 33,
   "id": "8b67d494-94db-4b5b-ae9c-fda870248d70",
   "metadata": {},
   "outputs": [
    {
     "data": {
      "text/plain": [
       "array([ 3,  3,  3,  4,  2,  2, -1,  2, -1,  0])"
      ]
     },
     "execution_count": 33,
     "metadata": {},
     "output_type": "execute_result"
    }
   ],
   "source": [
    "x.astype(int)"
   ]
  },
  {
   "cell_type": "code",
   "execution_count": 45,
   "id": "abfc3b57-f136-4e32-b68b-60e07809e820",
   "metadata": {},
   "outputs": [],
   "source": [
    "x = np.random.random((10,))\n",
    "y = np.random.random((10,))\n",
    "z = x + 1e-16"
   ]
  },
  {
   "cell_type": "code",
   "execution_count": 40,
   "id": "9eb6c685-dd2b-46ce-8a1c-d726d300b034",
   "metadata": {},
   "outputs": [
    {
     "data": {
      "text/plain": [
       "array([0.30448709, 0.98975004, 0.61072678, 0.43605478, 0.7072129 ,\n",
       "       0.5568012 , 0.0372468 , 0.21960923, 0.43251988, 0.50452514])"
      ]
     },
     "execution_count": 40,
     "metadata": {},
     "output_type": "execute_result"
    }
   ],
   "source": [
    "x"
   ]
  },
  {
   "cell_type": "code",
   "execution_count": 41,
   "id": "33caccf1-453d-40fa-9421-4a49e0804331",
   "metadata": {},
   "outputs": [
    {
     "data": {
      "text/plain": [
       "array([0.66756052, 0.23445165, 0.80966719, 0.90339072, 0.13053885,\n",
       "       0.57537045, 0.04664301, 0.59429235, 0.86993723, 0.5024864 ])"
      ]
     },
     "execution_count": 41,
     "metadata": {},
     "output_type": "execute_result"
    }
   ],
   "source": [
    "y"
   ]
  },
  {
   "cell_type": "code",
   "execution_count": 47,
   "id": "be24c129-4cb7-451a-bc09-f831075c9130",
   "metadata": {},
   "outputs": [
    {
     "data": {
      "text/plain": [
       "False"
      ]
     },
     "execution_count": 47,
     "metadata": {},
     "output_type": "execute_result"
    }
   ],
   "source": [
    "# x and y are to be considered equal if and only if\n",
    "np.max(np.abs(x - y)) < 1e-15 # Or some small number"
   ]
  },
  {
   "cell_type": "code",
   "execution_count": 49,
   "id": "9c50f5ac-d9da-4bc7-99dd-5910de53a7f3",
   "metadata": {},
   "outputs": [
    {
     "data": {
      "text/plain": [
       "True"
      ]
     },
     "execution_count": 49,
     "metadata": {},
     "output_type": "execute_result"
    }
   ],
   "source": [
    "(x == x).all()"
   ]
  },
  {
   "cell_type": "code",
   "execution_count": 54,
   "id": "92d24e60-08fa-4867-9945-5f0d8a45d6e4",
   "metadata": {},
   "outputs": [],
   "source": [
    "x = 1 + 3e-16"
   ]
  },
  {
   "cell_type": "code",
   "execution_count": 55,
   "id": "a8520daf-8f3b-4192-be8d-7a97296a20a8",
   "metadata": {},
   "outputs": [
    {
     "data": {
      "text/plain": [
       "False"
      ]
     },
     "execution_count": 55,
     "metadata": {},
     "output_type": "execute_result"
    }
   ],
   "source": [
    "x == 1"
   ]
  },
  {
   "cell_type": "code",
   "execution_count": null,
   "id": "d59cc6d6-25e9-4bb1-a8dc-c6964aba713e",
   "metadata": {},
   "outputs": [],
   "source": []
  }
 ],
 "metadata": {
  "kernelspec": {
   "display_name": "Python 3 (ipykernel)",
   "language": "python",
   "name": "python3"
  },
  "language_info": {
   "codemirror_mode": {
    "name": "ipython",
    "version": 3
   },
   "file_extension": ".py",
   "mimetype": "text/x-python",
   "name": "python",
   "nbconvert_exporter": "python",
   "pygments_lexer": "ipython3",
   "version": "3.9.7"
  }
 },
 "nbformat": 4,
 "nbformat_minor": 5
}
